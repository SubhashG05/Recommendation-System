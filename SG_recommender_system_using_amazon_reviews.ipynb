{
  "nbformat": 4,
  "nbformat_minor": 0,
  "metadata": {
    "kernelspec": {
      "display_name": "Python 3",
      "language": "python",
      "name": "python3"
    },
    "language_info": {
      "codemirror_mode": {
        "name": "ipython",
        "version": 3
      },
      "file_extension": ".py",
      "mimetype": "text/x-python",
      "name": "python",
      "nbconvert_exporter": "python",
      "pygments_lexer": "ipython3",
      "version": "3.6.6"
    },
    "colab": {
      "name": "SG_recommender-system-using-amazon-reviews.ipynb",
      "provenance": [],
      "collapsed_sections": []
    }
  },
  "cells": [
    {
      "cell_type": "markdown",
      "metadata": {
        "id": "1dVMqtY8x5i7"
      },
      "source": [
        "# Background \n",
        "\n",
        "E-commerce companies like AMazon , flipkart uses different recommendation systems to provide suggestions to the customers.Amazon uses currently item-item collaberrative filtering, which scales to massive datasets and produces high quality recommendation system in the real time. This system is a kind of a information filtering system which seeks to predict the \"rating\" or preferences which user is interested in. \n",
        "\n",
        "![image.png](attachment:image.png)\n",
        "\n"
      ]
    },
    {
      "cell_type": "markdown",
      "metadata": {
        "id": "IY72I8fGx5i8"
      },
      "source": [
        "# Introduction to Recommendation systems\n",
        "\n",
        "In this modern world we are overloaded with data and this data provides us the useful information. But it's not possible for the user to extract the information which interest them from these data. In order to help the user to find out information about the product , recommedation systems where developed. \n",
        "\n",
        "Recommeder system creates a similarity between the user and items and exploits the similarity between user/item to make recommendations.\n",
        "\n",
        "\n",
        "What recommeder system can solve ?\n",
        "\n",
        "1. It can help the user to find the right product.\n",
        "2. It can increase the user engagement. For example, there's 40% more click on the google news due to recommendation.\n",
        "3. It helps the item providers to deliver the items to the right user.In Amazon , 35 % products get sold due to recommendation.\n",
        "4. It helps to make the contents more personalized.In Netflix most of the rented movies are from recommendations.\n"
      ]
    },
    {
      "cell_type": "markdown",
      "metadata": {
        "id": "ZQ9y4rdfx5i9"
      },
      "source": [
        "# Types of recommendations\n",
        "\n",
        "There are mainly 6 types of the recommendations systems :-\n",
        "\n",
        "1. Popularity based systems :- It works by recommeding items viewed and purchased by most people and are rated high.It is not a personalized recommendation.\n",
        "2. Classification model based:- It works by understanding the features of the user and applying the classification algorithm to decide whether the user is     interested or not in the prodcut.\n",
        "3. Content based recommedations:- It is based on the information on the contents of the item rather than on the user opinions.The main idea is if the user likes an item then he or she will like the \"other\" similar item.\n",
        "4. Collaberative Filtering:- It is based on assumption that people like things similar to other things they like, and things that are liked by other people with similar taste. it is mainly of two types:\n",
        " a) User-User \n",
        " b) Item -Item\n",
        " \n",
        "5. Hybrid Approaches:- This system approach is to combine collaborative filtering, content-based filtering, and other approaches . \n",
        "6. Association rule mining :- Association rules capture the relationships between items based on their patterns of co-occurrence across transactions.\n",
        "\n"
      ]
    },
    {
      "cell_type": "markdown",
      "metadata": {
        "id": "YPnBav5Ax5i-"
      },
      "source": [
        "# Attribute Information:\n",
        "\n",
        "● userId : Every user identified with a unique id \n",
        "\n",
        "● productId : Every product identified with a unique id \n",
        "\n",
        "● Rating : Rating of the corresponding product by the corresponding user \n",
        "\n",
        "● timestamp : Time of the rating ( ignore this column for this exercise)\n",
        "\n"
      ]
    },
    {
      "cell_type": "markdown",
      "metadata": {
        "id": "HlHPK_Vhx5i_"
      },
      "source": [
        "# Import Libraries "
      ]
    },
    {
      "cell_type": "code",
      "metadata": {
        "_cell_guid": "b1076dfc-b9ad-4769-8c92-a6c4dae69d19",
        "_uuid": "8f2839f25d086af736a60e9eeb907d3b93b6e0e5",
        "colab": {
          "base_uri": "https://localhost:8080/"
        },
        "id": "g9Qq3sq7x5jA",
        "outputId": "6a92320c-fe12-4d6f-d442-53e2ac272e09"
      },
      "source": [
        "import numpy as np # linear algebra\n",
        "import pandas as pd # data processing, CSV file I/O (e.g. pd.read_csv)\n",
        "import os\n",
        "from IPython.core.interactiveshell import InteractiveShell\n",
        "InteractiveShell.ast_node_interactivity = \"all\"\n",
        "import math\n",
        "import json\n",
        "import time\n",
        "import matplotlib.pyplot as plt\n",
        "import seaborn as sns\n",
        "from sklearn.metrics.pairwise import cosine_similarity\n",
        "from sklearn.model_selection import train_test_split\n",
        "from sklearn.neighbors import NearestNeighbors\n",
        "from sklearn.externals import joblib\n",
        "import scipy.sparse\n",
        "from scipy.sparse import csr_matrix\n",
        "from scipy.sparse.linalg import svds\n",
        "import warnings; warnings.simplefilter('ignore')\n",
        "%matplotlib inline\n",
        "\n",
        "for dirname, _, filenames in os.walk('/kaggle/input'):\n",
        "    for filename in filenames:\n",
        "        print(os.path.join(dirname, filename))\n",
        "\n",
        "# Any results you write to the current directory are saved as output."
      ],
      "execution_count": 1,
      "outputs": [
        {
          "output_type": "stream",
          "text": [
            "/usr/local/lib/python3.7/dist-packages/sklearn/externals/joblib/__init__.py:15: FutureWarning: sklearn.externals.joblib is deprecated in 0.21 and will be removed in 0.23. Please import this functionality directly from joblib, which can be installed with: pip install joblib. If this warning is raised when loading pickled models, you may need to re-serialize those models with scikit-learn 0.21+.\n",
            "  warnings.warn(msg, category=FutureWarning)\n"
          ],
          "name": "stderr"
        }
      ]
    },
    {
      "cell_type": "markdown",
      "metadata": {
        "id": "J_jVYv5Ex5jB"
      },
      "source": [
        "# Load the Dataset and Add headers"
      ]
    },
    {
      "cell_type": "code",
      "metadata": {
        "id": "1ELDbsGqx5jB"
      },
      "source": [
        "electronics_data=pd.read_csv(\"/content/ratings_Electronics (1).csv\",names=['UserId', 'ProductId','Rating','Timestamp'])"
      ],
      "execution_count": 14,
      "outputs": []
    },
    {
      "cell_type": "code",
      "metadata": {
        "colab": {
          "base_uri": "https://localhost:8080/",
          "height": 204
        },
        "id": "N-ZzGFAKx5jC",
        "outputId": "d819a9dc-0460-4550-e32c-829569bae140"
      },
      "source": [
        "# Display the data\n",
        "\n",
        "electronics_data.head()"
      ],
      "execution_count": 15,
      "outputs": [
        {
          "output_type": "execute_result",
          "data": {
            "text/html": [
              "<div>\n",
              "<style scoped>\n",
              "    .dataframe tbody tr th:only-of-type {\n",
              "        vertical-align: middle;\n",
              "    }\n",
              "\n",
              "    .dataframe tbody tr th {\n",
              "        vertical-align: top;\n",
              "    }\n",
              "\n",
              "    .dataframe thead th {\n",
              "        text-align: right;\n",
              "    }\n",
              "</style>\n",
              "<table border=\"1\" class=\"dataframe\">\n",
              "  <thead>\n",
              "    <tr style=\"text-align: right;\">\n",
              "      <th></th>\n",
              "      <th>UserId</th>\n",
              "      <th>ProductId</th>\n",
              "      <th>Rating</th>\n",
              "      <th>Timestamp</th>\n",
              "    </tr>\n",
              "  </thead>\n",
              "  <tbody>\n",
              "    <tr>\n",
              "      <th>0</th>\n",
              "      <td>AKM1MP6P0OYPR</td>\n",
              "      <td>0132793040</td>\n",
              "      <td>5.0</td>\n",
              "      <td>1.365811e+09</td>\n",
              "    </tr>\n",
              "    <tr>\n",
              "      <th>1</th>\n",
              "      <td>A2CX7LUOHB2NDG</td>\n",
              "      <td>0321732944</td>\n",
              "      <td>5.0</td>\n",
              "      <td>1.341101e+09</td>\n",
              "    </tr>\n",
              "    <tr>\n",
              "      <th>2</th>\n",
              "      <td>A2NWSAGRHCP8N5</td>\n",
              "      <td>0439886341</td>\n",
              "      <td>1.0</td>\n",
              "      <td>1.367194e+09</td>\n",
              "    </tr>\n",
              "    <tr>\n",
              "      <th>3</th>\n",
              "      <td>A2WNBOD3WNDNKT</td>\n",
              "      <td>0439886341</td>\n",
              "      <td>3.0</td>\n",
              "      <td>1.374451e+09</td>\n",
              "    </tr>\n",
              "    <tr>\n",
              "      <th>4</th>\n",
              "      <td>A1GI0U4ZRJA8WN</td>\n",
              "      <td>0439886341</td>\n",
              "      <td>1.0</td>\n",
              "      <td>1.334707e+09</td>\n",
              "    </tr>\n",
              "  </tbody>\n",
              "</table>\n",
              "</div>"
            ],
            "text/plain": [
              "           UserId   ProductId  Rating     Timestamp\n",
              "0   AKM1MP6P0OYPR  0132793040     5.0  1.365811e+09\n",
              "1  A2CX7LUOHB2NDG  0321732944     5.0  1.341101e+09\n",
              "2  A2NWSAGRHCP8N5  0439886341     1.0  1.367194e+09\n",
              "3  A2WNBOD3WNDNKT  0439886341     3.0  1.374451e+09\n",
              "4  A1GI0U4ZRJA8WN  0439886341     1.0  1.334707e+09"
            ]
          },
          "metadata": {
            "tags": []
          },
          "execution_count": 15
        }
      ]
    },
    {
      "cell_type": "code",
      "metadata": {
        "colab": {
          "base_uri": "https://localhost:8080/"
        },
        "id": "WxW0k9VMx5jD",
        "outputId": "da87a3bd-4f98-4939-c059-63d24f87dda4"
      },
      "source": [
        "#Shape of the data\n",
        "electronics_data.shape"
      ],
      "execution_count": 16,
      "outputs": [
        {
          "output_type": "execute_result",
          "data": {
            "text/plain": [
              "(232142, 4)"
            ]
          },
          "metadata": {
            "tags": []
          },
          "execution_count": 16
        }
      ]
    },
    {
      "cell_type": "code",
      "metadata": {
        "id": "LbhOjNR6x5jD"
      },
      "source": [
        "#Taking subset of the dataset\n",
        "electronics_data=electronics_data.iloc[:1048576,0:]"
      ],
      "execution_count": 17,
      "outputs": []
    },
    {
      "cell_type": "code",
      "metadata": {
        "colab": {
          "base_uri": "https://localhost:8080/"
        },
        "id": "riYZKvvbx5jE",
        "outputId": "8b27fab1-736a-43dd-a46b-e2c30f9e135c"
      },
      "source": [
        "#Check the datatypes\n",
        "electronics_data.dtypes"
      ],
      "execution_count": 18,
      "outputs": [
        {
          "output_type": "execute_result",
          "data": {
            "text/plain": [
              "UserId        object\n",
              "ProductId     object\n",
              "Rating       float64\n",
              "Timestamp    float64\n",
              "dtype: object"
            ]
          },
          "metadata": {
            "tags": []
          },
          "execution_count": 18
        }
      ]
    },
    {
      "cell_type": "code",
      "metadata": {
        "colab": {
          "base_uri": "https://localhost:8080/"
        },
        "id": "eyGcpykex5jE",
        "outputId": "194a0da2-09d1-4b12-90f7-b73c639f52b4"
      },
      "source": [
        "electronics_data.info()"
      ],
      "execution_count": 19,
      "outputs": [
        {
          "output_type": "stream",
          "text": [
            "<class 'pandas.core.frame.DataFrame'>\n",
            "RangeIndex: 232142 entries, 0 to 232141\n",
            "Data columns (total 4 columns):\n",
            " #   Column     Non-Null Count   Dtype  \n",
            "---  ------     --------------   -----  \n",
            " 0   UserId     232142 non-null  object \n",
            " 1   ProductId  232141 non-null  object \n",
            " 2   Rating     232141 non-null  float64\n",
            " 3   Timestamp  232141 non-null  float64\n",
            "dtypes: float64(2), object(2)\n",
            "memory usage: 7.1+ MB\n"
          ],
          "name": "stdout"
        }
      ]
    },
    {
      "cell_type": "code",
      "metadata": {
        "colab": {
          "base_uri": "https://localhost:8080/"
        },
        "id": "nk8RJE1Px5jE",
        "outputId": "1b1bee62-efeb-49de-fdbd-fbcfacd51009"
      },
      "source": [
        "#Five point summary \n",
        "\n",
        "electronics_data.describe()['Rating']"
      ],
      "execution_count": 24,
      "outputs": [
        {
          "output_type": "execute_result",
          "data": {
            "text/plain": [
              "count    232141.000000\n",
              "mean          4.020604\n",
              "std           1.371171\n",
              "min           1.000000\n",
              "25%           4.000000\n",
              "50%           5.000000\n",
              "75%           5.000000\n",
              "max           5.000000\n",
              "Name: Rating, dtype: float64"
            ]
          },
          "metadata": {
            "tags": []
          },
          "execution_count": 24
        }
      ]
    },
    {
      "cell_type": "code",
      "metadata": {
        "colab": {
          "base_uri": "https://localhost:8080/"
        },
        "id": "beY9CuzWx5jF",
        "outputId": "2d03d0ae-c4f8-4f52-90a4-20d1f38b2535"
      },
      "source": [
        "#Find the minimum and maximum ratings\n",
        "print('Minimum rating is: %d' %(electronics_data.Rating.min()))\n",
        "print('Maximum rating is: %d' %(electronics_data.Rating.max()))"
      ],
      "execution_count": 25,
      "outputs": [
        {
          "output_type": "stream",
          "text": [
            "Minimum rating is: 1\n",
            "Maximum rating is: 5\n"
          ],
          "name": "stdout"
        }
      ]
    },
    {
      "cell_type": "markdown",
      "metadata": {
        "id": "xhqwBLUfx5jF"
      },
      "source": [
        "The rating of the product range from 0 to 1"
      ]
    },
    {
      "cell_type": "markdown",
      "metadata": {
        "id": "0WR9Xo2zx5jG"
      },
      "source": [
        "## Handling Missing values\n"
      ]
    },
    {
      "cell_type": "code",
      "metadata": {
        "colab": {
          "base_uri": "https://localhost:8080/"
        },
        "id": "AEt-Njvyx5jG",
        "outputId": "195bbd2e-f487-46a1-a38b-14affef2d38d"
      },
      "source": [
        "#Check for missing values\n",
        "print('Number of missing values across columns: \\n',electronics_data.isnull().sum())"
      ],
      "execution_count": 26,
      "outputs": [
        {
          "output_type": "stream",
          "text": [
            "Number of missing values across columns: \n",
            " UserId       0\n",
            "ProductId    1\n",
            "Rating       1\n",
            "Timestamp    1\n",
            "dtype: int64\n"
          ],
          "name": "stdout"
        }
      ]
    },
    {
      "cell_type": "markdown",
      "metadata": {
        "id": "nzJcqoEGx5jG"
      },
      "source": [
        "## Ratings"
      ]
    },
    {
      "cell_type": "code",
      "metadata": {
        "colab": {
          "base_uri": "https://localhost:8080/",
          "height": 400
        },
        "id": "LkmRa5Pex5jH",
        "outputId": "52db8de3-cde2-4bb6-db6c-2b15156228d7"
      },
      "source": [
        "# Check the distribution of the rating\n",
        "with sns.axes_style('white'):\n",
        "    g = sns.factorplot(\"Rating\", data=electronics_data, aspect=2.0,kind='count')\n",
        "    g.set_ylabels(\"Total number of ratings\")"
      ],
      "execution_count": 27,
      "outputs": [
        {
          "output_type": "execute_result",
          "data": {
            "text/plain": [
              "<seaborn.axisgrid.FacetGrid at 0x7f891315e950>"
            ]
          },
          "metadata": {
            "tags": []
          },
          "execution_count": 27
        },
        {
          "output_type": "display_data",
          "data": {
            "image/png": "[encoded data removed]",
            "text/plain": [
              "<Figure size 720x360 with 1 Axes>"
            ]
          },
          "metadata": {
            "tags": []
          }
        }
      ]
    },
    {
      "cell_type": "markdown",
      "metadata": {
        "id": "v-VHnntMx5jH"
      },
      "source": [
        "Most of the people has given the rating of 5"
      ]
    },
    {
      "cell_type": "markdown",
      "metadata": {
        "id": "hBB8H-GEx5jH"
      },
      "source": [
        "## Unique Users and products\n"
      ]
    },
    {
      "cell_type": "code",
      "metadata": {
        "colab": {
          "base_uri": "https://localhost:8080/"
        },
        "id": "ZO67Tt0dx5jI",
        "outputId": "0fd458ae-dfda-4065-ae24-fb2c0858bfdb"
      },
      "source": [
        "print(\"Total data \")\n",
        "print(\"-\"*50)\n",
        "print(\"\\nTotal no of ratings :\",electronics_data.shape[0]) # shape[0] - no. of rows and shape[1] - no. of columns\n",
        "print(\"Total No of Users   :\", len(np.unique(electronics_data.UserId)))\n",
        "print(\"Total No of products  :\", len(np.unique(electronics_data.ProductId.astype(str)))) # .astype(str) is used to convert from type object to str"
      ],
      "execution_count": 30,
      "outputs": [
        {
          "output_type": "stream",
          "text": [
            "Total data \n",
            "--------------------------------------------------\n",
            "\n",
            "Total no of ratings : 232142\n",
            "Total No of Users   : 199428\n",
            "Total No of products  : 14636\n"
          ],
          "name": "stdout"
        }
      ]
    },
    {
      "cell_type": "markdown",
      "metadata": {
        "id": "U3eurestx5jI"
      },
      "source": [
        "## Dropping the TimeStamp Column"
      ]
    },
    {
      "cell_type": "code",
      "metadata": {
        "id": "O6o0HVHYx5jI"
      },
      "source": [
        "#Dropping the Timestamp column\n",
        "\n",
        "electronics_data.drop(['Timestamp'], axis=1,inplace=True)"
      ],
      "execution_count": 32,
      "outputs": []
    },
    {
      "cell_type": "markdown",
      "metadata": {
        "id": "Fzy-B7DQx5jJ"
      },
      "source": [
        "# Analyzing the rating"
      ]
    },
    {
      "cell_type": "code",
      "metadata": {
        "colab": {
          "base_uri": "https://localhost:8080/"
        },
        "id": "Prlix-6Px5jJ",
        "outputId": "f269abe1-95d0-4e27-f4c0-4e0fa83dd8da"
      },
      "source": [
        "#Analysis of rating given by the user \n",
        "\n",
        "no_of_rated_products_per_user = electronics_data.groupby(by='UserId')['Rating'].count().sort_values(ascending=False)\n",
        "\n",
        "no_of_rated_products_per_user.head()"
      ],
      "execution_count": 34,
      "outputs": [
        {
          "output_type": "execute_result",
          "data": {
            "text/plain": [
              "UserId\n",
              "A231WM2Z2JL0U3    206\n",
              "A5JLAU2ARJ0BO     110\n",
              "A25HBO5V8S8SEA     84\n",
              "AT2J7H5TRZM8Z      57\n",
              "A2AEZQ3DGBBLPR     55\n",
              "Name: Rating, dtype: int64"
            ]
          },
          "metadata": {
            "tags": []
          },
          "execution_count": 34
        }
      ]
    },
    {
      "cell_type": "code",
      "metadata": {
        "colab": {
          "base_uri": "https://localhost:8080/"
        },
        "id": "4uo5n0SRx5jK",
        "outputId": "afb4f901-f837-417c-e5b8-8fef03642ec8"
      },
      "source": [
        "no_of_rated_products_per_user.describe()"
      ],
      "execution_count": 35,
      "outputs": [
        {
          "output_type": "execute_result",
          "data": {
            "text/plain": [
              "count    199428.000000\n",
              "mean          1.164034\n",
              "std           0.968169\n",
              "min           0.000000\n",
              "25%           1.000000\n",
              "50%           1.000000\n",
              "75%           1.000000\n",
              "max         206.000000\n",
              "Name: Rating, dtype: float64"
            ]
          },
          "metadata": {
            "tags": []
          },
          "execution_count": 35
        }
      ]
    },
    {
      "cell_type": "code",
      "metadata": {
        "id": "n2EwKuCvx5jK"
      },
      "source": [
        "quantiles = no_of_rated_products_per_user.quantile(np.arange(0,1.01,0.01), interpolation='higher')"
      ],
      "execution_count": 36,
      "outputs": []
    },
    {
      "cell_type": "code",
      "metadata": {
        "colab": {
          "base_uri": "https://localhost:8080/",
          "height": 689
        },
        "id": "wp15aJecx5jK",
        "outputId": "f7908451-d3da-40eb-9d57-a771c4357070"
      },
      "source": [
        "plt.figure(figsize=(10,10))\n",
        "plt.title(\"Quantiles and their Values\")\n",
        "quantiles.plot()\n",
        "# quantiles with 0.05 difference\n",
        "plt.scatter(x=quantiles.index[::5], y=quantiles.values[::5], c='orange', label=\"quantiles with 0.05 intervals\")\n",
        "# quantiles with 0.25 difference\n",
        "plt.scatter(x=quantiles.index[::25], y=quantiles.values[::25], c='m', label = \"quantiles with 0.25 intervals\")\n",
        "plt.ylabel('No of ratings by user')\n",
        "plt.xlabel('Value at the quantile')\n",
        "plt.legend(loc='best')\n",
        "plt.show()"
      ],
      "execution_count": 37,
      "outputs": [
        {
          "output_type": "execute_result",
          "data": {
            "text/plain": [
              "<Figure size 720x720 with 0 Axes>"
            ]
          },
          "metadata": {
            "tags": []
          },
          "execution_count": 37
        },
        {
          "output_type": "execute_result",
          "data": {
            "text/plain": [
              "Text(0.5, 1.0, 'Quantiles and their Values')"
            ]
          },
          "metadata": {
            "tags": []
          },
          "execution_count": 37
        },
        {
          "output_type": "execute_result",
          "data": {
            "text/plain": [
              "<matplotlib.axes._subplots.AxesSubplot at 0x7f8909af6b50>"
            ]
          },
          "metadata": {
            "tags": []
          },
          "execution_count": 37
        },
        {
          "output_type": "execute_result",
          "data": {
            "text/plain": [
              "<matplotlib.collections.PathCollection at 0x7f8909aafcd0>"
            ]
          },
          "metadata": {
            "tags": []
          },
          "execution_count": 37
        },
        {
          "output_type": "execute_result",
          "data": {
            "text/plain": [
              "<matplotlib.collections.PathCollection at 0x7f8909a778d0>"
            ]
          },
          "metadata": {
            "tags": []
          },
          "execution_count": 37
        },
        {
          "output_type": "execute_result",
          "data": {
            "text/plain": [
              "Text(0, 0.5, 'No of ratings by user')"
            ]
          },
          "metadata": {
            "tags": []
          },
          "execution_count": 37
        },
        {
          "output_type": "execute_result",
          "data": {
            "text/plain": [
              "Text(0.5, 0, 'Value at the quantile')"
            ]
          },
          "metadata": {
            "tags": []
          },
          "execution_count": 37
        },
        {
          "output_type": "execute_result",
          "data": {
            "text/plain": [
              "<matplotlib.legend.Legend at 0x7f8909a07690>"
            ]
          },
          "metadata": {
            "tags": []
          },
          "execution_count": 37
        },
        {
          "output_type": "display_data",
          "data": {
            "image/png": "[encoded data removed]",
            "text/plain": [
              "<Figure size 720x720 with 1 Axes>"
            ]
          },
          "metadata": {
            "tags": [],
            "needs_background": "light"
          }
        }
      ]
    },
    {
      "cell_type": "code",
      "metadata": {
        "colab": {
          "base_uri": "https://localhost:8080/"
        },
        "id": "NTWh3BDnx5jL",
        "outputId": "3b1014af-7cb1-45fa-8350-6a869a3f591b"
      },
      "source": [
        "print('\\n No of rated product more than 50 per user : {}\\n'.format(sum(no_of_rated_products_per_user >= 50)) )"
      ],
      "execution_count": 38,
      "outputs": [
        {
          "output_type": "stream",
          "text": [
            "\n",
            " No of rated product more than 50 per user : 8\n",
            "\n"
          ],
          "name": "stdout"
        }
      ]
    },
    {
      "cell_type": "markdown",
      "metadata": {
        "id": "qCkK8v06x5jL"
      },
      "source": [
        "# Popularity Based Recommendation\n",
        "\n",
        "Popularity based recommendation system works with the trend. It basically uses the items which are in trend right now. For example, if any product which is usually bought by every new user then there are chances that it may suggest that item to the user who just signed up.\n",
        "\n",
        "The problems with popularity based recommendation system is that the personalization is not available with this method i.e. even though you know the behaviour of the user you cannot recommend items accordingly.\n",
        "\n",
        "![image.png](attachment:image.png)"
      ]
    },
    {
      "cell_type": "code",
      "metadata": {
        "id": "z9GHG7D5x5jM"
      },
      "source": [
        "#Getting the new dataframe which contains users who has given 50 or more ratings\n",
        "\n",
        "new_df=electronics_data.groupby(\"ProductId\").filter(lambda x:x['Rating'].count() >=50)"
      ],
      "execution_count": 40,
      "outputs": []
    },
    {
      "cell_type": "code",
      "metadata": {
        "colab": {
          "base_uri": "https://localhost:8080/",
          "height": 339
        },
        "id": "TrmKjB10x5jM",
        "outputId": "f3915a49-9871-4fd0-c184-44c36383a771"
      },
      "source": [
        "no_of_ratings_per_product = new_df.groupby(by='ProductId')['Rating'].count().sort_values(ascending=False)\n",
        "\n",
        "fig = plt.figure(figsize=plt.figaspect(.5))\n",
        "ax = plt.gca()\n",
        "plt.plot(no_of_ratings_per_product.values)\n",
        "plt.title('# RATINGS per Product')\n",
        "plt.xlabel('Product')\n",
        "plt.ylabel('No of ratings per product')\n",
        "ax.set_xticklabels([])\n",
        "\n",
        "plt.show()"
      ],
      "execution_count": 41,
      "outputs": [
        {
          "output_type": "execute_result",
          "data": {
            "text/plain": [
              "[<matplotlib.lines.Line2D at 0x7f890850d610>]"
            ]
          },
          "metadata": {
            "tags": []
          },
          "execution_count": 41
        },
        {
          "output_type": "execute_result",
          "data": {
            "text/plain": [
              "Text(0.5, 1.0, '# RATINGS per Product')"
            ]
          },
          "metadata": {
            "tags": []
          },
          "execution_count": 41
        },
        {
          "output_type": "execute_result",
          "data": {
            "text/plain": [
              "Text(0.5, 0, 'Product')"
            ]
          },
          "metadata": {
            "tags": []
          },
          "execution_count": 41
        },
        {
          "output_type": "execute_result",
          "data": {
            "text/plain": [
              "Text(0, 0.5, 'No of ratings per product')"
            ]
          },
          "metadata": {
            "tags": []
          },
          "execution_count": 41
        },
        {
          "output_type": "execute_result",
          "data": {
            "text/plain": [
              "[]"
            ]
          },
          "metadata": {
            "tags": []
          },
          "execution_count": 41
        },
        {
          "output_type": "display_data",
          "data": {
            "image/png": "[encoded data removed]",
            "text/plain": [
              "<Figure size 576x288 with 1 Axes>"
            ]
          },
          "metadata": {
            "tags": [],
            "needs_background": "light"
          }
        }
      ]
    },
    {
      "cell_type": "code",
      "metadata": {
        "colab": {
          "base_uri": "https://localhost:8080/"
        },
        "id": "yPtH2RN2x5jN",
        "outputId": "b3064355-e95c-451d-df7a-bac1ef913b90"
      },
      "source": [
        "#Average rating of the product \n",
        "\n",
        "new_df.groupby('ProductId')['Rating'].mean().head()"
      ],
      "execution_count": 42,
      "outputs": [
        {
          "output_type": "execute_result",
          "data": {
            "text/plain": [
              "ProductId\n",
              "0972683275    4.470980\n",
              "1400501466    3.560000\n",
              "1400501520    4.243902\n",
              "1400501776    3.884892\n",
              "1400532620    3.684211\n",
              "Name: Rating, dtype: float64"
            ]
          },
          "metadata": {
            "tags": []
          },
          "execution_count": 42
        }
      ]
    },
    {
      "cell_type": "code",
      "metadata": {
        "colab": {
          "base_uri": "https://localhost:8080/"
        },
        "id": "BKc_RO_Qx5jN",
        "outputId": "85587cbb-6dae-4569-bdff-bb1cdd7dd967"
      },
      "source": [
        "new_df.groupby('ProductId')['Rating'].mean().sort_values(ascending=False).head()"
      ],
      "execution_count": 44,
      "outputs": [
        {
          "output_type": "execute_result",
          "data": {
            "text/plain": [
              "ProductId\n",
              "B000053HC5    4.945783\n",
              "B00005LE76    4.879310\n",
              "B00006I53W    4.859551\n",
              "B00005UKBD    4.858974\n",
              "B000053HH5    4.841499\n",
              "Name: Rating, dtype: float64"
            ]
          },
          "metadata": {
            "tags": []
          },
          "execution_count": 44
        }
      ]
    },
    {
      "cell_type": "code",
      "metadata": {
        "colab": {
          "base_uri": "https://localhost:8080/"
        },
        "id": "X_mzYHXqx5jN",
        "outputId": "4647055d-4a69-46bc-e435-f1189cbb0075"
      },
      "source": [
        "#Total no of rating for product\n",
        "\n",
        "new_df.groupby('ProductId')['Rating'].count().sort_values(ascending=False).head()"
      ],
      "execution_count": 45,
      "outputs": [
        {
          "output_type": "execute_result",
          "data": {
            "text/plain": [
              "ProductId\n",
              "B00007E7JU    3523\n",
              "B00004ZCJE    2547\n",
              "B00001P4ZH    2075\n",
              "B00007E7C8    1962\n",
              "B00007EDZG    1735\n",
              "Name: Rating, dtype: int64"
            ]
          },
          "metadata": {
            "tags": []
          },
          "execution_count": 45
        }
      ]
    },
    {
      "cell_type": "code",
      "metadata": {
        "id": "UQk7CXD8x5jO"
      },
      "source": [
        "ratings_mean_count = pd.DataFrame(new_df.groupby('ProductId')['Rating'].mean())"
      ],
      "execution_count": 46,
      "outputs": []
    },
    {
      "cell_type": "code",
      "metadata": {
        "id": "TyFSSS_vx5jO"
      },
      "source": [
        "ratings_mean_count['rating_counts'] = pd.DataFrame(new_df.groupby('ProductId')['Rating'].count())"
      ],
      "execution_count": 48,
      "outputs": []
    },
    {
      "cell_type": "code",
      "metadata": {
        "colab": {
          "base_uri": "https://localhost:8080/",
          "height": 235
        },
        "id": "2VEKgFr5x5jO",
        "outputId": "b617c8c2-6abd-42e3-cde0-b3c1ae7fc8a4"
      },
      "source": [
        "ratings_mean_count.head()"
      ],
      "execution_count": 49,
      "outputs": [
        {
          "output_type": "execute_result",
          "data": {
            "text/html": [
              "<div>\n",
              "<style scoped>\n",
              "    .dataframe tbody tr th:only-of-type {\n",
              "        vertical-align: middle;\n",
              "    }\n",
              "\n",
              "    .dataframe tbody tr th {\n",
              "        vertical-align: top;\n",
              "    }\n",
              "\n",
              "    .dataframe thead th {\n",
              "        text-align: right;\n",
              "    }\n",
              "</style>\n",
              "<table border=\"1\" class=\"dataframe\">\n",
              "  <thead>\n",
              "    <tr style=\"text-align: right;\">\n",
              "      <th></th>\n",
              "      <th>Rating</th>\n",
              "      <th>rating_counts</th>\n",
              "    </tr>\n",
              "    <tr>\n",
              "      <th>ProductId</th>\n",
              "      <th></th>\n",
              "      <th></th>\n",
              "    </tr>\n",
              "  </thead>\n",
              "  <tbody>\n",
              "    <tr>\n",
              "      <th>0972683275</th>\n",
              "      <td>4.470980</td>\n",
              "      <td>1051</td>\n",
              "    </tr>\n",
              "    <tr>\n",
              "      <th>1400501466</th>\n",
              "      <td>3.560000</td>\n",
              "      <td>250</td>\n",
              "    </tr>\n",
              "    <tr>\n",
              "      <th>1400501520</th>\n",
              "      <td>4.243902</td>\n",
              "      <td>82</td>\n",
              "    </tr>\n",
              "    <tr>\n",
              "      <th>1400501776</th>\n",
              "      <td>3.884892</td>\n",
              "      <td>139</td>\n",
              "    </tr>\n",
              "    <tr>\n",
              "      <th>1400532620</th>\n",
              "      <td>3.684211</td>\n",
              "      <td>171</td>\n",
              "    </tr>\n",
              "  </tbody>\n",
              "</table>\n",
              "</div>"
            ],
            "text/plain": [
              "              Rating  rating_counts\n",
              "ProductId                          \n",
              "0972683275  4.470980           1051\n",
              "1400501466  3.560000            250\n",
              "1400501520  4.243902             82\n",
              "1400501776  3.884892            139\n",
              "1400532620  3.684211            171"
            ]
          },
          "metadata": {
            "tags": []
          },
          "execution_count": 49
        }
      ]
    },
    {
      "cell_type": "code",
      "metadata": {
        "colab": {
          "base_uri": "https://localhost:8080/"
        },
        "id": "tAQsvYbIx5jO",
        "outputId": "08656f42-fc40-4ec9-8f60-cc4afb3d04bb"
      },
      "source": [
        "ratings_mean_count['rating_counts'].max()"
      ],
      "execution_count": 50,
      "outputs": [
        {
          "output_type": "execute_result",
          "data": {
            "text/plain": [
              "3523"
            ]
          },
          "metadata": {
            "tags": []
          },
          "execution_count": 50
        }
      ]
    },
    {
      "cell_type": "code",
      "metadata": {
        "colab": {
          "base_uri": "https://localhost:8080/",
          "height": 391
        },
        "id": "I6JmxqM6x5jP",
        "outputId": "43684445-1484-41fa-bd7e-f141671b0aeb"
      },
      "source": [
        "plt.figure(figsize=(8,6))\n",
        "plt.rcParams['patch.force_edgecolor'] = True\n",
        "ratings_mean_count['rating_counts'].hist(bins=50)"
      ],
      "execution_count": 51,
      "outputs": [
        {
          "output_type": "execute_result",
          "data": {
            "text/plain": [
              "<Figure size 576x432 with 0 Axes>"
            ]
          },
          "metadata": {
            "tags": []
          },
          "execution_count": 51
        },
        {
          "output_type": "execute_result",
          "data": {
            "text/plain": [
              "<matplotlib.axes._subplots.AxesSubplot at 0x7f8909752a90>"
            ]
          },
          "metadata": {
            "tags": []
          },
          "execution_count": 51
        },
        {
          "output_type": "display_data",
          "data": {
            "image/png": "[encoded data removed]",
            "text/plain": [
              "<Figure size 576x432 with 1 Axes>"
            ]
          },
          "metadata": {
            "tags": [],
            "needs_background": "light"
          }
        }
      ]
    },
    {
      "cell_type": "code",
      "metadata": {
        "colab": {
          "base_uri": "https://localhost:8080/",
          "height": 391
        },
        "id": "CsiCwtZ-x5jP",
        "outputId": "faba922f-1fe8-434d-8cdf-b2d7b82da069"
      },
      "source": [
        "plt.figure(figsize=(8,6))\n",
        "plt.rcParams['patch.force_edgecolor'] = True\n",
        "ratings_mean_count['Rating'].hist(bins=50)"
      ],
      "execution_count": 52,
      "outputs": [
        {
          "output_type": "execute_result",
          "data": {
            "text/plain": [
              "<Figure size 576x432 with 0 Axes>"
            ]
          },
          "metadata": {
            "tags": []
          },
          "execution_count": 52
        },
        {
          "output_type": "execute_result",
          "data": {
            "text/plain": [
              "<matplotlib.axes._subplots.AxesSubplot at 0x7f8917969150>"
            ]
          },
          "metadata": {
            "tags": []
          },
          "execution_count": 52
        },
        {
          "output_type": "display_data",
          "data": {
            "image/png": "[encoded data removed]",
            "text/plain": [
              "<Figure size 576x432 with 1 Axes>"
            ]
          },
          "metadata": {
            "tags": [],
            "needs_background": "light"
          }
        }
      ]
    },
    {
      "cell_type": "code",
      "metadata": {
        "colab": {
          "base_uri": "https://localhost:8080/",
          "height": 475
        },
        "id": "Y9DnTaQox5jQ",
        "outputId": "0f329151-673a-46ad-f81c-e72728aed4db"
      },
      "source": [
        "plt.figure(figsize=(8,6))\n",
        "plt.rcParams['patch.force_edgecolor'] = True\n",
        "sns.jointplot(x='Rating', y='rating_counts', data=ratings_mean_count, alpha=0.4)"
      ],
      "execution_count": 53,
      "outputs": [
        {
          "output_type": "execute_result",
          "data": {
            "text/plain": [
              "<Figure size 576x432 with 0 Axes>"
            ]
          },
          "metadata": {
            "tags": []
          },
          "execution_count": 53
        },
        {
          "output_type": "execute_result",
          "data": {
            "text/plain": [
              "<seaborn.axisgrid.JointGrid at 0x7f89084883d0>"
            ]
          },
          "metadata": {
            "tags": []
          },
          "execution_count": 53
        },
        {
          "output_type": "display_data",
          "data": {
            "text/plain": [
              "<Figure size 576x432 with 0 Axes>"
            ]
          },
          "metadata": {
            "tags": []
          }
        },
        {
          "output_type": "display_data",
          "data": {
            "image/png": "[encoded data removed]",
            "text/plain": [
              "<Figure size 432x432 with 3 Axes>"
            ]
          },
          "metadata": {
            "tags": [],
            "needs_background": "light"
          }
        }
      ]
    },
    {
      "cell_type": "code",
      "metadata": {
        "colab": {
          "base_uri": "https://localhost:8080/",
          "height": 354
        },
        "id": "gmAEhwDNx5jQ",
        "outputId": "aef1f782-d4c9-4b8c-a758-78f940e40f78"
      },
      "source": [
        "popular_products = pd.DataFrame(new_df.groupby('ProductId')['Rating'].count())\n",
        "most_popular = popular_products.sort_values('Rating', ascending=False)\n",
        "most_popular.head(30).plot(kind = \"bar\")"
      ],
      "execution_count": 55,
      "outputs": [
        {
          "output_type": "execute_result",
          "data": {
            "text/plain": [
              "<matplotlib.axes._subplots.AxesSubplot at 0x7f890814f6d0>"
            ]
          },
          "metadata": {
            "tags": []
          },
          "execution_count": 55
        },
        {
          "output_type": "display_data",
          "data": {
            "image/png": "[encoded data removed]",
            "text/plain": [
              "<Figure size 432x288 with 1 Axes>"
            ]
          },
          "metadata": {
            "tags": [],
            "needs_background": "light"
          }
        }
      ]
    },
    {
      "cell_type": "markdown",
      "metadata": {
        "id": "c-MXHHynx5jQ"
      },
      "source": [
        "# Collaberative filtering (Item-Item recommedation)\n",
        "\n",
        "Collaborative filtering is commonly used for recommender systems. These techniques aim to fill in the missing entries of a user-item association matrix. We are going to use collaborative filtering (CF) approach.\n",
        "CF is based on the idea that the best recommendations come from people who have similar tastes. In other words, it uses historical item ratings of like-minded people to predict how someone would rate an item.Collaborative filtering has two sub-categories that are generally called memory based and model-based approaches.\n",
        "\n"
      ]
    },
    {
      "cell_type": "code",
      "metadata": {
        "colab": {
          "base_uri": "https://localhost:8080/"
        },
        "id": "gfPIRHtF9eMf",
        "outputId": "3fc44ffc-0221-4799-94e6-130f7937578a"
      },
      "source": [
        "!pip install surprise"
      ],
      "execution_count": 57,
      "outputs": [
        {
          "output_type": "stream",
          "text": [
            "Collecting surprise\n",
            "  Downloading https://files.pythonhosted.org/packages/61/de/e5cba8682201fcf9c3719a6fdda95693468ed061945493dea2dd37c5618b/surprise-0.1-py2.py3-none-any.whl\n",
            "Collecting scikit-surprise\n",
            "\u001b[?25l  Downloading https://files.pythonhosted.org/packages/97/37/5d334adaf5ddd65da99fc65f6507e0e4599d092ba048f4302fe8775619e8/scikit-surprise-1.1.1.tar.gz (11.8MB)\n",
            "\u001b[K     |████████████████████████████████| 11.8MB 306kB/s \n",
            "\u001b[?25hRequirement already satisfied: joblib>=0.11 in /usr/local/lib/python3.7/dist-packages (from scikit-surprise->surprise) (1.0.1)\n",
            "Requirement already satisfied: numpy>=1.11.2 in /usr/local/lib/python3.7/dist-packages (from scikit-surprise->surprise) (1.19.5)\n",
            "Requirement already satisfied: scipy>=1.0.0 in /usr/local/lib/python3.7/dist-packages (from scikit-surprise->surprise) (1.4.1)\n",
            "Requirement already satisfied: six>=1.10.0 in /usr/local/lib/python3.7/dist-packages (from scikit-surprise->surprise) (1.15.0)\n",
            "Building wheels for collected packages: scikit-surprise\n",
            "  Building wheel for scikit-surprise (setup.py) ... \u001b[?25l\u001b[?25hdone\n",
            "  Created wheel for scikit-surprise: filename=scikit_surprise-1.1.1-cp37-cp37m-linux_x86_64.whl size=1617623 sha256=b328c86d319610676dcd6bd35f82454df3216bb79c22a62cf358dde22ceb45c9\n",
            "  Stored in directory: /root/.cache/pip/wheels/78/9c/3d/41b419c9d2aff5b6e2b4c0fc8d25c538202834058f9ed110d0\n",
            "Successfully built scikit-surprise\n",
            "Installing collected packages: scikit-surprise, surprise\n",
            "Successfully installed scikit-surprise-1.1.1 surprise-0.1\n"
          ],
          "name": "stdout"
        }
      ]
    },
    {
      "cell_type": "code",
      "metadata": {
        "id": "5vPe4wAex5jR"
      },
      "source": [
        "from surprise import KNNWithMeans\n",
        "from surprise import Dataset\n",
        "from surprise import accuracy\n",
        "from surprise import Reader\n",
        "import os\n",
        "from surprise.model_selection import train_test_split"
      ],
      "execution_count": 58,
      "outputs": []
    },
    {
      "cell_type": "code",
      "metadata": {
        "id": "MYEb3TZSx5jR"
      },
      "source": [
        "#Reading the dataset\n",
        "reader = Reader(rating_scale=(1, 5))\n",
        "data = Dataset.load_from_df(new_df,reader)"
      ],
      "execution_count": 59,
      "outputs": []
    },
    {
      "cell_type": "code",
      "metadata": {
        "id": "jIsCUT7ax5jS"
      },
      "source": [
        "#Splitting the dataset\n",
        "trainset, testset = train_test_split(data, test_size=0.3,random_state=10)"
      ],
      "execution_count": 60,
      "outputs": []
    },
    {
      "cell_type": "code",
      "metadata": {
        "colab": {
          "base_uri": "https://localhost:8080/"
        },
        "id": "qC9AxQ6Xx5jS",
        "outputId": "2ec95e98-42a9-4a1a-c2ca-d5aecb2b15f5"
      },
      "source": [
        "# Use user_based true/false to switch between user-based or item-based collaborative filtering\n",
        "algo = KNNWithMeans(k=5, sim_options={'name': 'pearson_baseline', 'user_based': False})\n",
        "algo.fit(trainset)"
      ],
      "execution_count": 61,
      "outputs": [
        {
          "output_type": "stream",
          "text": [
            "Estimating biases using als...\n",
            "Computing the pearson_baseline similarity matrix...\n",
            "Done computing similarity matrix.\n"
          ],
          "name": "stdout"
        },
        {
          "output_type": "execute_result",
          "data": {
            "text/plain": [
              "<surprise.prediction_algorithms.knns.KNNWithMeans at 0x7f8908058fd0>"
            ]
          },
          "metadata": {
            "tags": []
          },
          "execution_count": 61
        }
      ]
    },
    {
      "cell_type": "code",
      "metadata": {
        "id": "h0eBCJfwx5jS"
      },
      "source": [
        "# run the trained model against the testset\n",
        "test_pred = algo.test(testset)"
      ],
      "execution_count": 62,
      "outputs": []
    },
    {
      "cell_type": "code",
      "metadata": {
        "_kg_hide-output": true,
        "colab": {
          "base_uri": "https://localhost:8080/"
        },
        "id": "eO7Of-ETx5jT",
        "outputId": "02b247c9-3185-4bbc-9f60-b1cf318a226c"
      },
      "source": [
        "test_pred"
      ],
      "execution_count": 63,
      "outputs": [
        {
          "output_type": "execute_result",
          "data": {
            "text/plain": [
              "[Prediction(uid='A3PV7RB4W10GEH', iid='B00006B9WE', r_ui=5.0, est=4.109775910919142, details={'was_impossible': True, 'reason': 'User and/or item is unknown.'}),\n",
              " Prediction(uid='A19TXUHTAK8AEB', iid='B00007EDZG', r_ui=5.0, est=4.401477832512315, details={'actual_k': 0, 'was_impossible': False}),\n",
              " Prediction(uid='A1S43DHDHEL5ZA', iid='B00005ML7Q', r_ui=5.0, est=4.109775910919142, details={'was_impossible': True, 'reason': 'User and/or item is unknown.'}),\n",
              " Prediction(uid='A139OR7PEGPTCM', iid='B000068O3L', r_ui=5.0, est=4.109775910919142, details={'was_impossible': True, 'reason': 'User and/or item is unknown.'}),\n",
              " Prediction(uid='AM71J6TKCEWC9', iid='B00006HYJ5', r_ui=4.0, est=4.109775910919142, details={'was_impossible': True, 'reason': 'User and/or item is unknown.'}),\n",
              " Prediction(uid='A23AQMACI410EV', iid='B000058E2B', r_ui=5.0, est=4.109775910919142, details={'was_impossible': True, 'reason': 'User and/or item is unknown.'}),\n",
              " Prediction(uid='ACWFQW8UD49MA', iid='B000067RC5', r_ui=5.0, est=4.109775910919142, details={'was_impossible': True, 'reason': 'User and/or item is unknown.'}),\n",
              " Prediction(uid='A36R3NPGHIP0KI', iid='B00000K2YR', r_ui=4.0, est=4.109775910919142, details={'was_impossible': True, 'reason': 'User and/or item is unknown.'}),\n",
              " Prediction(uid='A3EIE5PV2HTK1D', iid='B00007E7JU', r_ui=5.0, est=4.558111380145278, details={'actual_k': 0, 'was_impossible': False}),\n",
              " Prediction(uid='A30S64ZMQZ0MUQ', iid='B00006JPA1', r_ui=5.0, est=4.109775910919142, details={'was_impossible': True, 'reason': 'User and/or item is unknown.'}),\n",
              " Prediction(uid='AL23AF4JOLFL6', iid='B00007E7C8', r_ui=5.0, est=4.109775910919142, details={'was_impossible': True, 'reason': 'User and/or item is unknown.'}),\n",
              " Prediction(uid='A24XOK0FRKBM74', iid='B00007FGU7', r_ui=3.0, est=4.109775910919142, details={'was_impossible': True, 'reason': 'User and/or item is unknown.'}),\n",
              " Prediction(uid='ACV94A9S1PPG5', iid='B00000JCTO', r_ui=4.0, est=4.109775910919142, details={'was_impossible': True, 'reason': 'User and/or item is unknown.'}),\n",
              " Prediction(uid='ARJWXUAL7AORW', iid='B00007E7C8', r_ui=5.0, est=4.109775910919142, details={'was_impossible': True, 'reason': 'User and/or item is unknown.'}),\n",
              " Prediction(uid='ASDPTCEGEINUZ', iid='B00006JPRQ', r_ui=5.0, est=4.109775910919142, details={'was_impossible': True, 'reason': 'User and/or item is unknown.'}),\n",
              " Prediction(uid='A1BGVZHNF2R6B1', iid='B00004TDMX', r_ui=5.0, est=4.109775910919142, details={'was_impossible': True, 'reason': 'User and/or item is unknown.'}),\n",
              " Prediction(uid='AUVMF3SOW2TW0', iid='B00005T39Y', r_ui=4.0, est=4.109775910919142, details={'was_impossible': True, 'reason': 'User and/or item is unknown.'}),\n",
              " Prediction(uid='A325GJ8CS8VOG3', iid='B00006HOLO', r_ui=4.0, est=4.109775910919142, details={'was_impossible': True, 'reason': 'User and/or item is unknown.'}),\n",
              " Prediction(uid='A1YDI2SNP4CISY', iid='B00005KB24', r_ui=5.0, est=5, details={'actual_k': 1, 'was_impossible': False}),\n",
              " Prediction(uid='AAWPHUIIKIL0K', iid='B00007E816', r_ui=5.0, est=4.109775910919142, details={'was_impossible': True, 'reason': 'User and/or item is unknown.'}),\n",
              " Prediction(uid='A2S0C8GZ0YEBJ0', iid='B00002EQCS', r_ui=5.0, est=4.109775910919142, details={'was_impossible': True, 'reason': 'User and/or item is unknown.'}),\n",
              " Prediction(uid='A8ABHQLDVMAKO', iid='B00007GQLS', r_ui=5.0, est=4.109775910919142, details={'was_impossible': True, 'reason': 'User and/or item is unknown.'}),\n",
              " Prediction(uid='A1EXAD02NRN74S', iid='B00004Y3UY', r_ui=5.0, est=4.109775910919142, details={'was_impossible': True, 'reason': 'User and/or item is unknown.'}),\n",
              " Prediction(uid='A1VO0WPLN8BKYV', iid='B00007E7JU', r_ui=4.0, est=4.558111380145278, details={'actual_k': 0, 'was_impossible': False}),\n",
              " Prediction(uid='A8WE6V1EO0AI4', iid='B00004SB92', r_ui=3.0, est=4.109775910919142, details={'was_impossible': True, 'reason': 'User and/or item is unknown.'}),\n",
              " Prediction(uid='A3J701JXQR6C45', iid='B000068P8W', r_ui=3.0, est=4.109775910919142, details={'was_impossible': True, 'reason': 'User and/or item is unknown.'}),\n",
              " Prediction(uid='A346H2GZ3WX2WR', iid='B00005QEYI', r_ui=4.0, est=4.109775910919142, details={'was_impossible': True, 'reason': 'User and/or item is unknown.'}),\n",
              " Prediction(uid='ASEBZLBIKPK3L', iid='B00001OWYM', r_ui=5.0, est=4.109775910919142, details={'was_impossible': True, 'reason': 'User and/or item is unknown.'}),\n",
              " Prediction(uid='A2I0Q87CT0D3GK', iid='B00005AB9R', r_ui=5.0, est=4.109775910919142, details={'was_impossible': True, 'reason': 'User and/or item is unknown.'}),\n",
              " Prediction(uid='AVSSPL22ZWLT7', iid='B0000645RH', r_ui=5.0, est=4.109775910919142, details={'was_impossible': True, 'reason': 'User and/or item is unknown.'}),\n",
              " Prediction(uid='A29LALMN0S0VQ7', iid='B00004VXNI', r_ui=5.0, est=4.109775910919142, details={'was_impossible': True, 'reason': 'User and/or item is unknown.'}),\n",
              " Prediction(uid='A24FQNZ2ZCP9UH', iid='B00000J1SC', r_ui=5.0, est=4.109775910919142, details={'was_impossible': True, 'reason': 'User and/or item is unknown.'}),\n",
              " Prediction(uid='AK1X6JAJ2L389', iid='B00005T3GH', r_ui=1.0, est=4.109775910919142, details={'was_impossible': True, 'reason': 'User and/or item is unknown.'}),\n",
              " Prediction(uid='AO5DDG05DHVIC', iid='B00004WCID', r_ui=5.0, est=4.109775910919142, details={'was_impossible': True, 'reason': 'User and/or item is unknown.'}),\n",
              " Prediction(uid='A1FI1SGWR9ZZF2', iid='B000063EJW', r_ui=5.0, est=4.109775910919142, details={'was_impossible': True, 'reason': 'User and/or item is unknown.'}),\n",
              " Prediction(uid='A1D5W03VQ2BUW4', iid='B00004TWM6', r_ui=4.0, est=4.109775910919142, details={'was_impossible': True, 'reason': 'User and/or item is unknown.'}),\n",
              " Prediction(uid='A2P34LMUAY9DCG', iid='B00005RG4O', r_ui=5.0, est=4.109775910919142, details={'was_impossible': True, 'reason': 'User and/or item is unknown.'}),\n",
              " Prediction(uid='A16HP67BY6WCE8', iid='B000063TJY', r_ui=4.0, est=4.109775910919142, details={'was_impossible': True, 'reason': 'User and/or item is unknown.'}),\n",
              " Prediction(uid='A1B69HCXME3NA8', iid='B00005OTG6', r_ui=4.0, est=4.109775910919142, details={'was_impossible': True, 'reason': 'User and/or item is unknown.'}),\n",
              " Prediction(uid='A3DRDPP5FRAIX9', iid='B00004S9AK', r_ui=4.0, est=4.109775910919142, details={'was_impossible': True, 'reason': 'User and/or item is unknown.'}),\n",
              " Prediction(uid='A1VE2JFECD54GB', iid='B00005T3N0', r_ui=5.0, est=4.109775910919142, details={'was_impossible': True, 'reason': 'User and/or item is unknown.'}),\n",
              " Prediction(uid='AWHUDWT5BFHPR', iid='B000068O34', r_ui=5.0, est=4.109775910919142, details={'was_impossible': True, 'reason': 'User and/or item is unknown.'}),\n",
              " Prediction(uid='A2K2G5WUK1Y1W7', iid='B00007KDVI', r_ui=4.0, est=4.109775910919142, details={'was_impossible': True, 'reason': 'User and/or item is unknown.'}),\n",
              " Prediction(uid='ASV7RCQWVKJ06', iid='B000065BPB', r_ui=5.0, est=4.109775910919142, details={'was_impossible': True, 'reason': 'User and/or item is unknown.'}),\n",
              " Prediction(uid='A3W0EQUQX4TNNT', iid='B00005AW1H', r_ui=3.0, est=4.109775910919142, details={'was_impossible': True, 'reason': 'User and/or item is unknown.'}),\n",
              " Prediction(uid='A1XYNHR2LEEVZC', iid='B00007K3A3', r_ui=5.0, est=4.109775910919142, details={'was_impossible': True, 'reason': 'User and/or item is unknown.'}),\n",
              " Prediction(uid='A3PJXYV9RONJBE', iid='B00004WCGF', r_ui=5.0, est=4.109775910919142, details={'was_impossible': True, 'reason': 'User and/or item is unknown.'}),\n",
              " Prediction(uid='AHE5JRM2UR3HY', iid='B0000510ZO', r_ui=5.0, est=4.947082447436806, details={'actual_k': 1, 'was_impossible': False}),\n",
              " Prediction(uid='A35DMFQAI13875', iid='B00006B8C3', r_ui=5.0, est=4.109775910919142, details={'was_impossible': True, 'reason': 'User and/or item is unknown.'}),\n",
              " Prediction(uid='ACJXHAWJ8QGME', iid='B00000K2YR', r_ui=4.0, est=4.109775910919142, details={'was_impossible': True, 'reason': 'User and/or item is unknown.'}),\n",
              " Prediction(uid='AKLA0OPHDK8B9', iid='B0000633EO', r_ui=5.0, est=4.109775910919142, details={'was_impossible': True, 'reason': 'User and/or item is unknown.'}),\n",
              " Prediction(uid='A3VEROAVSRAMG2', iid='B00006HOLO', r_ui=5.0, est=5, details={'actual_k': 1, 'was_impossible': False}),\n",
              " Prediction(uid='A1YMV38W9P1MAI', iid='B000069K8N', r_ui=1.0, est=4.109775910919142, details={'was_impossible': True, 'reason': 'User and/or item is unknown.'}),\n",
              " Prediction(uid='A2MFT5N8Y4RXV9', iid='B00000K2YR', r_ui=5.0, est=4.109775910919142, details={'was_impossible': True, 'reason': 'User and/or item is unknown.'}),\n",
              " Prediction(uid='AZOPTWUSS6UM0', iid='B00000JI4F', r_ui=5.0, est=4.109775910919142, details={'was_impossible': True, 'reason': 'User and/or item is unknown.'}),\n",
              " Prediction(uid='A3VKQ8OS08VRDS', iid='B00006I5H5', r_ui=5.0, est=4.109775910919142, details={'was_impossible': True, 'reason': 'User and/or item is unknown.'}),\n",
              " Prediction(uid='A2F9FJH9AP2JTW', iid='B00007DN1E', r_ui=5.0, est=4.109775910919142, details={'was_impossible': True, 'reason': 'User and/or item is unknown.'}),\n",
              " Prediction(uid='A3JF98RB9ZJ0XN', iid='B00007JDR0', r_ui=4.0, est=4.109775910919142, details={'was_impossible': True, 'reason': 'User and/or item is unknown.'}),\n",
              " Prediction(uid='A19OT90AT1Q3UM', iid='B00006JPWW', r_ui=5.0, est=4.109775910919142, details={'was_impossible': True, 'reason': 'User and/or item is unknown.'}),\n",
              " Prediction(uid='A35YB4XP9WMTYZ', iid='B00001P4ZH', r_ui=5.0, est=4.109775910919142, details={'was_impossible': True, 'reason': 'User and/or item is unknown.'}),\n",
              " Prediction(uid='APJ248TNMS2MC', iid='B00004Z5KA', r_ui=5.0, est=4.109775910919142, details={'was_impossible': True, 'reason': 'User and/or item is unknown.'}),\n",
              " Prediction(uid='A1NXRWVWGRZJEP', iid='B00001W0DH', r_ui=1.0, est=4.109775910919142, details={'was_impossible': True, 'reason': 'User and/or item is unknown.'}),\n",
              " Prediction(uid='A2OYQ9490EOI8G', iid='B00005T3C8', r_ui=5.0, est=4.109775910919142, details={'was_impossible': True, 'reason': 'User and/or item is unknown.'}),\n",
              " Prediction(uid='A160RG1NV458C0', iid='B0000510IA', r_ui=1.0, est=4.109775910919142, details={'was_impossible': True, 'reason': 'User and/or item is unknown.'}),\n",
              " Prediction(uid='A3UTNXY1PMBJKC', iid='B0000510T7', r_ui=1.0, est=4.109775910919142, details={'was_impossible': True, 'reason': 'User and/or item is unknown.'}),\n",
              " Prediction(uid='A6NZ3SLZQLOXF', iid='B00006HCJI', r_ui=5.0, est=4.109775910919142, details={'was_impossible': True, 'reason': 'User and/or item is unknown.'}),\n",
              " Prediction(uid='A1DBZ2FB5HHXC9', iid='B00004TBLW', r_ui=4.0, est=4.109775910919142, details={'was_impossible': True, 'reason': 'User and/or item is unknown.'}),\n",
              " Prediction(uid='AFJSV43FD2ZRA', iid='B00007E7JU', r_ui=5.0, est=4.109775910919142, details={'was_impossible': True, 'reason': 'User and/or item is unknown.'}),\n",
              " Prediction(uid='A23PYJ9643HL7E', iid='B00005N6KG', r_ui=2.0, est=4.109775910919142, details={'was_impossible': True, 'reason': 'User and/or item is unknown.'}),\n",
              " Prediction(uid='A3KIYRFJLSJ34V', iid='B00006JPA1', r_ui=5.0, est=4.109775910919142, details={'was_impossible': True, 'reason': 'User and/or item is unknown.'}),\n",
              " Prediction(uid='A2RTSX8SA0LN4B', iid='B00005N5WW', r_ui=5.0, est=4.109775910919142, details={'was_impossible': True, 'reason': 'User and/or item is unknown.'}),\n",
              " Prediction(uid='A21MQC6N8X2J28', iid='B00005T3H5', r_ui=4.0, est=4.109775910919142, details={'was_impossible': True, 'reason': 'User and/or item is unknown.'}),\n",
              " Prediction(uid='A1TND9THMFVTQG', iid='B00001P4XA', r_ui=4.0, est=4.109775910919142, details={'was_impossible': True, 'reason': 'User and/or item is unknown.'}),\n",
              " Prediction(uid='A3TW7KVKHZ1FOL', iid='B00007056H', r_ui=5.0, est=4.109775910919142, details={'was_impossible': True, 'reason': 'User and/or item is unknown.'}),\n",
              " Prediction(uid='ALR9XTEIX3MBQ', iid='B000078QJ1', r_ui=5.0, est=4.109775910919142, details={'was_impossible': True, 'reason': 'User and/or item is unknown.'}),\n",
              " Prediction(uid='A3K3ZK1THTHLFQ', iid='B00005T3C8', r_ui=5.0, est=4.109775910919142, details={'was_impossible': True, 'reason': 'User and/or item is unknown.'}),\n",
              " Prediction(uid='AIFAB9MIJBP9Y', iid='B00001P4ZH', r_ui=5.0, est=4.109775910919142, details={'was_impossible': True, 'reason': 'User and/or item is unknown.'}),\n",
              " Prediction(uid='A1WW6D91URGHBM', iid='B000065BPB', r_ui=5.0, est=4.109775910919142, details={'was_impossible': True, 'reason': 'User and/or item is unknown.'}),\n",
              " Prediction(uid='AN2WAY6J5GOOA', iid='B000068OEO', r_ui=4.0, est=4.109775910919142, details={'was_impossible': True, 'reason': 'User and/or item is unknown.'}),\n",
              " Prediction(uid='A2DICS3AIAR0JA', iid='B00003006R', r_ui=4.0, est=4.109775910919142, details={'was_impossible': True, 'reason': 'User and/or item is unknown.'}),\n",
              " Prediction(uid='A1UIKNOLD4P56A', iid='B00006B7DA', r_ui=4.0, est=4.109775910919142, details={'was_impossible': True, 'reason': 'User and/or item is unknown.'}),\n",
              " Prediction(uid='A3BP9IJ0HL6B8B', iid='B00005M1UY', r_ui=5.0, est=4.109775910919142, details={'was_impossible': True, 'reason': 'User and/or item is unknown.'}),\n",
              " Prediction(uid='A1EP5878GXQT0I', iid='B000069EUW', r_ui=5.0, est=4.109775910919142, details={'was_impossible': True, 'reason': 'User and/or item is unknown.'}),\n",
              " Prediction(uid='AFV0UZAXA95TL', iid='B00005Q4ZV', r_ui=5.0, est=3.289719626168224, details={'actual_k': 0, 'was_impossible': False}),\n",
              " Prediction(uid='A1NNZZLC5ICMUA', iid='B000063Y7E', r_ui=5.0, est=4.109775910919142, details={'was_impossible': True, 'reason': 'User and/or item is unknown.'}),\n",
              " Prediction(uid='A2A5NGIXKH75C7', iid='B00006B9CR', r_ui=5.0, est=4.109775910919142, details={'was_impossible': True, 'reason': 'User and/or item is unknown.'}),\n",
              " Prediction(uid='A33KNFDQCH0NNZ', iid='B00007EDZG', r_ui=3.0, est=4.109775910919142, details={'was_impossible': True, 'reason': 'User and/or item is unknown.'}),\n",
              " Prediction(uid='AIUR6U2034077', iid='B00007E7C8', r_ui=1.0, est=4.109775910919142, details={'was_impossible': True, 'reason': 'User and/or item is unknown.'}),\n",
              " Prediction(uid='A2MAANBSSUAS4W', iid='B000063TJY', r_ui=5.0, est=4.109775910919142, details={'was_impossible': True, 'reason': 'User and/or item is unknown.'}),\n",
              " Prediction(uid='A3SI1QQX0EAUU', iid='B00007KDVI', r_ui=5.0, est=4.109775910919142, details={'was_impossible': True, 'reason': 'User and/or item is unknown.'}),\n",
              " Prediction(uid='A1E5YDDUDBP18B', iid='B000051299', r_ui=1.0, est=4.109775910919142, details={'was_impossible': True, 'reason': 'User and/or item is unknown.'}),\n",
              " Prediction(uid='A251R0R9Y5J969', iid='B00006BBAC', r_ui=2.0, est=1.7068326663702384, details={'actual_k': 1, 'was_impossible': False}),\n",
              " Prediction(uid='A18EPAQ44YJTW5', iid='B000067SRA', r_ui=4.0, est=4.109775910919142, details={'was_impossible': True, 'reason': 'User and/or item is unknown.'}),\n",
              " Prediction(uid='A3VX9I2IRGX532', iid='B00004WCIC', r_ui=5.0, est=4.109775910919142, details={'was_impossible': True, 'reason': 'User and/or item is unknown.'}),\n",
              " Prediction(uid='A1Y5JFXIDHQXTC', iid='B00004ZC8Y', r_ui=1.0, est=4.109775910919142, details={'was_impossible': True, 'reason': 'User and/or item is unknown.'}),\n",
              " Prediction(uid='A21264HUXCBXF5', iid='B00005ATMB', r_ui=3.0, est=4.109775910919142, details={'was_impossible': True, 'reason': 'User and/or item is unknown.'}),\n",
              " Prediction(uid='AY1D1SSSWOFYF', iid='B00005A1K1', r_ui=5.0, est=4.109775910919142, details={'was_impossible': True, 'reason': 'User and/or item is unknown.'}),\n",
              " Prediction(uid='A20UDOT1F361T2', iid='0972683275', r_ui=5.0, est=4.109775910919142, details={'was_impossible': True, 'reason': 'User and/or item is unknown.'}),\n",
              " Prediction(uid='A37P86X074EA1W', iid='B000038AB2', r_ui=5.0, est=4.109775910919142, details={'was_impossible': True, 'reason': 'User and/or item is unknown.'}),\n",
              " Prediction(uid='A1MNFHM3Q7PD4N', iid='B000068UY6', r_ui=5.0, est=4.109775910919142, details={'was_impossible': True, 'reason': 'User and/or item is unknown.'}),\n",
              " Prediction(uid='A2GZAGW67XBNIV', iid='B00007E7JU', r_ui=5.0, est=4.109775910919142, details={'was_impossible': True, 'reason': 'User and/or item is unknown.'}),\n",
              " Prediction(uid='A1AS6XMMYV1XPJ', iid='B00004T1XE', r_ui=2.0, est=4.109775910919142, details={'was_impossible': True, 'reason': 'User and/or item is unknown.'}),\n",
              " Prediction(uid='A11U6YVGJ1FHYF', iid='B000067SMH', r_ui=5.0, est=4.109775910919142, details={'was_impossible': True, 'reason': 'User and/or item is unknown.'}),\n",
              " Prediction(uid='A1JKRS9H84BQPL', iid='B00006JILW', r_ui=5.0, est=4.109775910919142, details={'was_impossible': True, 'reason': 'User and/or item is unknown.'}),\n",
              " Prediction(uid='A2AWC41OLRVCMO', iid='B00006B7DA', r_ui=3.0, est=4.109775910919142, details={'was_impossible': True, 'reason': 'User and/or item is unknown.'}),\n",
              " Prediction(uid='A209S48K0JLGY8', iid='B000069E1H', r_ui=5.0, est=4.109775910919142, details={'was_impossible': True, 'reason': 'User and/or item is unknown.'}),\n",
              " Prediction(uid='A1324EAJ1PJQI7', iid='B000067RT6', r_ui=1.0, est=4.109775910919142, details={'was_impossible': True, 'reason': 'User and/or item is unknown.'}),\n",
              " Prediction(uid='A14AZOF2RDMIX2', iid='B00005T3G0', r_ui=5.0, est=4.109775910919142, details={'was_impossible': True, 'reason': 'User and/or item is unknown.'}),\n",
              " Prediction(uid='A3NQSMTG612AF', iid='B000063TJY', r_ui=5.0, est=4.109775910919142, details={'was_impossible': True, 'reason': 'User and/or item is unknown.'}),\n",
              " Prediction(uid='AQVAGHP82MND', iid='B000065BP9', r_ui=4.0, est=4.109775910919142, details={'was_impossible': True, 'reason': 'User and/or item is unknown.'}),\n",
              " Prediction(uid='A1E62P1ZS9G5VW', iid='B000066CCU', r_ui=5.0, est=4.109775910919142, details={'was_impossible': True, 'reason': 'User and/or item is unknown.'}),\n",
              " Prediction(uid='A2WJ4CTJ763IEQ', iid='1400532620', r_ui=5.0, est=4.109775910919142, details={'was_impossible': True, 'reason': 'User and/or item is unknown.'}),\n",
              " Prediction(uid='A3ICBDLR57L69H', iid='B000068O3C', r_ui=5.0, est=4.109775910919142, details={'was_impossible': True, 'reason': 'User and/or item is unknown.'}),\n",
              " Prediction(uid='A144JH0860USQR', iid='B000068O3T', r_ui=2.0, est=4.109775910919142, details={'was_impossible': True, 'reason': 'User and/or item is unknown.'}),\n",
              " Prediction(uid='A172KU5AFIHDFV', iid='B00000JYWQ', r_ui=5.0, est=4.109775910919142, details={'was_impossible': True, 'reason': 'User and/or item is unknown.'}),\n",
              " Prediction(uid='AFS3Z9VHXVYYE', iid='B00005NPWJ', r_ui=5.0, est=4.109775910919142, details={'was_impossible': True, 'reason': 'User and/or item is unknown.'}),\n",
              " Prediction(uid='A22U830LW7NZO6', iid='B00007FGU7', r_ui=5.0, est=4.109775910919142, details={'was_impossible': True, 'reason': 'User and/or item is unknown.'}),\n",
              " Prediction(uid='A2R3VL86M6P8ZJ', iid='B00006JN3G', r_ui=4.0, est=4.109775910919142, details={'was_impossible': True, 'reason': 'User and/or item is unknown.'}),\n",
              " Prediction(uid='AA75INOMAHULX', iid='B00003CWDG', r_ui=5.0, est=4.053571428571429, details={'actual_k': 0, 'was_impossible': False}),\n",
              " Prediction(uid='A1B7AATX75MGH7', iid='B00004SY4H', r_ui=5.0, est=4.109775910919142, details={'was_impossible': True, 'reason': 'User and/or item is unknown.'}),\n",
              " Prediction(uid='A2785V5V3ELQ04', iid='B00005AXHW', r_ui=5.0, est=4.109775910919142, details={'was_impossible': True, 'reason': 'User and/or item is unknown.'}),\n",
              " Prediction(uid='A1QQZN6YHFDIZD', iid='B00006JPWW', r_ui=5.0, est=4.109775910919142, details={'was_impossible': True, 'reason': 'User and/or item is unknown.'}),\n",
              " Prediction(uid='AO5E794E4DFBP', iid='B00006JILC', r_ui=4.0, est=4.109775910919142, details={'was_impossible': True, 'reason': 'User and/or item is unknown.'}),\n",
              " Prediction(uid='A12VNCM89F4E2J', iid='B00004T1XK', r_ui=5.0, est=4.109775910919142, details={'was_impossible': True, 'reason': 'User and/or item is unknown.'}),\n",
              " Prediction(uid='A1YP16M4OG41K0', iid='B00007E7C8', r_ui=5.0, est=4.109775910919142, details={'was_impossible': True, 'reason': 'User and/or item is unknown.'}),\n",
              " Prediction(uid='A17U3VXV339Q5O', iid='B000068O16', r_ui=4.0, est=4.109775910919142, details={'was_impossible': True, 'reason': 'User and/or item is unknown.'}),\n",
              " Prediction(uid='AGJN9HYT6X1H8', iid='B0000510ZO', r_ui=3.0, est=4.109775910919142, details={'was_impossible': True, 'reason': 'User and/or item is unknown.'}),\n",
              " Prediction(uid='A2NQPLJOXTLDJS', iid='B00005LEN4', r_ui=4.0, est=4.109775910919142, details={'was_impossible': True, 'reason': 'User and/or item is unknown.'}),\n",
              " Prediction(uid='A2FEWC8SNS5PXQ', iid='B00004ZCJE', r_ui=1.0, est=4.109775910919142, details={'was_impossible': True, 'reason': 'User and/or item is unknown.'}),\n",
              " Prediction(uid='A1OS6GTOVJC0AA', iid='B00006412G', r_ui=5.0, est=4.109775910919142, details={'was_impossible': True, 'reason': 'User and/or item is unknown.'}),\n",
              " Prediction(uid='A3PZMPPUVXI2PH', iid='B00005LEN4', r_ui=4.0, est=4.109775910919142, details={'was_impossible': True, 'reason': 'User and/or item is unknown.'}),\n",
              " Prediction(uid='A35RR6VFHLS621', iid='B000068O34', r_ui=5.0, est=4.109775910919142, details={'was_impossible': True, 'reason': 'User and/or item is unknown.'}),\n",
              " Prediction(uid='A1HB5ZNKDTY684', iid='B00005KB24', r_ui=5.0, est=4.109775910919142, details={'was_impossible': True, 'reason': 'User and/or item is unknown.'}),\n",
              " Prediction(uid='A3EL13FRZU7KI', iid='B000065BP9', r_ui=5.0, est=4.109775910919142, details={'was_impossible': True, 'reason': 'User and/or item is unknown.'}),\n",
              " Prediction(uid='A3CIONA9DQPP5E', iid='B00005ARK3', r_ui=5.0, est=4.109775910919142, details={'was_impossible': True, 'reason': 'User and/or item is unknown.'}),\n",
              " Prediction(uid='AR3DD981Q4HTZ', iid='B00005OQMO', r_ui=5.0, est=4.109775910919142, details={'was_impossible': True, 'reason': 'User and/or item is unknown.'}),\n",
              " Prediction(uid='A2JNQP8PTHOTDF', iid='B0000510IA', r_ui=5.0, est=4.109775910919142, details={'was_impossible': True, 'reason': 'User and/or item is unknown.'}),\n",
              " Prediction(uid='AF02FMO1XF23F', iid='B000056SSM', r_ui=3.0, est=4.109775910919142, details={'was_impossible': True, 'reason': 'User and/or item is unknown.'}),\n",
              " Prediction(uid='A1TQ2HN5EPUH1S', iid='B0000659UN', r_ui=5.0, est=4.109775910919142, details={'was_impossible': True, 'reason': 'User and/or item is unknown.'}),\n",
              " Prediction(uid='A2NP2O0J8GL656', iid='B00006IS4X', r_ui=5.0, est=4.109775910919142, details={'was_impossible': True, 'reason': 'User and/or item is unknown.'}),\n",
              " Prediction(uid='A3NF3R32A4A4ZL', iid='B00004ZCJE', r_ui=5.0, est=4.109775910919142, details={'was_impossible': True, 'reason': 'User and/or item is unknown.'}),\n",
              " Prediction(uid='A376HGTPURH2AR', iid='B000060OEO', r_ui=1.0, est=4.109775910919142, details={'was_impossible': True, 'reason': 'User and/or item is unknown.'}),\n",
              " Prediction(uid='A3GFS9L5GENQC7', iid='B00004T8R2', r_ui=5.0, est=4.109775910919142, details={'was_impossible': True, 'reason': 'User and/or item is unknown.'}),\n",
              " Prediction(uid='AEXMLCTNRSEKL', iid='B000067O5G', r_ui=3.0, est=4.109775910919142, details={'was_impossible': True, 'reason': 'User and/or item is unknown.'}),\n",
              " Prediction(uid='A3D96Y6VMPKPLJ', iid='B000062VUO', r_ui=5.0, est=4.109775910919142, details={'was_impossible': True, 'reason': 'User and/or item is unknown.'}),\n",
              " Prediction(uid='A145LBW8ZHF0TW', iid='B00007IFED', r_ui=5.0, est=4.1126331811263315, details={'actual_k': 0, 'was_impossible': False}),\n",
              " Prediction(uid='A1SY4UAVUKE6DK', iid='B00005AC8J', r_ui=5.0, est=4.109775910919142, details={'was_impossible': True, 'reason': 'User and/or item is unknown.'}),\n",
              " Prediction(uid='A2VI5ENM6DPKTK', iid='B000051ZOA', r_ui=4.0, est=4.109775910919142, details={'was_impossible': True, 'reason': 'User and/or item is unknown.'}),\n",
              " Prediction(uid='A1VNM2B5TFWBKZ', iid='B0000642RX', r_ui=4.0, est=4.23342939481268, details={'actual_k': 0, 'was_impossible': False}),\n",
              " Prediction(uid='A3IA2BX9S8IFIE', iid='B00006I5RA', r_ui=2.0, est=4.109775910919142, details={'was_impossible': True, 'reason': 'User and/or item is unknown.'}),\n",
              " Prediction(uid='A39I1F59D4L44T', iid='B0000510ZO', r_ui=5.0, est=4.109775910919142, details={'was_impossible': True, 'reason': 'User and/or item is unknown.'}),\n",
              " Prediction(uid='A2LR1I5WZV3RAT', iid='B000067SGI', r_ui=5.0, est=4.109775910919142, details={'was_impossible': True, 'reason': 'User and/or item is unknown.'}),\n",
              " Prediction(uid='AJX6AHMNUSI25', iid='B0000633EO', r_ui=2.0, est=4.109775910919142, details={'was_impossible': True, 'reason': 'User and/or item is unknown.'}),\n",
              " Prediction(uid='A2LOWIIO5VXH66', iid='B00007KDVI', r_ui=5.0, est=4.109775910919142, details={'was_impossible': True, 'reason': 'User and/or item is unknown.'}),\n",
              " Prediction(uid='A2Q4HYJDKD0ZT4', iid='B00004T1XK', r_ui=5.0, est=4.109775910919142, details={'was_impossible': True, 'reason': 'User and/or item is unknown.'}),\n",
              " Prediction(uid='A150QVLY1FXCGF', iid='B00006HRJR', r_ui=4.0, est=4.109775910919142, details={'was_impossible': True, 'reason': 'User and/or item is unknown.'}),\n",
              " Prediction(uid='A1PDULQ8CNXUHD', iid='B000050X97', r_ui=2.0, est=4.109775910919142, details={'was_impossible': True, 'reason': 'User and/or item is unknown.'}),\n",
              " Prediction(uid='A3CSD3MI0DKXIX', iid='B00001OPJZ', r_ui=5.0, est=4.109775910919142, details={'was_impossible': True, 'reason': 'User and/or item is unknown.'}),\n",
              " Prediction(uid='A26NK0ZOILZBW7', iid='B000067RC4', r_ui=3.0, est=4.109775910919142, details={'was_impossible': True, 'reason': 'User and/or item is unknown.'}),\n",
              " Prediction(uid='ARSVBT0W2WQNT', iid='B00000J4FS', r_ui=5.0, est=4.109775910919142, details={'was_impossible': True, 'reason': 'User and/or item is unknown.'}),\n",
              " Prediction(uid='A3QLVOEYZ0QLA3', iid='B00000J0D5', r_ui=1.0, est=4.109775910919142, details={'was_impossible': True, 'reason': 'User and/or item is unknown.'}),\n",
              " Prediction(uid='A18BV6YQRSDM3B', iid='B00007AKDP', r_ui=4.0, est=4.109775910919142, details={'was_impossible': True, 'reason': 'User and/or item is unknown.'}),\n",
              " Prediction(uid='AHQI6TUB9ODJI', iid='B000067RT6', r_ui=5.0, est=4.109775910919142, details={'was_impossible': True, 'reason': 'User and/or item is unknown.'}),\n",
              " Prediction(uid='A21Q37G4R9VL6B', iid='B00005LENO', r_ui=5.0, est=4.109775910919142, details={'was_impossible': True, 'reason': 'User and/or item is unknown.'}),\n",
              " Prediction(uid='A19MV9NKKHHCDC', iid='B00004WCIC', r_ui=5.0, est=4.109775910919142, details={'was_impossible': True, 'reason': 'User and/or item is unknown.'}),\n",
              " Prediction(uid='AG9YQMLCILPWH', iid='B00004UE2R', r_ui=2.0, est=4.109775910919142, details={'was_impossible': True, 'reason': 'User and/or item is unknown.'}),\n",
              " Prediction(uid='A1029ESOR657OQ', iid='B0000658CE', r_ui=4.0, est=2.8823529411764706, details={'actual_k': 0, 'was_impossible': False}),\n",
              " Prediction(uid='A1CAU2IUXI5705', iid='B00005K47X', r_ui=5.0, est=4.109775910919142, details={'was_impossible': True, 'reason': 'User and/or item is unknown.'}),\n",
              " Prediction(uid='A2SMJ6GYD7QV3', iid='B00005K47X', r_ui=4.0, est=4.423246606334842, details={'actual_k': 1, 'was_impossible': False}),\n",
              " Prediction(uid='AOTR1OG6E4YFM', iid='B000078QJ1', r_ui=1.0, est=4.109775910919142, details={'was_impossible': True, 'reason': 'User and/or item is unknown.'}),\n",
              " Prediction(uid='A2DQE5VRXUBMA2', iid='B0000511U7', r_ui=5.0, est=4.109775910919142, details={'was_impossible': True, 'reason': 'User and/or item is unknown.'}),\n",
              " Prediction(uid='AF7T1E4P8HM6W', iid='B000067O5G', r_ui=5.0, est=4.109775910919142, details={'was_impossible': True, 'reason': 'User and/or item is unknown.'}),\n",
              " Prediction(uid='A1GDJ6XPY3GGIU', iid='B00005YXZE', r_ui=1.0, est=4.109775910919142, details={'was_impossible': True, 'reason': 'User and/or item is unknown.'}),\n",
              " Prediction(uid='A3KIQZW3MB4J0S', iid='B00006HZ0L', r_ui=1.0, est=4.109775910919142, details={'was_impossible': True, 'reason': 'User and/or item is unknown.'}),\n",
              " Prediction(uid='A34YLCTZNXQQG2', iid='B000067O5G', r_ui=1.0, est=4.109775910919142, details={'was_impossible': True, 'reason': 'User and/or item is unknown.'}),\n",
              " Prediction(uid='A1VQ2MKL2EV4GF', iid='B00005NIMJ', r_ui=5.0, est=4.109775910919142, details={'was_impossible': True, 'reason': 'User and/or item is unknown.'}),\n",
              " Prediction(uid='A1ZE2CC26XDXWN', iid='B00007E7C8', r_ui=4.0, est=4.109775910919142, details={'was_impossible': True, 'reason': 'User and/or item is unknown.'}),\n",
              " Prediction(uid='A3NFODWBZRNJFP', iid='B00004Z6XS', r_ui=3.0, est=4.109775910919142, details={'was_impossible': True, 'reason': 'User and/or item is unknown.'}),\n",
              " Prediction(uid='A1U88O8NUJWBA0', iid='B00006B7SK', r_ui=4.0, est=4.109775910919142, details={'was_impossible': True, 'reason': 'User and/or item is unknown.'}),\n",
              " Prediction(uid='A30MHTDWFIQ407', iid='B000066R6M', r_ui=4.0, est=4.109775910919142, details={'was_impossible': True, 'reason': 'User and/or item is unknown.'}),\n",
              " Prediction(uid='AA0LOT3TR23JE', iid='B00007GQLU', r_ui=5.0, est=4.109775910919142, details={'was_impossible': True, 'reason': 'User and/or item is unknown.'}),\n",
              " Prediction(uid='A3MJHFCHKTH9V1', iid='B000067RT6', r_ui=5.0, est=4.109775910919142, details={'was_impossible': True, 'reason': 'User and/or item is unknown.'}),\n",
              " Prediction(uid='AP04UMK9IEKVF', iid='B00007056H', r_ui=4.0, est=4.2, details={'actual_k': 0, 'was_impossible': False}),\n",
              " Prediction(uid='AS8Q2SU0PT1JH', iid='B00006TWL6', r_ui=1.0, est=4.109775910919142, details={'was_impossible': True, 'reason': 'User and/or item is unknown.'}),\n",
              " Prediction(uid='A309EUA4140M2F', iid='B00005RG4O', r_ui=2.0, est=4.109775910919142, details={'was_impossible': True, 'reason': 'User and/or item is unknown.'}),\n",
              " Prediction(uid='ATCY7MNJ580IZ', iid='B00007ISWA', r_ui=5.0, est=4.109775910919142, details={'was_impossible': True, 'reason': 'User and/or item is unknown.'}),\n",
              " Prediction(uid='A2R2O60BZWXOTA', iid='B00007E7JU', r_ui=5.0, est=4.109775910919142, details={'was_impossible': True, 'reason': 'User and/or item is unknown.'}),\n",
              " Prediction(uid='A1IG8QGEC4B7WI', iid='B00006B7DB', r_ui=5.0, est=4.109775910919142, details={'was_impossible': True, 'reason': 'User and/or item is unknown.'}),\n",
              " Prediction(uid='A7WM1RJQQ68AR', iid='B00001WRSJ', r_ui=4.0, est=4.109775910919142, details={'was_impossible': True, 'reason': 'User and/or item is unknown.'}),\n",
              " Prediction(uid='A29VJ63JWCQF1L', iid='B00006I53S', r_ui=5.0, est=4.109775910919142, details={'was_impossible': True, 'reason': 'User and/or item is unknown.'}),\n",
              " Prediction(uid='A211GAU31W87A2', iid='B00005T3N0', r_ui=2.0, est=4.109775910919142, details={'was_impossible': True, 'reason': 'User and/or item is unknown.'}),\n",
              " Prediction(uid='AIAXUJ6RAN3KX', iid='B00004SPUN', r_ui=1.0, est=4.109775910919142, details={'was_impossible': True, 'reason': 'User and/or item is unknown.'}),\n",
              " Prediction(uid='A2ZSG65T2D3XBQ', iid='B00005125T', r_ui=5.0, est=4.109775910919142, details={'was_impossible': True, 'reason': 'User and/or item is unknown.'}),\n",
              " Prediction(uid='A22MANL4US4RMY', iid='B00006JQ6C', r_ui=5.0, est=4.260869565217392, details={'actual_k': 0, 'was_impossible': False}),\n",
              " Prediction(uid='AOD2B4CSVXEQX', iid='B00005KB24', r_ui=5.0, est=5, details={'actual_k': 1, 'was_impossible': False}),\n",
              " Prediction(uid='A3EQRG0AYCU91N', iid='B00004T8R2', r_ui=5.0, est=4.109775910919142, details={'was_impossible': True, 'reason': 'User and/or item is unknown.'}),\n",
              " Prediction(uid='AGKQ9OHIR2ER1', iid='B000069EUW', r_ui=5.0, est=3.8521739130434782, details={'actual_k': 0, 'was_impossible': False}),\n",
              " Prediction(uid='A3FBRWLTT2KYW3', iid='B000067O5G', r_ui=5.0, est=4.109775910919142, details={'was_impossible': True, 'reason': 'User and/or item is unknown.'}),\n",
              " Prediction(uid='A5EEPQCJVSVCA', iid='B00007E7JU', r_ui=5.0, est=4.109775910919142, details={'was_impossible': True, 'reason': 'User and/or item is unknown.'}),\n",
              " Prediction(uid='AP8HYDGLCAN8I', iid='B000063CWP', r_ui=5.0, est=4.109775910919142, details={'was_impossible': True, 'reason': 'User and/or item is unknown.'}),\n",
              " Prediction(uid='A24RD2OQXB1O4O', iid='140053271X', r_ui=1.0, est=4.109775910919142, details={'was_impossible': True, 'reason': 'User and/or item is unknown.'}),\n",
              " Prediction(uid='A2JECHNTS6PQ8T', iid='B000065BPB', r_ui=5.0, est=4.109775910919142, details={'was_impossible': True, 'reason': 'User and/or item is unknown.'}),\n",
              " Prediction(uid='A1838IZAXGBTIF', iid='B000069EUX', r_ui=5.0, est=4.109775910919142, details={'was_impossible': True, 'reason': 'User and/or item is unknown.'}),\n",
              " Prediction(uid='A3QZD6ZT8SN0R4', iid='B00004XRED', r_ui=5.0, est=4.109775910919142, details={'was_impossible': True, 'reason': 'User and/or item is unknown.'}),\n",
              " Prediction(uid='A3IQG22OB37I8H', iid='B00007IFED', r_ui=5.0, est=4.1126331811263315, details={'actual_k': 0, 'was_impossible': False}),\n",
              " Prediction(uid='AALVOR2JKHN5Q', iid='B00002N7FQ', r_ui=5.0, est=4.109775910919142, details={'was_impossible': True, 'reason': 'User and/or item is unknown.'}),\n",
              " Prediction(uid='ACET2MHVK7FOA', iid='B000065BP9', r_ui=4.0, est=4.109775910919142, details={'was_impossible': True, 'reason': 'User and/or item is unknown.'}),\n",
              " Prediction(uid='AUOW42PVQ4GAP', iid='B00002SWHH', r_ui=4.0, est=4.314285714285714, details={'actual_k': 0, 'was_impossible': False}),\n",
              " Prediction(uid='A2AY39ER2XJMLI', iid='B00000JBHP', r_ui=5.0, est=4.081081081081081, details={'actual_k': 0, 'was_impossible': False}),\n",
              " Prediction(uid='A2HY5DY58LQUPY', iid='B00005AB9R', r_ui=3.0, est=4.109775910919142, details={'was_impossible': True, 'reason': 'User and/or item is unknown.'}),\n",
              " Prediction(uid='AX3WBCJ3REH8A', iid='B000067SGI', r_ui=5.0, est=4.109775910919142, details={'was_impossible': True, 'reason': 'User and/or item is unknown.'}),\n",
              " Prediction(uid='A3LQJ7UHRUC4ZE', iid='B000065DQ2', r_ui=3.0, est=4.109775910919142, details={'was_impossible': True, 'reason': 'User and/or item is unknown.'}),\n",
              " Prediction(uid='AFJ0ZC0BL7NV3', iid='B00000J1UQ', r_ui=5.0, est=4.5375, details={'actual_k': 0, 'was_impossible': False}),\n",
              " Prediction(uid='A1J4HV7EVBZZTC', iid='B00003CWDH', r_ui=5.0, est=4.109775910919142, details={'was_impossible': True, 'reason': 'User and/or item is unknown.'}),\n",
              " Prediction(uid='AUF39CACZI8HW', iid='B00007IFJY', r_ui=1.0, est=4.109775910919142, details={'was_impossible': True, 'reason': 'User and/or item is unknown.'}),\n",
              " Prediction(uid='A2YZH43XKEVE0Q', iid='B00005ATMB', r_ui=5.0, est=4.109775910919142, details={'was_impossible': True, 'reason': 'User and/or item is unknown.'}),\n",
              " Prediction(uid='A3B9EOUXZ494CL', iid='B00004Z5M1', r_ui=5.0, est=4.565674255691769, details={'actual_k': 0, 'was_impossible': False}),\n",
              " Prediction(uid='A2MN20HVV8U7SP', iid='B00007IFED', r_ui=5.0, est=4.109775910919142, details={'was_impossible': True, 'reason': 'User and/or item is unknown.'}),\n",
              " Prediction(uid='A2MAX33E3EO9WS', iid='B00005AWCL', r_ui=1.0, est=4.109775910919142, details={'was_impossible': True, 'reason': 'User and/or item is unknown.'}),\n",
              " Prediction(uid='A1F7JUY5IKVABJ', iid='B00005BMSN', r_ui=5.0, est=4.109775910919142, details={'was_impossible': True, 'reason': 'User and/or item is unknown.'}),\n",
              " Prediction(uid='A4HCDP94ZMIU0', iid='B00005KK2Q', r_ui=4.0, est=4.109775910919142, details={'was_impossible': True, 'reason': 'User and/or item is unknown.'}),\n",
              " Prediction(uid='A18G2KPHKGD2EA', iid='B000067RWL', r_ui=5.0, est=4.109775910919142, details={'was_impossible': True, 'reason': 'User and/or item is unknown.'}),\n",
              " Prediction(uid='A3NUMFHDE012TZ', iid='B0000510ZO', r_ui=5.0, est=4.109775910919142, details={'was_impossible': True, 'reason': 'User and/or item is unknown.'}),\n",
              " Prediction(uid='A3B2DML8VT6N12', iid='B00005T3NH', r_ui=5.0, est=4.109775910919142, details={'was_impossible': True, 'reason': 'User and/or item is unknown.'}),\n",
              " Prediction(uid='A3RBKXPSC4SXKS', iid='B00004Z0C7', r_ui=5.0, est=4.109775910919142, details={'was_impossible': True, 'reason': 'User and/or item is unknown.'}),\n",
              " Prediction(uid='A379Y7ZC4Q9IDI', iid='B00004WHFK', r_ui=2.0, est=4.109775910919142, details={'was_impossible': True, 'reason': 'User and/or item is unknown.'}),\n",
              " Prediction(uid='A1TSRAS1QO1RZO', iid='B00006IW1X', r_ui=5.0, est=4.109775910919142, details={'was_impossible': True, 'reason': 'User and/or item is unknown.'}),\n",
              " Prediction(uid='A1G6C54QZUNYV0', iid='B000051ZOA', r_ui=4.0, est=3.927007299270073, details={'actual_k': 0, 'was_impossible': False}),\n",
              " Prediction(uid='A1JJ6JGY7Q7R67', iid='B0000632T3', r_ui=1.0, est=4.109775910919142, details={'was_impossible': True, 'reason': 'User and/or item is unknown.'}),\n",
              " Prediction(uid='A13E0P6ZGH77ZZ', iid='B00004WCID', r_ui=5.0, est=4.109775910919142, details={'was_impossible': True, 'reason': 'User and/or item is unknown.'}),\n",
              " Prediction(uid='A2JPNFAVTGD7DS', iid='B00001WRSJ', r_ui=5.0, est=4.109775910919142, details={'was_impossible': True, 'reason': 'User and/or item is unknown.'}),\n",
              " Prediction(uid='A12ZY657CDHTLD', iid='B00005ARK3', r_ui=5.0, est=4.109775910919142, details={'was_impossible': True, 'reason': 'User and/or item is unknown.'}),\n",
              " Prediction(uid='A1D8Z8XVNUY27M', iid='B00005T39Y', r_ui=4.0, est=4.109775910919142, details={'was_impossible': True, 'reason': 'User and/or item is unknown.'}),\n",
              " Prediction(uid='AT0R49D3HWY3G', iid='B0000645RH', r_ui=5.0, est=4.109775910919142, details={'was_impossible': True, 'reason': 'User and/or item is unknown.'}),\n",
              " Prediction(uid='A1W98MNHYOZR3', iid='B00007IFED', r_ui=5.0, est=4.109775910919142, details={'was_impossible': True, 'reason': 'User and/or item is unknown.'}),\n",
              " Prediction(uid='A10MTDUDKEMWQU', iid='B00007JDRV', r_ui=4.0, est=4.109775910919142, details={'was_impossible': True, 'reason': 'User and/or item is unknown.'}),\n",
              " Prediction(uid='A5U97HS05DND4', iid='B00004S9AK', r_ui=5.0, est=4.109775910919142, details={'was_impossible': True, 'reason': 'User and/or item is unknown.'}),\n",
              " Prediction(uid='AH2T9EKHOT7NY', iid='B00006B9CR', r_ui=1.0, est=4.109775910919142, details={'was_impossible': True, 'reason': 'User and/or item is unknown.'}),\n",
              " Prediction(uid='ATTXHB1QLSYC3', iid='B00000DM9W', r_ui=5.0, est=4.109775910919142, details={'was_impossible': True, 'reason': 'User and/or item is unknown.'}),\n",
              " Prediction(uid='A1JEWEYIPLM2UV', iid='B000065BP9', r_ui=5.0, est=4.109775910919142, details={'was_impossible': True, 'reason': 'User and/or item is unknown.'}),\n",
              " Prediction(uid='A1MUDY0X0ZHI4P', iid='B00004ZC8Y', r_ui=3.0, est=2.8085561497326204, details={'actual_k': 1, 'was_impossible': False}),\n",
              " Prediction(uid='AD08RQDB441D', iid='B00002NDRQ', r_ui=5.0, est=4.109775910919142, details={'was_impossible': True, 'reason': 'User and/or item is unknown.'}),\n",
              " Prediction(uid='A3M7CWK3YVG7L2', iid='B00005LEN4', r_ui=4.0, est=4.109775910919142, details={'was_impossible': True, 'reason': 'User and/or item is unknown.'}),\n",
              " Prediction(uid='A2NZOGWW0P1TVM', iid='B00005K47X', r_ui=5.0, est=4.109775910919142, details={'was_impossible': True, 'reason': 'User and/or item is unknown.'}),\n",
              " Prediction(uid='A2YM3V5A55NSBD', iid='B00006HOKR', r_ui=5.0, est=4.109775910919142, details={'was_impossible': True, 'reason': 'User and/or item is unknown.'}),\n",
              " Prediction(uid='AQ3S72R6H3N9C', iid='B00006JPRQ', r_ui=1.0, est=4.109775910919142, details={'was_impossible': True, 'reason': 'User and/or item is unknown.'}),\n",
              " Prediction(uid='APLWC779VDHPK', iid='B00005ABC5', r_ui=5.0, est=4.109775910919142, details={'was_impossible': True, 'reason': 'User and/or item is unknown.'}),\n",
              " Prediction(uid='A3Q8MCKA4S9ZPB', iid='B00006HYP6', r_ui=4.0, est=4.109775910919142, details={'was_impossible': True, 'reason': 'User and/or item is unknown.'}),\n",
              " Prediction(uid='A36IOGZMFU0VG1', iid='B000068O16', r_ui=5.0, est=4.109775910919142, details={'was_impossible': True, 'reason': 'User and/or item is unknown.'}),\n",
              " Prediction(uid='A2Z50XMX18ARW5', iid='B00006I5SQ', r_ui=1.0, est=4.109775910919142, details={'was_impossible': True, 'reason': 'User and/or item is unknown.'}),\n",
              " Prediction(uid='A1K7JT8K8EU16I', iid='B00006L4FX', r_ui=2.0, est=4.109775910919142, details={'was_impossible': True, 'reason': 'User and/or item is unknown.'}),\n",
              " Prediction(uid='A3UUMR4IUG2SYP', iid='B00005AXHW', r_ui=5.0, est=4.109775910919142, details={'was_impossible': True, 'reason': 'User and/or item is unknown.'}),\n",
              " Prediction(uid='AVX8BM1W8L4LS', iid='B00004Z5D1', r_ui=5.0, est=4.109775910919142, details={'was_impossible': True, 'reason': 'User and/or item is unknown.'}),\n",
              " Prediction(uid='A5Y4AEY4X7YQ', iid='B000066E6Y', r_ui=5.0, est=4.109775910919142, details={'was_impossible': True, 'reason': 'User and/or item is unknown.'}),\n",
              " Prediction(uid='A12NAEUGYXUIRD', iid='B00006RVPW', r_ui=4.0, est=4.443037974683544, details={'actual_k': 0, 'was_impossible': False}),\n",
              " Prediction(uid='A1AT5LYGF3T3BJ', iid='0972683275', r_ui=4.0, est=4.109775910919142, details={'was_impossible': True, 'reason': 'User and/or item is unknown.'}),\n",
              " Prediction(uid='A23TC66WWDRCCB', iid='B00006JILW', r_ui=4.0, est=4.109775910919142, details={'was_impossible': True, 'reason': 'User and/or item is unknown.'}),\n",
              " Prediction(uid='A2LAD5XJJYWQOO', iid='B000065BPB', r_ui=5.0, est=4.109775910919142, details={'was_impossible': True, 'reason': 'User and/or item is unknown.'}),\n",
              " Prediction(uid='A15Q9SIWHNCLWO', iid='B00001P4XA', r_ui=3.0, est=4.109775910919142, details={'was_impossible': True, 'reason': 'User and/or item is unknown.'}),\n",
              " Prediction(uid='A1DVQEDUR2Z7GV', iid='B00006B9HC', r_ui=2.0, est=4.109775910919142, details={'was_impossible': True, 'reason': 'User and/or item is unknown.'}),\n",
              " Prediction(uid='A12T5I9ODNUTQS', iid='B00007EDZG', r_ui=4.0, est=4.109775910919142, details={'was_impossible': True, 'reason': 'User and/or item is unknown.'}),\n",
              " Prediction(uid='A15MIUID77V33G', iid='B000067RC4', r_ui=5.0, est=4.109775910919142, details={'was_impossible': True, 'reason': 'User and/or item is unknown.'}),\n",
              " Prediction(uid='ANKIK05D05TYV', iid='B000066E6Y', r_ui=5.0, est=4.109775910919142, details={'was_impossible': True, 'reason': 'User and/or item is unknown.'}),\n",
              " Prediction(uid='A2MEX17JLK699D', iid='B000067RC4', r_ui=5.0, est=4.109775910919142, details={'was_impossible': True, 'reason': 'User and/or item is unknown.'}),\n",
              " Prediction(uid='AT28RL25Q2OLK', iid='B00004T8R2', r_ui=4.0, est=4.257575757575758, details={'actual_k': 0, 'was_impossible': False}),\n",
              " Prediction(uid='AFFEWGAHLFVP8', iid='B0000645RH', r_ui=2.0, est=4.109775910919142, details={'was_impossible': True, 'reason': 'User and/or item is unknown.'}),\n",
              " Prediction(uid='A23XGOHS6GAY97', iid='B000065BP9', r_ui=5.0, est=4.109775910919142, details={'was_impossible': True, 'reason': 'User and/or item is unknown.'}),\n",
              " Prediction(uid='A1KGUIELOPW0T8', iid='B00000K135', r_ui=5.0, est=4.109775910919142, details={'was_impossible': True, 'reason': 'User and/or item is unknown.'}),\n",
              " Prediction(uid='A1N1ULNE9B578P', iid='B0000222MY', r_ui=5.0, est=4.109775910919142, details={'was_impossible': True, 'reason': 'User and/or item is unknown.'}),\n",
              " Prediction(uid='A3JSY3V8X43HUP', iid='B00004TX6Z', r_ui=5.0, est=4.109775910919142, details={'was_impossible': True, 'reason': 'User and/or item is unknown.'}),\n",
              " Prediction(uid='A157ZDNV1RI0D9', iid='B00006346B', r_ui=3.0, est=4.109775910919142, details={'was_impossible': True, 'reason': 'User and/or item is unknown.'}),\n",
              " Prediction(uid='A1HEAR2EUISPW3', iid='B00006HYKM', r_ui=4.0, est=4.109775910919142, details={'was_impossible': True, 'reason': 'User and/or item is unknown.'}),\n",
              " Prediction(uid='ASAL5ENP7WM0Y', iid='B00001P4ZH', r_ui=5.0, est=4.109775910919142, details={'was_impossible': True, 'reason': 'User and/or item is unknown.'}),\n",
              " Prediction(uid='A3588FFDIMQPFS', iid='B00005T39Y', r_ui=5.0, est=4.109775910919142, details={'was_impossible': True, 'reason': 'User and/or item is unknown.'}),\n",
              " Prediction(uid='A1KTJJUNBYFOEZ', iid='B0000645RH', r_ui=5.0, est=4.109775910919142, details={'was_impossible': True, 'reason': 'User and/or item is unknown.'}),\n",
              " Prediction(uid='AXFWLXVPXSYFI', iid='9625993428', r_ui=2.0, est=4.109775910919142, details={'was_impossible': True, 'reason': 'User and/or item is unknown.'}),\n",
              " Prediction(uid='A8SZM64KUB0U8', iid='B00005MA9X', r_ui=4.0, est=4.109775910919142, details={'was_impossible': True, 'reason': 'User and/or item is unknown.'}),\n",
              " Prediction(uid='A2IUOZAEE426FB', iid='B000051299', r_ui=3.0, est=4.109775910919142, details={'was_impossible': True, 'reason': 'User and/or item is unknown.'}),\n",
              " Prediction(uid='A3ELYTQOQADKDO', iid='B000063574', r_ui=5.0, est=4.109775910919142, details={'was_impossible': True, 'reason': 'User and/or item is unknown.'}),\n",
              " Prediction(uid='A19CZDWDQGOUKC', iid='B00004Z6N6', r_ui=5.0, est=4.109775910919142, details={'was_impossible': True, 'reason': 'User and/or item is unknown.'}),\n",
              " Prediction(uid='A1FLUD22FIDAL2', iid='B00004Z0C7', r_ui=2.0, est=4.109775910919142, details={'was_impossible': True, 'reason': 'User and/or item is unknown.'}),\n",
              " Prediction(uid='A1V8ZJOSO4NHW2', iid='B00005T3GH', r_ui=3.0, est=3.8817527010804316, details={'actual_k': 1, 'was_impossible': False}),\n",
              " Prediction(uid='A3BC7157CQ9J8O', iid='B00004R8V6', r_ui=1.0, est=4.109775910919142, details={'was_impossible': True, 'reason': 'User and/or item is unknown.'}),\n",
              " Prediction(uid='A1MDAPKTOTWIKC', iid='B00004RIUB', r_ui=3.0, est=3.1219512195121952, details={'actual_k': 0, 'was_impossible': False}),\n",
              " Prediction(uid='A1XYCHMXI45988', iid='B00006JPF8', r_ui=3.0, est=4.109775910919142, details={'was_impossible': True, 'reason': 'User and/or item is unknown.'}),\n",
              " Prediction(uid='A3Q7YU3BFYZ7FZ', iid='B000062VUO', r_ui=5.0, est=4.109775910919142, details={'was_impossible': True, 'reason': 'User and/or item is unknown.'}),\n",
              " Prediction(uid='AKM65DHMJS2HC', iid='B00007GQLU', r_ui=4.0, est=4.109775910919142, details={'was_impossible': True, 'reason': 'User and/or item is unknown.'}),\n",
              " Prediction(uid='A2Q9Q4O2CUP6FM', iid='B00006343O', r_ui=5.0, est=4.109775910919142, details={'was_impossible': True, 'reason': 'User and/or item is unknown.'}),\n",
              " Prediction(uid='A3KFI9MUCKRIZH', iid='B000067RC4', r_ui=5.0, est=4.109775910919142, details={'was_impossible': True, 'reason': 'User and/or item is unknown.'}),\n",
              " Prediction(uid='A2YDY9OJ61DW10', iid='B000067SOH', r_ui=5.0, est=4.109775910919142, details={'was_impossible': True, 'reason': 'User and/or item is unknown.'}),\n",
              " Prediction(uid='A2VI45SXKJHPZU', iid='B00004ZC8Y', r_ui=5.0, est=4.2176470588235295, details={'actual_k': 0, 'was_impossible': False}),\n",
              " Prediction(uid='AIVUAPXB85B60', iid='B00000JHWX', r_ui=4.0, est=4.109775910919142, details={'was_impossible': True, 'reason': 'User and/or item is unknown.'}),\n",
              " Prediction(uid='A2LS5L572L3PET', iid='B00003CWDH', r_ui=4.0, est=4.109775910919142, details={'was_impossible': True, 'reason': 'User and/or item is unknown.'}),\n",
              " Prediction(uid='AMBPFKV4XODBJ', iid='140053271X', r_ui=5.0, est=4.109775910919142, details={'was_impossible': True, 'reason': 'User and/or item is unknown.'}),\n",
              " Prediction(uid='A3EJDV2RTFROU4', iid='B00004TS16', r_ui=4.0, est=4.109775910919142, details={'was_impossible': True, 'reason': 'User and/or item is unknown.'}),\n",
              " Prediction(uid='A3OQMITFF2L9MX', iid='B00004ZCJE', r_ui=5.0, est=4.896606334841628, details={'actual_k': 1, 'was_impossible': False}),\n",
              " Prediction(uid='A1PWFR062SJ8L0', iid='B00005T39Y', r_ui=5.0, est=4.109775910919142, details={'was_impossible': True, 'reason': 'User and/or item is unknown.'}),\n",
              " Prediction(uid='AILII4NXTN074', iid='B00001OXQ9', r_ui=5.0, est=4.109775910919142, details={'was_impossible': True, 'reason': 'User and/or item is unknown.'}),\n",
              " Prediction(uid='A7WSR9DA9MTPS', iid='B00006JPDI', r_ui=5.0, est=4.6467065868263475, details={'actual_k': 0, 'was_impossible': False}),\n",
              " Prediction(uid='A60C2T0AHL1A7', iid='B000065BPB', r_ui=4.0, est=4.109775910919142, details={'was_impossible': True, 'reason': 'User and/or item is unknown.'}),\n",
              " Prediction(uid='ANJBU2IRUJ7U6', iid='B00001W0DD', r_ui=5.0, est=4.109775910919142, details={'was_impossible': True, 'reason': 'User and/or item is unknown.'}),\n",
              " Prediction(uid='AGNRNHLVOVJOK', iid='B000065BP9', r_ui=3.0, est=4.109775910919142, details={'was_impossible': True, 'reason': 'User and/or item is unknown.'}),\n",
              " Prediction(uid='A2TUYT803R4FP', iid='B00005UKBG', r_ui=4.0, est=4.109775910919142, details={'was_impossible': True, 'reason': 'User and/or item is unknown.'}),\n",
              " Prediction(uid='A5XU321Z2E5E', iid='B000067O5G', r_ui=5.0, est=4.109775910919142, details={'was_impossible': True, 'reason': 'User and/or item is unknown.'}),\n",
              " Prediction(uid='AHWYLZRPH6UMT', iid='B00006FWVG', r_ui=5.0, est=4.109775910919142, details={'was_impossible': True, 'reason': 'User and/or item is unknown.'}),\n",
              " Prediction(uid='A29ZZMSA2YDQ9T', iid='B00007E7K0', r_ui=5.0, est=4.791044776119403, details={'actual_k': 0, 'was_impossible': False}),\n",
              " Prediction(uid='AWJ7OV6HKM82K', iid='B00001WRSJ', r_ui=5.0, est=4.109775910919142, details={'was_impossible': True, 'reason': 'User and/or item is unknown.'}),\n",
              " Prediction(uid='AG2L50US15KRC', iid='B00006HVLW', r_ui=2.0, est=4.109775910919142, details={'was_impossible': True, 'reason': 'User and/or item is unknown.'}),\n",
              " Prediction(uid='A3HBXWHU74OVNH', iid='B00006B9CR', r_ui=5.0, est=4.109775910919142, details={'was_impossible': True, 'reason': 'User and/or item is unknown.'}),\n",
              " Prediction(uid='A874EPI0MGLDQ', iid='B00005LEN4', r_ui=5.0, est=4.109775910919142, details={'was_impossible': True, 'reason': 'User and/or item is unknown.'}),\n",
              " Prediction(uid='A185C5AWZI2ITN', iid='B00006HVLW', r_ui=5.0, est=4.109775910919142, details={'was_impossible': True, 'reason': 'User and/or item is unknown.'}),\n",
              " Prediction(uid='A1LVKYC7EPIUX8', iid='B000067O5G', r_ui=5.0, est=4.109775910919142, details={'was_impossible': True, 'reason': 'User and/or item is unknown.'}),\n",
              " Prediction(uid='A2KD23H4EJDFZP', iid='B00007DN1E', r_ui=1.0, est=4.109775910919142, details={'was_impossible': True, 'reason': 'User and/or item is unknown.'}),\n",
              " Prediction(uid='A2E4Z216B8LFLZ', iid='B00004WCID', r_ui=5.0, est=4.109775910919142, details={'was_impossible': True, 'reason': 'User and/or item is unknown.'}),\n",
              " Prediction(uid='A31QU6HKTI2WV4', iid='B00006JQ6C', r_ui=5.0, est=4.109775910919142, details={'was_impossible': True, 'reason': 'User and/or item is unknown.'}),\n",
              " Prediction(uid='A15LXNW0ZZVQGT', iid='B000068O16', r_ui=5.0, est=4.729166666666667, details={'actual_k': 0, 'was_impossible': False}),\n",
              " Prediction(uid='A2MYX5ZQDAZH2Z', iid='B00004T8R2', r_ui=5.0, est=4.109775910919142, details={'was_impossible': True, 'reason': 'User and/or item is unknown.'}),\n",
              " Prediction(uid='A39TKB0UNWKKT4', iid='B000067SGI', r_ui=5.0, est=4.109775910919142, details={'was_impossible': True, 'reason': 'User and/or item is unknown.'}),\n",
              " Prediction(uid='A2WL2ZWWGHM2J1', iid='B00001P4XH', r_ui=5.0, est=4.109775910919142, details={'was_impossible': True, 'reason': 'User and/or item is unknown.'}),\n",
              " Prediction(uid='A26BN12E2XD0GN', iid='B000068O3T', r_ui=5.0, est=4.109775910919142, details={'was_impossible': True, 'reason': 'User and/or item is unknown.'}),\n",
              " Prediction(uid='ALH231G89QRT7', iid='B00003WGP5', r_ui=5.0, est=4.109775910919142, details={'was_impossible': True, 'reason': 'User and/or item is unknown.'}),\n",
              " Prediction(uid='A2LDHR2SKDEBIF', iid='B00004ZC8Y', r_ui=5.0, est=4.109775910919142, details={'was_impossible': True, 'reason': 'User and/or item is unknown.'}),\n",
              " Prediction(uid='A39PJ20IDNCH27', iid='B00007IFED', r_ui=5.0, est=4.1126331811263315, details={'actual_k': 0, 'was_impossible': False}),\n",
              " Prediction(uid='A3IYOP4OHSP1QZ', iid='B00005AB9R', r_ui=5.0, est=4.109775910919142, details={'was_impossible': True, 'reason': 'User and/or item is unknown.'}),\n",
              " Prediction(uid='A2U0EC5F4YXSX4', iid='B00005125T', r_ui=5.0, est=4.109775910919142, details={'was_impossible': True, 'reason': 'User and/or item is unknown.'}),\n",
              " Prediction(uid='A1IPV3I09WKFFL', iid='B000068CNU', r_ui=4.0, est=4.109775910919142, details={'was_impossible': True, 'reason': 'User and/or item is unknown.'}),\n",
              " Prediction(uid='A2FWJN3K7DL3RF', iid='B000067G0J', r_ui=4.0, est=4.109775910919142, details={'was_impossible': True, 'reason': 'User and/or item is unknown.'}),\n",
              " Prediction(uid='A3OHLFE8MIT0IZ', iid='B00004Z5CQ', r_ui=3.0, est=4.109775910919142, details={'was_impossible': True, 'reason': 'User and/or item is unknown.'}),\n",
              " Prediction(uid='AD2F67ICNR023', iid='1400501466', r_ui=1.0, est=4.109775910919142, details={'was_impossible': True, 'reason': 'User and/or item is unknown.'}),\n",
              " Prediction(uid='A3SOBW6XRJ0QYE', iid='B00004Z5M1', r_ui=5.0, est=4.109775910919142, details={'was_impossible': True, 'reason': 'User and/or item is unknown.'}),\n",
              " Prediction(uid='A1YBQ1YZH7KKNH', iid='B00004T8R2', r_ui=5.0, est=4.109775910919142, details={'was_impossible': True, 'reason': 'User and/or item is unknown.'}),\n",
              " Prediction(uid='AYQ6GWCSVVYW8', iid='B00004TDL2', r_ui=1.0, est=4.235294117647059, details={'actual_k': 0, 'was_impossible': False}),\n",
              " Prediction(uid='AVXN2RY2WCBCO', iid='B00001P4XH', r_ui=2.0, est=4.109775910919142, details={'was_impossible': True, 'reason': 'User and/or item is unknown.'}),\n",
              " Prediction(uid='A2873AQD21LFO5', iid='B00004THDE', r_ui=4.0, est=4.109775910919142, details={'was_impossible': True, 'reason': 'User and/or item is unknown.'}),\n",
              " Prediction(uid='AGT5J6HAA7Q0S', iid='B000001ON6', r_ui=4.0, est=4.109775910919142, details={'was_impossible': True, 'reason': 'User and/or item is unknown.'}),\n",
              " Prediction(uid='A27F6S88XJTN8Q', iid='B000068P8W', r_ui=5.0, est=4.109775910919142, details={'was_impossible': True, 'reason': 'User and/or item is unknown.'}),\n",
              " Prediction(uid='A89FER91ICE37', iid='B000069DOV', r_ui=4.0, est=4.109775910919142, details={'was_impossible': True, 'reason': 'User and/or item is unknown.'}),\n",
              " Prediction(uid='A3JGB29D4I64XP', iid='B000068O3C', r_ui=3.0, est=4.109775910919142, details={'was_impossible': True, 'reason': 'User and/or item is unknown.'}),\n",
              " Prediction(uid='AUHGKE7T3C4GG', iid='B000069EUW', r_ui=4.0, est=4.109775910919142, details={'was_impossible': True, 'reason': 'User and/or item is unknown.'}),\n",
              " Prediction(uid='A2ORSUD9LIT9YS', iid='B00006I5J7', r_ui=5.0, est=4.109775910919142, details={'was_impossible': True, 'reason': 'User and/or item is unknown.'}),\n",
              " Prediction(uid='A20YIFW8WJWHA3', iid='B00006F2MW', r_ui=5.0, est=4.267857142857143, details={'actual_k': 0, 'was_impossible': False}),\n",
              " Prediction(uid='A9SJNFAFHN89J', iid='B00004WCIC', r_ui=5.0, est=4.109775910919142, details={'was_impossible': True, 'reason': 'User and/or item is unknown.'}),\n",
              " Prediction(uid='A27NF8YZQVRLXR', iid='B00007EDZ7', r_ui=1.0, est=4.109775910919142, details={'was_impossible': True, 'reason': 'User and/or item is unknown.'}),\n",
              " Prediction(uid='AKVQ48KAPB73I', iid='B00005N6KG', r_ui=4.0, est=4.109775910919142, details={'was_impossible': True, 'reason': 'User and/or item is unknown.'}),\n",
              " Prediction(uid='A2HW660OT2KXUM', iid='B00006BBAB', r_ui=5.0, est=4.109775910919142, details={'was_impossible': True, 'reason': 'User and/or item is unknown.'}),\n",
              " Prediction(uid='APCNT89GU2UH5', iid='B00007JDR0', r_ui=5.0, est=4.109775910919142, details={'was_impossible': True, 'reason': 'User and/or item is unknown.'}),\n",
              " Prediction(uid='A1OYMPJU0TNKBR', iid='B00005A1K1', r_ui=5.0, est=4.109775910919142, details={'was_impossible': True, 'reason': 'User and/or item is unknown.'}),\n",
              " Prediction(uid='A2VG4MIRET7HEO', iid='B00005N5X2', r_ui=4.0, est=3.7745098039215685, details={'actual_k': 0, 'was_impossible': False}),\n",
              " Prediction(uid='AHC2CFSLML8NO', iid='B00007E7JU', r_ui=5.0, est=4.109775910919142, details={'was_impossible': True, 'reason': 'User and/or item is unknown.'}),\n",
              " Prediction(uid='AUO6GU9F3057W', iid='B00006I5WJ', r_ui=5.0, est=4.109775910919142, details={'was_impossible': True, 'reason': 'User and/or item is unknown.'}),\n",
              " Prediction(uid='A2QNRIWHDNUH9D', iid='B00007E7C8', r_ui=5.0, est=4.109775910919142, details={'was_impossible': True, 'reason': 'User and/or item is unknown.'}),\n",
              " Prediction(uid='A2YNWX45WCMJCU', iid='B000053HH5', r_ui=5.0, est=4.109775910919142, details={'was_impossible': True, 'reason': 'User and/or item is unknown.'}),\n",
              " Prediction(uid='A7U0811QO39VD', iid='B00004Z5M1', r_ui=5.0, est=4.109775910919142, details={'was_impossible': True, 'reason': 'User and/or item is unknown.'}),\n",
              " Prediction(uid='A1166ELZFWJNU3', iid='B00006RVPW', r_ui=5.0, est=4.109775910919142, details={'was_impossible': True, 'reason': 'User and/or item is unknown.'}),\n",
              " Prediction(uid='A2F4XY8FHYKXZV', iid='B00002NDRQ', r_ui=5.0, est=4.109775910919142, details={'was_impossible': True, 'reason': 'User and/or item is unknown.'}),\n",
              " Prediction(uid='A12AU3CNAWYO5D', iid='0972683275', r_ui=5.0, est=4.109775910919142, details={'was_impossible': True, 'reason': 'User and/or item is unknown.'}),\n",
              " Prediction(uid='A3NUZ3FNPIHPQX', iid='B00006JN3G', r_ui=5.0, est=4.109775910919142, details={'was_impossible': True, 'reason': 'User and/or item is unknown.'}),\n",
              " Prediction(uid='ACBMENUDHYG9X', iid='B00006I5SQ', r_ui=5.0, est=4.109775910919142, details={'was_impossible': True, 'reason': 'User and/or item is unknown.'}),\n",
              " Prediction(uid='ACUADWQYHPQGH', iid='B00000DM9W', r_ui=5.0, est=4.109775910919142, details={'was_impossible': True, 'reason': 'User and/or item is unknown.'}),\n",
              " Prediction(uid='AI3FJ2DZ7IQYM', iid='B00004Z5M1', r_ui=3.0, est=4.565674255691769, details={'actual_k': 0, 'was_impossible': False}),\n",
              " Prediction(uid='A1LOEPBHBW8Q5N', iid='B000065BPB', r_ui=1.0, est=4.109775910919142, details={'was_impossible': True, 'reason': 'User and/or item is unknown.'}),\n",
              " Prediction(uid='A1N5XQFJDOAI32', iid='B00006HOKR', r_ui=4.0, est=4.109775910919142, details={'was_impossible': True, 'reason': 'User and/or item is unknown.'}),\n",
              " Prediction(uid='A24AVNMSKC55D4', iid='B00005Q5U5', r_ui=5.0, est=4.662650602409639, details={'actual_k': 0, 'was_impossible': False}),\n",
              " Prediction(uid='A292RW9VVIJC2O', iid='B00007EDZG', r_ui=5.0, est=4.109775910919142, details={'was_impossible': True, 'reason': 'User and/or item is unknown.'}),\n",
              " Prediction(uid='A2NLE392AJ0LOU', iid='B00005N6KG', r_ui=4.0, est=3.99108138238573, details={'actual_k': 0, 'was_impossible': False}),\n",
              " Prediction(uid='A1ZNEWUQVP68U4', iid='B00007FSB9', r_ui=1.0, est=4.109775910919142, details={'was_impossible': True, 'reason': 'User and/or item is unknown.'}),\n",
              " Prediction(uid='A1U24292PW8WR6', iid='B00001P505', r_ui=5.0, est=4.109775910919142, details={'was_impossible': True, 'reason': 'User and/or item is unknown.'}),\n",
              " Prediction(uid='A2RNX9QPES4RP1', iid='B00004VUGJ', r_ui=4.0, est=4.109775910919142, details={'was_impossible': True, 'reason': 'User and/or item is unknown.'}),\n",
              " Prediction(uid='A3ETN4FOG2SWKV', iid='B00000JYWQ', r_ui=4.0, est=4.109775910919142, details={'was_impossible': True, 'reason': 'User and/or item is unknown.'}),\n",
              " Prediction(uid='A1BQXCO25DCRXS', iid='B000069EUX', r_ui=2.0, est=4.109775910919142, details={'was_impossible': True, 'reason': 'User and/or item is unknown.'}),\n",
              " Prediction(uid='A2XXCJLS58H1A7', iid='B00006JPDF', r_ui=5.0, est=4.109775910919142, details={'was_impossible': True, 'reason': 'User and/or item is unknown.'}),\n",
              " Prediction(uid='A22D4GR5FWKIXC', iid='B00005T39Y', r_ui=5.0, est=4.109775910919142, details={'was_impossible': True, 'reason': 'User and/or item is unknown.'}),\n",
              " Prediction(uid='AG7W0XTX9ZON5', iid='B00007056H', r_ui=5.0, est=4.109775910919142, details={'was_impossible': True, 'reason': 'User and/or item is unknown.'}),\n",
              " Prediction(uid='A26DTLSJXXTFQA', iid='B00004ZCJE', r_ui=5.0, est=4.109775910919142, details={'was_impossible': True, 'reason': 'User and/or item is unknown.'}),\n",
              " Prediction(uid='AUVDGH1F6H3UR', iid='B00005UOS4', r_ui=5.0, est=4.109775910919142, details={'was_impossible': True, 'reason': 'User and/or item is unknown.'}),\n",
              " Prediction(uid='AB186HLHMCCP8', iid='B00005I9RU', r_ui=4.0, est=4.109775910919142, details={'was_impossible': True, 'reason': 'User and/or item is unknown.'}),\n",
              " Prediction(uid='A2MUT5TC9CI7F9', iid='B00006I5WJ', r_ui=5.0, est=4.109775910919142, details={'was_impossible': True, 'reason': 'User and/or item is unknown.'}),\n",
              " Prediction(uid='A23DA6YISL2FO8', iid='B00006HOLO', r_ui=5.0, est=4.233532934131737, details={'actual_k': 0, 'was_impossible': False}),\n",
              " Prediction(uid='A2GEK8R4FEXDZU', iid='9983891212', r_ui=5.0, est=4.109775910919142, details={'was_impossible': True, 'reason': 'User and/or item is unknown.'}),\n",
              " Prediction(uid='A3AMLV77GW8I0O', iid='B00006J07O', r_ui=4.0, est=4.109775910919142, details={'was_impossible': True, 'reason': 'User and/or item is unknown.'}),\n",
              " Prediction(uid='AFKMK18ZXRU0Q', iid='B00006HZ0L', r_ui=5.0, est=4.240963855421687, details={'actual_k': 0, 'was_impossible': False}),\n",
              " Prediction(uid='A2GUHX6I9QQ3E9', iid='B00001W0EQ', r_ui=4.0, est=4.109775910919142, details={'was_impossible': True, 'reason': 'User and/or item is unknown.'}),\n",
              " Prediction(uid='AQQ51OGG7521Y', iid='B00005K47X', r_ui=5.0, est=3.4232466063348417, details={'actual_k': 1, 'was_impossible': False}),\n",
              " Prediction(uid='AOATR5ZLVCTDO', iid='B00005T3N0', r_ui=5.0, est=4.109775910919142, details={'was_impossible': True, 'reason': 'User and/or item is unknown.'}),\n",
              " Prediction(uid='A24T0SUJO280ON', iid='B000058BCQ', r_ui=5.0, est=4.109775910919142, details={'was_impossible': True, 'reason': 'User and/or item is unknown.'}),\n",
              " Prediction(uid='ACS5IMALNMBXQ', iid='B00004SB92', r_ui=1.0, est=4.109775910919142, details={'was_impossible': True, 'reason': 'User and/or item is unknown.'}),\n",
              " Prediction(uid='A26H2DP151HT9L', iid='B00005LEN4', r_ui=5.0, est=4.109775910919142, details={'was_impossible': True, 'reason': 'User and/or item is unknown.'}),\n",
              " Prediction(uid='A1QT0DLZG5I0D0', iid='B00006BBAC', r_ui=5.0, est=4.109775910919142, details={'was_impossible': True, 'reason': 'User and/or item is unknown.'}),\n",
              " Prediction(uid='A2YC6AANV4GZ0F', iid='B00004ZCKV', r_ui=4.0, est=4.05, details={'actual_k': 0, 'was_impossible': False}),\n",
              " Prediction(uid='A7O34KA1PSY3I', iid='B00004TDLD', r_ui=5.0, est=4.109775910919142, details={'was_impossible': True, 'reason': 'User and/or item is unknown.'}),\n",
              " Prediction(uid='AXNNZ0DPHG7XT', iid='B000068O3T', r_ui=5.0, est=4.109775910919142, details={'was_impossible': True, 'reason': 'User and/or item is unknown.'}),\n",
              " Prediction(uid='A1U36JGBTH7T3H', iid='B0000645RH', r_ui=1.0, est=4.109775910919142, details={'was_impossible': True, 'reason': 'User and/or item is unknown.'}),\n",
              " Prediction(uid='A1K9E3F8JDESAQ', iid='B00007IFED', r_ui=5.0, est=4.109775910919142, details={'was_impossible': True, 'reason': 'User and/or item is unknown.'}),\n",
              " Prediction(uid='A3TOMVIZ45HD15', iid='9966694544', r_ui=5.0, est=4.109775910919142, details={'was_impossible': True, 'reason': 'User and/or item is unknown.'}),\n",
              " Prediction(uid='A1EUCKR1IKTNEA', iid='9625993428', r_ui=4.0, est=4.109775910919142, details={'was_impossible': True, 'reason': 'User and/or item is unknown.'}),\n",
              " Prediction(uid='A5GZTPELOW2Z5', iid='B00006IW1X', r_ui=1.0, est=4.109775910919142, details={'was_impossible': True, 'reason': 'User and/or item is unknown.'}),\n",
              " Prediction(uid='A1SPEJHMZ5GOX5', iid='B00006B7DA', r_ui=5.0, est=4.109775910919142, details={'was_impossible': True, 'reason': 'User and/or item is unknown.'}),\n",
              " Prediction(uid='AFNRKRQPD23TE', iid='B00007E7C8', r_ui=4.0, est=4.109775910919142, details={'was_impossible': True, 'reason': 'User and/or item is unknown.'}),\n",
              " Prediction(uid='A1J1NFAMO3L3QS', iid='B00007GQLS', r_ui=5.0, est=4.109775910919142, details={'was_impossible': True, 'reason': 'User and/or item is unknown.'}),\n",
              " Prediction(uid='A1JJB1LFECO2J2', iid='B0000632T3', r_ui=4.0, est=4.109775910919142, details={'was_impossible': True, 'reason': 'User and/or item is unknown.'}),\n",
              " Prediction(uid='A3P8NPZOWEBWT8', iid='B00005T3BD', r_ui=5.0, est=5, details={'actual_k': 1, 'was_impossible': False}),\n",
              " Prediction(uid='A1IHQR1NT6CKVR', iid='B00006FXR9', r_ui=5.0, est=3.7445887445887447, details={'actual_k': 0, 'was_impossible': False}),\n",
              " Prediction(uid='A1T3WVAX2I8NX5', iid='B00004WCID', r_ui=5.0, est=4.109775910919142, details={'was_impossible': True, 'reason': 'User and/or item is unknown.'}),\n",
              " Prediction(uid='A2J7N41YEOQSUV', iid='140053271X', r_ui=2.0, est=4.109775910919142, details={'was_impossible': True, 'reason': 'User and/or item is unknown.'}),\n",
              " Prediction(uid='A309PFW8T6DMMZ', iid='B00004TBLW', r_ui=5.0, est=4.109775910919142, details={'was_impossible': True, 'reason': 'User and/or item is unknown.'}),\n",
              " Prediction(uid='AGL0YCXDMAH4U', iid='B000051SGX', r_ui=2.0, est=4.109775910919142, details={'was_impossible': True, 'reason': 'User and/or item is unknown.'}),\n",
              " Prediction(uid='A20DY44BGC6A5C', iid='B00005125T', r_ui=5.0, est=4.109775910919142, details={'was_impossible': True, 'reason': 'User and/or item is unknown.'}),\n",
              " Prediction(uid='A1FVN80HHHR3RA', iid='B00000J4EY', r_ui=3.0, est=4.8125, details={'actual_k': 0, 'was_impossible': False}),\n",
              " Prediction(uid='A2IA5OIA301LW2', iid='B00004ZCJE', r_ui=5.0, est=4.109775910919142, details={'was_impossible': True, 'reason': 'User and/or item is unknown.'}),\n",
              " Prediction(uid='A2WHGKRE0PAXYP', iid='B00005AWBJ', r_ui=4.0, est=4.109775910919142, details={'was_impossible': True, 'reason': 'User and/or item is unknown.'}),\n",
              " Prediction(uid='A2Y7BTMS9DX02U', iid='B00000K2YV', r_ui=5.0, est=4.109775910919142, details={'was_impossible': True, 'reason': 'User and/or item is unknown.'}),\n",
              " Prediction(uid='A200JD8JQIPR41', iid='B00007IFED', r_ui=5.0, est=4.109775910919142, details={'was_impossible': True, 'reason': 'User and/or item is unknown.'}),\n",
              " Prediction(uid='A20QQ50PKYNW9G', iid='B00006A7AY', r_ui=5.0, est=4.109775910919142, details={'was_impossible': True, 'reason': 'User and/or item is unknown.'}),\n",
              " Prediction(uid='A3RJ7V6NMKUZU2', iid='B00001P4ZH', r_ui=4.0, est=4.109775910919142, details={'was_impossible': True, 'reason': 'User and/or item is unknown.'}),\n",
              " Prediction(uid='A10CVZORIHLPC0', iid='1400698987', r_ui=5.0, est=4.109775910919142, details={'was_impossible': True, 'reason': 'User and/or item is unknown.'}),\n",
              " Prediction(uid='A4H5BAIBHIGDD', iid='B00004ZC8Y', r_ui=5.0, est=4.109775910919142, details={'was_impossible': True, 'reason': 'User and/or item is unknown.'}),\n",
              " Prediction(uid='A11VWGXP8YC5AX', iid='B00006I5WJ', r_ui=5.0, est=4.109775910919142, details={'was_impossible': True, 'reason': 'User and/or item is unknown.'}),\n",
              " Prediction(uid='A22D8D4M81XUDQ', iid='B00006JPA1', r_ui=5.0, est=4.109775910919142, details={'was_impossible': True, 'reason': 'User and/or item is unknown.'}),\n",
              " Prediction(uid='A1RHOPQUMXFQDA', iid='B0000632H7', r_ui=3.0, est=4.109775910919142, details={'was_impossible': True, 'reason': 'User and/or item is unknown.'}),\n",
              " Prediction(uid='A34UI7F65BOX21', iid='B00005N6KG', r_ui=5.0, est=4.109775910919142, details={'was_impossible': True, 'reason': 'User and/or item is unknown.'}),\n",
              " Prediction(uid='A1S3KIHV2W6LRQ', iid='B00007E7C8', r_ui=5.0, est=4.37155297532656, details={'actual_k': 0, 'was_impossible': False}),\n",
              " Prediction(uid='A14QXPTYZ90Q7M', iid='B00000J4GE', r_ui=2.0, est=4.109775910919142, details={'was_impossible': True, 'reason': 'User and/or item is unknown.'}),\n",
              " Prediction(uid='A15N3BA6LQRVZV', iid='B00005AC8J', r_ui=1.0, est=4.109775910919142, details={'was_impossible': True, 'reason': 'User and/or item is unknown.'}),\n",
              " Prediction(uid='A2IXOPHYZFAE6Q', iid='B000063574', r_ui=5.0, est=4.109775910919142, details={'was_impossible': True, 'reason': 'User and/or item is unknown.'}),\n",
              " Prediction(uid='A4N8U746XPTSJ', iid='B00004WCIC', r_ui=5.0, est=4.109775910919142, details={'was_impossible': True, 'reason': 'User and/or item is unknown.'}),\n",
              " Prediction(uid='A32ZOPO8Y68UVV', iid='B00005T3N3', r_ui=5.0, est=4.109775910919142, details={'was_impossible': True, 'reason': 'User and/or item is unknown.'}),\n",
              " Prediction(uid='AJDZ85R6EH609', iid='B00006FXR9', r_ui=5.0, est=4.109775910919142, details={'was_impossible': True, 'reason': 'User and/or item is unknown.'}),\n",
              " Prediction(uid='A25BKGOA80FPYO', iid='B00006A7AY', r_ui=4.0, est=4.109775910919142, details={'was_impossible': True, 'reason': 'User and/or item is unknown.'}),\n",
              " Prediction(uid='A3Q1NVZQ2V2W92', iid='B000063574', r_ui=4.0, est=4.109775910919142, details={'was_impossible': True, 'reason': 'User and/or item is unknown.'}),\n",
              " Prediction(uid='AX0JJLY8E3UUK', iid='B000063574', r_ui=5.0, est=4.109775910919142, details={'was_impossible': True, 'reason': 'User and/or item is unknown.'}),\n",
              " Prediction(uid='A32L0FJQVLK7CK', iid='B000056SSM', r_ui=2.0, est=4.109775910919142, details={'was_impossible': True, 'reason': 'User and/or item is unknown.'}),\n",
              " Prediction(uid='A334K5BUESGEDU', iid='B00001WRSJ', r_ui=5.0, est=4.109775910919142, details={'was_impossible': True, 'reason': 'User and/or item is unknown.'}),\n",
              " Prediction(uid='A3894ZAF867VHA', iid='B00004ZC8Y', r_ui=5.0, est=4.109775910919142, details={'was_impossible': True, 'reason': 'User and/or item is unknown.'}),\n",
              " Prediction(uid='A39A9U6HFHCTZ0', iid='B00007EDZG', r_ui=5.0, est=4.109775910919142, details={'was_impossible': True, 'reason': 'User and/or item is unknown.'}),\n",
              " Prediction(uid='A2YFDL8TPD3MWT', iid='B000065BP9', r_ui=5.0, est=4.649529815868011, details={'actual_k': 1, 'was_impossible': False}),\n",
              " Prediction(uid='AIBMC0YKGPIVD', iid='B00006HOKR', r_ui=5.0, est=4.109775910919142, details={'was_impossible': True, 'reason': 'User and/or item is unknown.'}),\n",
              " Prediction(uid='A23KM1IDB6RTAN', iid='B000051WW9', r_ui=4.0, est=4.109775910919142, details={'was_impossible': True, 'reason': 'User and/or item is unknown.'}),\n",
              " Prediction(uid='A1CWAKGNXPJ9YM', iid='B00001WRSJ', r_ui=4.0, est=4.109775910919142, details={'was_impossible': True, 'reason': 'User and/or item is unknown.'}),\n",
              " Prediction(uid='ANLNBDW5CJB8L', iid='B00005NWR0', r_ui=3.0, est=4.109775910919142, details={'was_impossible': True, 'reason': 'User and/or item is unknown.'}),\n",
              " Prediction(uid='A4VEKNHHOZIMJ', iid='B000067RC4', r_ui=5.0, est=4.109775910919142, details={'was_impossible': True, 'reason': 'User and/or item is unknown.'}),\n",
              " Prediction(uid='A2J1WHHWNIHOG7', iid='B00005T380', r_ui=4.0, est=4.109775910919142, details={'was_impossible': True, 'reason': 'User and/or item is unknown.'}),\n",
              " Prediction(uid='A1YRUUY14KW853', iid='B00001WRSJ', r_ui=5.0, est=4.109775910919142, details={'was_impossible': True, 'reason': 'User and/or item is unknown.'}),\n",
              " Prediction(uid='AUOFXK54JKVFA', iid='B00005ATMB', r_ui=5.0, est=4.109775910919142, details={'was_impossible': True, 'reason': 'User and/or item is unknown.'}),\n",
              " Prediction(uid='AWC5SWSR87DWN', iid='B00007E7JU', r_ui=4.0, est=4.109775910919142, details={'was_impossible': True, 'reason': 'User and/or item is unknown.'}),\n",
              " Prediction(uid='A392AOA6ZHAK6R', iid='B00004TWVY', r_ui=2.0, est=4.109775910919142, details={'was_impossible': True, 'reason': 'User and/or item is unknown.'}),\n",
              " Prediction(uid='A329P043ENCM1R', iid='B00005V8R8', r_ui=4.0, est=4.372549019607843, details={'actual_k': 0, 'was_impossible': False}),\n",
              " Prediction(uid='A2EE519KSD18DL', iid='B00005T408', r_ui=5.0, est=4.109775910919142, details={'was_impossible': True, 'reason': 'User and/or item is unknown.'}),\n",
              " Prediction(uid='AZ2EZO1QD3IBL', iid='B00004TBLW', r_ui=3.0, est=4.109775910919142, details={'was_impossible': True, 'reason': 'User and/or item is unknown.'}),\n",
              " Prediction(uid='A2X4OC5XH6OFH2', iid='B00004Y7CF', r_ui=5.0, est=4.109775910919142, details={'was_impossible': True, 'reason': 'User and/or item is unknown.'}),\n",
              " Prediction(uid='A3IK3XC8AIPNBI', iid='B00006FWVG', r_ui=2.0, est=4.109775910919142, details={'was_impossible': True, 'reason': 'User and/or item is unknown.'}),\n",
              " Prediction(uid='A2TZ0XY4PPAQ2X', iid='B000068O3C', r_ui=5.0, est=4.109775910919142, details={'was_impossible': True, 'reason': 'User and/or item is unknown.'}),\n",
              " Prediction(uid='A1T1FYX6QTXGVW', iid='B00005QBUU', r_ui=5.0, est=4.109775910919142, details={'was_impossible': True, 'reason': 'User and/or item is unknown.'}),\n",
              " Prediction(uid='A27PM2W8XGRHG3', iid='B00004W3YX', r_ui=5.0, est=4.109775910919142, details={'was_impossible': True, 'reason': 'User and/or item is unknown.'}),\n",
              " Prediction(uid='ANRXQMCE1164J', iid='B00001OWYM', r_ui=5.0, est=4.109775910919142, details={'was_impossible': True, 'reason': 'User and/or item is unknown.'}),\n",
              " Prediction(uid='ARF6NZ2PH6MCB', iid='B000067RT6', r_ui=5.0, est=4.109775910919142, details={'was_impossible': True, 'reason': 'User and/or item is unknown.'}),\n",
              " Prediction(uid='AJG9MLQX3EQOD', iid='1400532655', r_ui=5.0, est=4.109775910919142, details={'was_impossible': True, 'reason': 'User and/or item is unknown.'}),\n",
              " Prediction(uid='A2QTQESKIQUE0Z', iid='B00005N6KG', r_ui=5.0, est=4.109775910919142, details={'was_impossible': True, 'reason': 'User and/or item is unknown.'}),\n",
              " Prediction(uid='A20MUZJPWT867K', iid='B00007DWEA', r_ui=5.0, est=4.109775910919142, details={'was_impossible': True, 'reason': 'User and/or item is unknown.'}),\n",
              " Prediction(uid='A14RLQZN599FVE', iid='B00004VX15', r_ui=5.0, est=4.109775910919142, details={'was_impossible': True, 'reason': 'User and/or item is unknown.'}),\n",
              " Prediction(uid='AMG9WM14LDOH0', iid='9984984354', r_ui=5.0, est=4.109775910919142, details={'was_impossible': True, 'reason': 'User and/or item is unknown.'}),\n",
              " Prediction(uid='A32T4Y9FHUBH4T', iid='B00004WCFT', r_ui=5.0, est=4.25, details={'actual_k': 0, 'was_impossible': False}),\n",
              " Prediction(uid='A1PHNLA4KUYU87', iid='B00007E7JU', r_ui=5.0, est=4.109775910919142, details={'was_impossible': True, 'reason': 'User and/or item is unknown.'}),\n",
              " Prediction(uid='A29DQQGPGOYGOU', iid='B00001OWYM', r_ui=5.0, est=4.109775910919142, details={'was_impossible': True, 'reason': 'User and/or item is unknown.'}),\n",
              " Prediction(uid='A2ALRZ0ENQLYY5', iid='B0000510IA', r_ui=5.0, est=4.435897435897436, details={'actual_k': 0, 'was_impossible': False}),\n",
              " Prediction(uid='A2UIX7OZCCPFQ2', iid='B00006343O', r_ui=3.0, est=4.109775910919142, details={'was_impossible': True, 'reason': 'User and/or item is unknown.'}),\n",
              " Prediction(uid='A2Q6GPXSPOFI69', iid='B00007E7C8', r_ui=5.0, est=4.109775910919142, details={'was_impossible': True, 'reason': 'User and/or item is unknown.'}),\n",
              " Prediction(uid='A2C68W4G07BDJ2', iid='B00006BBAC', r_ui=5.0, est=4.219653179190751, details={'actual_k': 0, 'was_impossible': False}),\n",
              " Prediction(uid='A2VQ6F4QSLNTH6', iid='B000065CE1', r_ui=4.0, est=4.109775910919142, details={'was_impossible': True, 'reason': 'User and/or item is unknown.'}),\n",
              " Prediction(uid='A1CWCOZ001MQEA', iid='B0000642RX', r_ui=5.0, est=4.109775910919142, details={'was_impossible': True, 'reason': 'User and/or item is unknown.'}),\n",
              " Prediction(uid='A35LFO0F2ROTNG', iid='B00002NDRQ', r_ui=5.0, est=4.109775910919142, details={'was_impossible': True, 'reason': 'User and/or item is unknown.'}),\n",
              " Prediction(uid='A3NIF89RBTYXZP', iid='B000063EJW', r_ui=5.0, est=3.7358490566037736, details={'actual_k': 0, 'was_impossible': False}),\n",
              " Prediction(uid='A1VUHTQ6GC4LH', iid='B00000J1V5', r_ui=4.0, est=4.59009009009009, details={'actual_k': 0, 'was_impossible': False}),\n",
              " Prediction(uid='AR2B680W7YQ2W', iid='B00004R8VC', r_ui=5.0, est=4.109775910919142, details={'was_impossible': True, 'reason': 'User and/or item is unknown.'}),\n",
              " Prediction(uid='A3J1TK3HSL7YUD', iid='B00000DM9W', r_ui=5.0, est=4.109775910919142, details={'was_impossible': True, 'reason': 'User and/or item is unknown.'}),\n",
              " Prediction(uid='AJ7GM12QWSG5T', iid='B00004VX39', r_ui=4.0, est=4.109775910919142, details={'was_impossible': True, 'reason': 'User and/or item is unknown.'}),\n",
              " Prediction(uid='A1SJCQKVGSHTZ4', iid='B00004ZCJE', r_ui=5.0, est=4.55614201351988, details={'actual_k': 1, 'was_impossible': False}),\n",
              " Prediction(uid='ASAYJ5F61GAYI', iid='B00006JKW5', r_ui=5.0, est=4.109775910919142, details={'was_impossible': True, 'reason': 'User and/or item is unknown.'}),\n",
              " Prediction(uid='A2Z64GS4C7UI9S', iid='B00006RSQU', r_ui=3.0, est=4.138888888888889, details={'actual_k': 0, 'was_impossible': False}),\n",
              " Prediction(uid='A2OYIU57X1O2AT', iid='B00007IFJY', r_ui=5.0, est=4.109775910919142, details={'was_impossible': True, 'reason': 'User and/or item is unknown.'}),\n",
              " Prediction(uid='A3KM9CU6VYH49P', iid='B0000645RH', r_ui=5.0, est=4.109775910919142, details={'was_impossible': True, 'reason': 'User and/or item is unknown.'}),\n",
              " Prediction(uid='A1LXXI6A1QBADU', iid='B00005ATMB', r_ui=5.0, est=4.109775910919142, details={'was_impossible': True, 'reason': 'User and/or item is unknown.'}),\n",
              " Prediction(uid='AOWWC54W94WKC', iid='B00006HXF4', r_ui=5.0, est=4.109775910919142, details={'was_impossible': True, 'reason': 'User and/or item is unknown.'}),\n",
              " Prediction(uid='A1P6XG0NHH9S0A', iid='B00006B81D', r_ui=4.0, est=4.109775910919142, details={'was_impossible': True, 'reason': 'User and/or item is unknown.'}),\n",
              " Prediction(uid='A2YD0HT67FZVUS', iid='B000066CCU', r_ui=4.0, est=4.109775910919142, details={'was_impossible': True, 'reason': 'User and/or item is unknown.'}),\n",
              " Prediction(uid='A3SKG5Q3HTABI5', iid='B000067SPP', r_ui=5.0, est=4.109775910919142, details={'was_impossible': True, 'reason': 'User and/or item is unknown.'}),\n",
              " Prediction(uid='A2TBLWQX0EQHGV', iid='B000063UZW', r_ui=5.0, est=4.109775910919142, details={'was_impossible': True, 'reason': 'User and/or item is unknown.'}),\n",
              " Prediction(uid='A1YJRWAKH1N3D5', iid='B00007EDZG', r_ui=5.0, est=4.109775910919142, details={'was_impossible': True, 'reason': 'User and/or item is unknown.'}),\n",
              " Prediction(uid='A3M19T0ZVALQAS', iid='B00002JXFH', r_ui=3.0, est=4.261904761904762, details={'actual_k': 0, 'was_impossible': False}),\n",
              " Prediction(uid='A2AR6U2I9EMGKL', iid='B00005B6UF', r_ui=2.0, est=4.109775910919142, details={'was_impossible': True, 'reason': 'User and/or item is unknown.'}),\n",
              " Prediction(uid='AD166AJSC66O7', iid='B00007AP2O', r_ui=5.0, est=4.109775910919142, details={'was_impossible': True, 'reason': 'User and/or item is unknown.'}),\n",
              " Prediction(uid='A3UAFAZCPSPGWY', iid='140053271X', r_ui=5.0, est=4.109775910919142, details={'was_impossible': True, 'reason': 'User and/or item is unknown.'}),\n",
              " Prediction(uid='A12X4UDMHEBY8L', iid='B00000J1QK', r_ui=5.0, est=4.109775910919142, details={'was_impossible': True, 'reason': 'User and/or item is unknown.'}),\n",
              " Prediction(uid='A2XOZCFE3AFXYI', iid='B00007E7JU', r_ui=5.0, est=4.109775910919142, details={'was_impossible': True, 'reason': 'User and/or item is unknown.'}),\n",
              " Prediction(uid='A1PLJPZ6DV5D3A', iid='B00006I5WJ', r_ui=4.0, est=4.109775910919142, details={'was_impossible': True, 'reason': 'User and/or item is unknown.'}),\n",
              " Prediction(uid='A1JJWFC3SJJNB4', iid='B000067RC4', r_ui=5.0, est=4.109775910919142, details={'was_impossible': True, 'reason': 'User and/or item is unknown.'}),\n",
              " Prediction(uid='AF0WUTKPSGB69', iid='B00007DN1E', r_ui=1.0, est=4.109775910919142, details={'was_impossible': True, 'reason': 'User and/or item is unknown.'}),\n",
              " Prediction(uid='AO10RQNW4Y0TW', iid='B00004T1XE', r_ui=5.0, est=4.109775910919142, details={'was_impossible': True, 'reason': 'User and/or item is unknown.'}),\n",
              " Prediction(uid='A3JH4APKLE4M0N', iid='B00004SY4H', r_ui=5.0, est=4.109775910919142, details={'was_impossible': True, 'reason': 'User and/or item is unknown.'}),\n",
              " Prediction(uid='A34ES95YYDGZKM', iid='B00005ML7Q', r_ui=1.0, est=4.109775910919142, details={'was_impossible': True, 'reason': 'User and/or item is unknown.'}),\n",
              " Prediction(uid='A3D1WD6LH1AOIO', iid='B0000510ZO', r_ui=2.0, est=4.109775910919142, details={'was_impossible': True, 'reason': 'User and/or item is unknown.'}),\n",
              " Prediction(uid='A38986T7SECVKX', iid='B00004SB92', r_ui=5.0, est=4.109775910919142, details={'was_impossible': True, 'reason': 'User and/or item is unknown.'}),\n",
              " Prediction(uid='A2KZOIOFXXMC1H', iid='B00005AXHW', r_ui=4.0, est=4.4363636363636365, details={'actual_k': 0, 'was_impossible': False}),\n",
              " Prediction(uid='A21PSCSY0XHV4W', iid='B00004WCGF', r_ui=4.0, est=4.109775910919142, details={'was_impossible': True, 'reason': 'User and/or item is unknown.'}),\n",
              " Prediction(uid='A1HBHYF31QHURL', iid='B00004SABB', r_ui=2.0, est=4.109775910919142, details={'was_impossible': True, 'reason': 'User and/or item is unknown.'}),\n",
              " Prediction(uid='A1O981VELDVJ4K', iid='B00006JPA1', r_ui=5.0, est=4.109775910919142, details={'was_impossible': True, 'reason': 'User and/or item is unknown.'}),\n",
              " Prediction(uid='AQO5UIWII0SVK', iid='B00005BC0J', r_ui=5.0, est=4.109775910919142, details={'was_impossible': True, 'reason': 'User and/or item is unknown.'}),\n",
              " Prediction(uid='A1MML2MUXAA8AM', iid='B00006BBAC', r_ui=4.0, est=4.219653179190751, details={'actual_k': 0, 'was_impossible': False}),\n",
              " Prediction(uid='A3E241XTAELGAE', iid='B00007EDZG', r_ui=1.0, est=4.109775910919142, details={'was_impossible': True, 'reason': 'User and/or item is unknown.'}),\n",
              " Prediction(uid='A16MN8OJU2J6OA', iid='B00000JI4F', r_ui=5.0, est=4.109775910919142, details={'was_impossible': True, 'reason': 'User and/or item is unknown.'}),\n",
              " Prediction(uid='A1R71FZXYGYIFY', iid='B00006I5O1', r_ui=5.0, est=4.109775910919142, details={'was_impossible': True, 'reason': 'User and/or item is unknown.'}),\n",
              " Prediction(uid='AJAN21R4IRPIS', iid='B000069EUW', r_ui=3.0, est=4.109775910919142, details={'was_impossible': True, 'reason': 'User and/or item is unknown.'}),\n",
              " Prediction(uid='A1319TL9NWBLY8', iid='B00001P4ZH', r_ui=5.0, est=4.109775910919142, details={'was_impossible': True, 'reason': 'User and/or item is unknown.'}),\n",
              " Prediction(uid='A56VVV7KW2IS6', iid='B00002NDRQ', r_ui=4.0, est=4.109775910919142, details={'was_impossible': True, 'reason': 'User and/or item is unknown.'}),\n",
              " Prediction(uid='A2RS4GP62CGXSJ', iid='B00007EDM8', r_ui=5.0, est=3.7391696750902526, details={'actual_k': 0, 'was_impossible': False}),\n",
              " Prediction(uid='A2PNYDQQ79YPUP', iid='B0000511BI', r_ui=5.0, est=4.508474576271187, details={'actual_k': 0, 'was_impossible': False}),\n",
              " Prediction(uid='A3KM21WEDTO0KK', iid='B00005ATMI', r_ui=4.0, est=4.109775910919142, details={'was_impossible': True, 'reason': 'User and/or item is unknown.'}),\n",
              " Prediction(uid='ALVMIRJ1GLQTH', iid='B00006B7DB', r_ui=5.0, est=4.109775910919142, details={'was_impossible': True, 'reason': 'User and/or item is unknown.'}),\n",
              " Prediction(uid='AELDM3W03HSY', iid='B000067RC4', r_ui=5.0, est=4.109775910919142, details={'was_impossible': True, 'reason': 'User and/or item is unknown.'}),\n",
              " Prediction(uid='A30NHCB7URSNNJ', iid='B00007DN1E', r_ui=1.0, est=4.109775910919142, details={'was_impossible': True, 'reason': 'User and/or item is unknown.'}),\n",
              " Prediction(uid='A2SMFKE80N682V', iid='B00001P4ZH', r_ui=5.0, est=4.109775910919142, details={'was_impossible': True, 'reason': 'User and/or item is unknown.'}),\n",
              " Prediction(uid='A1G9AB1ZYCDK51', iid='B00001WRSJ', r_ui=5.0, est=4.109775910919142, details={'was_impossible': True, 'reason': 'User and/or item is unknown.'}),\n",
              " Prediction(uid='A2OD5YKG826K23', iid='B00005BMSN', r_ui=4.0, est=4.109775910919142, details={'was_impossible': True, 'reason': 'User and/or item is unknown.'}),\n",
              " Prediction(uid='A18I1UE5W9QUC5', iid='B00000J1TX', r_ui=5.0, est=4.109775910919142, details={'was_impossible': True, 'reason': 'User and/or item is unknown.'}),\n",
              " Prediction(uid='A1E6PSWBRG2O3J', iid='B0000632FZ', r_ui=5.0, est=4.109775910919142, details={'was_impossible': True, 'reason': 'User and/or item is unknown.'}),\n",
              " Prediction(uid='A1FQT3AZDGJBX', iid='B00004Z6XS', r_ui=5.0, est=4.109775910919142, details={'was_impossible': True, 'reason': 'User and/or item is unknown.'}),\n",
              " Prediction(uid='A1977GWEGAYE2N', iid='B00007GQLU', r_ui=4.0, est=4.787535410764873, details={'actual_k': 0, 'was_impossible': False}),\n",
              " Prediction(uid='A3LVLIWDTQO2BR', iid='B00000JFMK', r_ui=5.0, est=4.109775910919142, details={'was_impossible': True, 'reason': 'User and/or item is unknown.'}),\n",
              " Prediction(uid='A2KG9VABMRYGBW', iid='1400532736', r_ui=2.0, est=4.109775910919142, details={'was_impossible': True, 'reason': 'User and/or item is unknown.'}),\n",
              " Prediction(uid='AL7VUL13BO3P5', iid='B00005T3XH', r_ui=5.0, est=4.109775910919142, details={'was_impossible': True, 'reason': 'User and/or item is unknown.'}),\n",
              " Prediction(uid='A1APPDF47XIZQD', iid='B00005QEYI', r_ui=5.0, est=4.109775910919142, details={'was_impossible': True, 'reason': 'User and/or item is unknown.'}),\n",
              " Prediction(uid='A2FAPRZBQZAM1Z', iid='B00006B7DA', r_ui=5.0, est=4.109775910919142, details={'was_impossible': True, 'reason': 'User and/or item is unknown.'}),\n",
              " Prediction(uid='A2VDN624SBKMH8', iid='B00005T3G0', r_ui=5.0, est=4.109775910919142, details={'was_impossible': True, 'reason': 'User and/or item is unknown.'}),\n",
              " Prediction(uid='AT1ZM3S90JR45', iid='B00006HQR8', r_ui=5.0, est=4.109775910919142, details={'was_impossible': True, 'reason': 'User and/or item is unknown.'}),\n",
              " Prediction(uid='A36CRQMWOJ0GN5', iid='B000058AKE', r_ui=2.0, est=4.109775910919142, details={'was_impossible': True, 'reason': 'User and/or item is unknown.'}),\n",
              " Prediction(uid='A2L4HJZR6NRAC', iid='B00003CWDG', r_ui=5.0, est=4.109775910919142, details={'was_impossible': True, 'reason': 'User and/or item is unknown.'}),\n",
              " Prediction(uid='A2N0NM8WN219SF', iid='140053271X', r_ui=4.0, est=4.109775910919142, details={'was_impossible': True, 'reason': 'User and/or item is unknown.'}),\n",
              " Prediction(uid='A10KFV763ZTT0T', iid='B000062VUO', r_ui=5.0, est=4.284552845528455, details={'actual_k': 0, 'was_impossible': False}),\n",
              " Prediction(uid='A1ZDUJAUYSZJ76', iid='B00006HOKR', r_ui=5.0, est=4.109775910919142, details={'was_impossible': True, 'reason': 'User and/or item is unknown.'}),\n",
              " Prediction(uid='A1EM7M0SLMP3V2', iid='B000062VUO', r_ui=5.0, est=4.109775910919142, details={'was_impossible': True, 'reason': 'User and/or item is unknown.'}),\n",
              " Prediction(uid='AIRBA3BG432SI', iid='B0000645RH', r_ui=5.0, est=4.109775910919142, details={'was_impossible': True, 'reason': 'User and/or item is unknown.'}),\n",
              " Prediction(uid='AB8BLD399DP8C', iid='B000069EUW', r_ui=5.0, est=4.109775910919142, details={'was_impossible': True, 'reason': 'User and/or item is unknown.'}),\n",
              " Prediction(uid='A48IEBD36DCZJ', iid='B00005AWBJ', r_ui=1.0, est=4.109775910919142, details={'was_impossible': True, 'reason': 'User and/or item is unknown.'}),\n",
              " Prediction(uid='A3GZ8IOV3BEPYK', iid='B0000633EO', r_ui=4.0, est=4.109775910919142, details={'was_impossible': True, 'reason': 'User and/or item is unknown.'}),\n",
              " Prediction(uid='A18VH7X9XNJGXW', iid='B00004ZCJE', r_ui=5.0, est=4.109775910919142, details={'was_impossible': True, 'reason': 'User and/or item is unknown.'}),\n",
              " Prediction(uid='A2IZ1PORL4EA44', iid='B000062VUO', r_ui=5.0, est=4.109775910919142, details={'was_impossible': True, 'reason': 'User and/or item is unknown.'}),\n",
              " Prediction(uid='A1UIHT97OGGC4W', iid='B00006HYPV', r_ui=4.0, est=4.109775910919142, details={'was_impossible': True, 'reason': 'User and/or item is unknown.'}),\n",
              " Prediction(uid='A380C9ERR8C968', iid='B00006HVT4', r_ui=5.0, est=4.109775910919142, details={'was_impossible': True, 'reason': 'User and/or item is unknown.'}),\n",
              " Prediction(uid='A1KEKYQV2G8D4R', iid='B0000642RX', r_ui=1.0, est=4.109775910919142, details={'was_impossible': True, 'reason': 'User and/or item is unknown.'}),\n",
              " Prediction(uid='AFCRN3K4P9QLF', iid='B00005ATMI', r_ui=5.0, est=4.109775910919142, details={'was_impossible': True, 'reason': 'User and/or item is unknown.'}),\n",
              " Prediction(uid='A36H1T9A30HX34', iid='B00007KDVI', r_ui=5.0, est=4.109775910919142, details={'was_impossible': True, 'reason': 'User and/or item is unknown.'}),\n",
              " Prediction(uid='AHT9ZDG4JLZCB', iid='B00004XOM3', r_ui=5.0, est=4.109775910919142, details={'was_impossible': True, 'reason': 'User and/or item is unknown.'}),\n",
              " Prediction(uid='A3Q51AWAUF7Q1Y', iid='B00005ATMB', r_ui=4.0, est=4.109775910919142, details={'was_impossible': True, 'reason': 'User and/or item is unknown.'}),\n",
              " Prediction(uid='A2CRIC1BKMLACP', iid='B00002EQCW', r_ui=5.0, est=5, details={'actual_k': 1, 'was_impossible': False}),\n",
              " Prediction(uid='A1ZBYF0PHKCDVG', iid='B00007DTDB', r_ui=5.0, est=4.109775910919142, details={'was_impossible': True, 'reason': 'User and/or item is unknown.'}),\n",
              " Prediction(uid='A10WJSPCQSOPV9', iid='B000067O5G', r_ui=5.0, est=4.109775910919142, details={'was_impossible': True, 'reason': 'User and/or item is unknown.'}),\n",
              " Prediction(uid='A2MUPXRFKZ086L', iid='B00007IFED', r_ui=5.0, est=4.109775910919142, details={'was_impossible': True, 'reason': 'User and/or item is unknown.'}),\n",
              " Prediction(uid='A3HGGC4N5R80CN', iid='B00007EDZG', r_ui=5.0, est=4.109775910919142, details={'was_impossible': True, 'reason': 'User and/or item is unknown.'}),\n",
              " Prediction(uid='A1F5IX55A23GBR', iid='B00005AXHW', r_ui=5.0, est=4.109775910919142, details={'was_impossible': True, 'reason': 'User and/or item is unknown.'}),\n",
              " Prediction(uid='ANXHCYX888GNO', iid='B00004ZC8Y', r_ui=3.0, est=4.109775910919142, details={'was_impossible': True, 'reason': 'User and/or item is unknown.'}),\n",
              " Prediction(uid='AK1NUMFEGX43G', iid='B00007KDVI', r_ui=2.0, est=4.109775910919142, details={'was_impossible': True, 'reason': 'User and/or item is unknown.'}),\n",
              " Prediction(uid='A9VID3L7WXAWV', iid='B00005TQ08', r_ui=4.0, est=4.109775910919142, details={'was_impossible': True, 'reason': 'User and/or item is unknown.'}),\n",
              " Prediction(uid='A3N3YR2G9BZFRJ', iid='B000063574', r_ui=4.0, est=4.109775910919142, details={'was_impossible': True, 'reason': 'User and/or item is unknown.'}),\n",
              " Prediction(uid='A1OLVFJYDDFKA3', iid='B00004ZCJE', r_ui=5.0, est=4.109775910919142, details={'was_impossible': True, 'reason': 'User and/or item is unknown.'}),\n",
              " Prediction(uid='ADDHRQD306ALQ', iid='B000063574', r_ui=4.0, est=4.109775910919142, details={'was_impossible': True, 'reason': 'User and/or item is unknown.'}),\n",
              " Prediction(uid='AYG8O4DA89KJF', iid='B00007IFED', r_ui=5.0, est=4.109775910919142, details={'was_impossible': True, 'reason': 'User and/or item is unknown.'}),\n",
              " Prediction(uid='AROQO2VDODT7', iid='B00007E7JU', r_ui=5.0, est=4.770575969380405, details={'actual_k': 1, 'was_impossible': False}),\n",
              " Prediction(uid='A1V20HWK8HWLU1', iid='B00006RVPW', r_ui=5.0, est=4.109775910919142, details={'was_impossible': True, 'reason': 'User and/or item is unknown.'}),\n",
              " Prediction(uid='AGZ2CRMM66JG5', iid='B00004Z5PY', r_ui=5.0, est=4.109775910919142, details={'was_impossible': True, 'reason': 'User and/or item is unknown.'}),\n",
              " Prediction(uid='A2OKBV3HKUT6DN', iid='B00007079A', r_ui=3.0, est=2.35, details={'actual_k': 0, 'was_impossible': False}),\n",
              " Prediction(uid='AHYE11LN887KC', iid='B00003006K', r_ui=5.0, est=4.109775910919142, details={'was_impossible': True, 'reason': 'User and/or item is unknown.'}),\n",
              " Prediction(uid='A1JH1SNHAM0CC', iid='B00007E7C8', r_ui=4.0, est=4.109775910919142, details={'was_impossible': True, 'reason': 'User and/or item is unknown.'}),\n",
              " Prediction(uid='A25Q8TM5NF6PZN', iid='140053271X', r_ui=4.0, est=4.109775910919142, details={'was_impossible': True, 'reason': 'User and/or item is unknown.'}),\n",
              " Prediction(uid='A83IAE5VOLFXW', iid='B00000K13A', r_ui=1.0, est=4.109775910919142, details={'was_impossible': True, 'reason': 'User and/or item is unknown.'}),\n",
              " Prediction(uid='A3FNOSCPPESDF9', iid='B00000K4KH', r_ui=5.0, est=4.109775910919142, details={'was_impossible': True, 'reason': 'User and/or item is unknown.'}),\n",
              " Prediction(uid='A3MX41PY6UMDM1', iid='B00005219A', r_ui=5.0, est=4.109775910919142, details={'was_impossible': True, 'reason': 'User and/or item is unknown.'}),\n",
              " Prediction(uid='A1FHY2YJQ02WLL', iid='B00006HOAE', r_ui=5.0, est=4.109775910919142, details={'was_impossible': True, 'reason': 'User and/or item is unknown.'}),\n",
              " Prediction(uid='A57QS8CXFWMV5', iid='B000023VW2', r_ui=5.0, est=4.109775910919142, details={'was_impossible': True, 'reason': 'User and/or item is unknown.'}),\n",
              " Prediction(uid='AGXO11250DD8U', iid='B000067RBT', r_ui=5.0, est=4.109775910919142, details={'was_impossible': True, 'reason': 'User and/or item is unknown.'}),\n",
              " Prediction(uid='A2SLGNB97E75LY', iid='B00001ZWXA', r_ui=5.0, est=4.109775910919142, details={'was_impossible': True, 'reason': 'User and/or item is unknown.'}),\n",
              " Prediction(uid='A1DBO62NK0V186', iid='B00005LEN4', r_ui=5.0, est=4.634177215189873, details={'actual_k': 0, 'was_impossible': False}),\n",
              " Prediction(uid='A112ICA76IES13', iid='B00004Y2MM', r_ui=5.0, est=4.109775910919142, details={'was_impossible': True, 'reason': 'User and/or item is unknown.'}),\n",
              " Prediction(uid='A2IRE3DBPFWW8Q', iid='B00005LE6Z', r_ui=4.0, est=4.077046720215822, details={'actual_k': 2, 'was_impossible': False}),\n",
              " Prediction(uid='A23205H9PLIOC0', iid='B0000511BI', r_ui=5.0, est=4.508474576271187, details={'actual_k': 0, 'was_impossible': False}),\n",
              " Prediction(uid='A1RV28CO5I31C6', iid='B00006JQ06', r_ui=3.0, est=4.109775910919142, details={'was_impossible': True, 'reason': 'User and/or item is unknown.'}),\n",
              " Prediction(uid='A3NCC3B1E1PVZP', iid='B00004THCZ', r_ui=4.0, est=4.109775910919142, details={'was_impossible': True, 'reason': 'User and/or item is unknown.'}),\n",
              " Prediction(uid='A3E9T3JIWXOK43', iid='B00005111L', r_ui=5.0, est=4.109775910919142, details={'was_impossible': True, 'reason': 'User and/or item is unknown.'}),\n",
              " Prediction(uid='A1D7IBID5PRT7D', iid='B00006TWL6', r_ui=2.0, est=4.109775910919142, details={'was_impossible': True, 'reason': 'User and/or item is unknown.'}),\n",
              " Prediction(uid='A6RVE2OJDR5LT', iid='B00001W0EQ', r_ui=4.0, est=4.109775910919142, details={'was_impossible': True, 'reason': 'User and/or item is unknown.'}),\n",
              " Prediction(uid='AGYETIKVIJQQN', iid='B000069K8N', r_ui=2.0, est=4.109775910919142, details={'was_impossible': True, 'reason': 'User and/or item is unknown.'}),\n",
              " Prediction(uid='A318NMW0FWUDC9', iid='B00005T3FO', r_ui=4.0, est=4.109775910919142, details={'was_impossible': True, 'reason': 'User and/or item is unknown.'}),\n",
              " Prediction(uid='A2FHI8WE4IF6ZZ', iid='B00005NVPW', r_ui=1.0, est=4.109775910919142, details={'was_impossible': True, 'reason': 'User and/or item is unknown.'}),\n",
              " Prediction(uid='A2TJT33BAEDZVW', iid='B000067REG', r_ui=5.0, est=4.109775910919142, details={'was_impossible': True, 'reason': 'User and/or item is unknown.'}),\n",
              " Prediction(uid='A3HH3O863ZQQU5', iid='B00004RDL5', r_ui=5.0, est=4.109775910919142, details={'was_impossible': True, 'reason': 'User and/or item is unknown.'}),\n",
              " Prediction(uid='A2U0ICYUS8KW4Z', iid='B0000645C8', r_ui=5.0, est=4.109775910919142, details={'was_impossible': True, 'reason': 'User and/or item is unknown.'}),\n",
              " Prediction(uid='A3P8ZDHC7XSKSE', iid='B00004TWM6', r_ui=1.0, est=4.109775910919142, details={'was_impossible': True, 'reason': 'User and/or item is unknown.'}),\n",
              " Prediction(uid='A339ACVSZ09VPI', iid='B000065BPB', r_ui=5.0, est=4.109775910919142, details={'was_impossible': True, 'reason': 'User and/or item is unknown.'}),\n",
              " Prediction(uid='A33ES8LVPZS60S', iid='B00005854B', r_ui=4.0, est=4.109775910919142, details={'was_impossible': True, 'reason': 'User and/or item is unknown.'}),\n",
              " Prediction(uid='A1BGVYOEIPPP6E', iid='B00007E7JU', r_ui=4.0, est=4.109775910919142, details={'was_impossible': True, 'reason': 'User and/or item is unknown.'}),\n",
              " Prediction(uid='A29WMG8H12561N', iid='B00004ZC8Y', r_ui=5.0, est=4.109775910919142, details={'was_impossible': True, 'reason': 'User and/or item is unknown.'}),\n",
              " Prediction(uid='AZK3RPT4G88CC', iid='B00004Z0C7', r_ui=5.0, est=4.109775910919142, details={'was_impossible': True, 'reason': 'User and/or item is unknown.'}),\n",
              " Prediction(uid='A1XE93JHICYKWS', iid='B000066CCU', r_ui=2.0, est=4.109775910919142, details={'was_impossible': True, 'reason': 'User and/or item is unknown.'}),\n",
              " Prediction(uid='A2Q7O84C5MW1GW', iid='B00004SB99', r_ui=5.0, est=4.109775910919142, details={'was_impossible': True, 'reason': 'User and/or item is unknown.'}),\n",
              " Prediction(uid='A3G34NSJHJ2ZHP', iid='B00007E7JU', r_ui=5.0, est=4.109775910919142, details={'was_impossible': True, 'reason': 'User and/or item is unknown.'}),\n",
              " Prediction(uid='ATBQ7Y68XTJP6', iid='B00006B9HK', r_ui=4.0, est=4.109775910919142, details={'was_impossible': True, 'reason': 'User and/or item is unknown.'}),\n",
              " Prediction(uid='A2O7HWQB8E4ZWL', iid='B00006JN3G', r_ui=4.0, est=4.109775910919142, details={'was_impossible': True, 'reason': 'User and/or item is unknown.'}),\n",
              " Prediction(uid='AS657TWFK9CD2', iid='B000066E6Y', r_ui=5.0, est=4.109775910919142, details={'was_impossible': True, 'reason': 'User and/or item is unknown.'}),\n",
              " Prediction(uid='A1VIE8N8HW69GS', iid='B00006B8K2', r_ui=5.0, est=4.109775910919142, details={'was_impossible': True, 'reason': 'User and/or item is unknown.'}),\n",
              " Prediction(uid='A392KBUELFA3HS', iid='B00004Z7H5', r_ui=4.0, est=4.109775910919142, details={'was_impossible': True, 'reason': 'User and/or item is unknown.'}),\n",
              " Prediction(uid='A2R6A6QAA4B2TJ', iid='B00006JQ06', r_ui=5.0, est=4.109775910919142, details={'was_impossible': True, 'reason': 'User and/or item is unknown.'}),\n",
              " Prediction(uid='AVXN2KUT5WBQX', iid='B000065BP9', r_ui=5.0, est=4.109775910919142, details={'was_impossible': True, 'reason': 'User and/or item is unknown.'}),\n",
              " Prediction(uid='A3AJ0M0AQQMJGP', iid='B00006RVPW', r_ui=5.0, est=4.827737428235457, details={'actual_k': 1, 'was_impossible': False}),\n",
              " Prediction(uid='A32PU0DJRLW662', iid='B00007KDVI', r_ui=5.0, est=4.109775910919142, details={'was_impossible': True, 'reason': 'User and/or item is unknown.'}),\n",
              " Prediction(uid='A2USD5K0JFLABI', iid='B00006JN3G', r_ui=5.0, est=4.109775910919142, details={'was_impossible': True, 'reason': 'User and/or item is unknown.'}),\n",
              " Prediction(uid='AR4FXJ7UJUVD', iid='B00004W3ZQ', r_ui=4.0, est=4.109775910919142, details={'was_impossible': True, 'reason': 'User and/or item is unknown.'}),\n",
              " Prediction(uid='A1QF032ZQEMCCP', iid='B00006HYPV', r_ui=4.0, est=4.109775910919142, details={'was_impossible': True, 'reason': 'User and/or item is unknown.'}),\n",
              " Prediction(uid='A2O52ICJCRQYVK', iid='B000065BPB', r_ui=5.0, est=4.109775910919142, details={'was_impossible': True, 'reason': 'User and/or item is unknown.'}),\n",
              " Prediction(uid='A2AQMF6L7TN7ZF', iid='B00006B7DA', r_ui=5.0, est=4.109775910919142, details={'was_impossible': True, 'reason': 'User and/or item is unknown.'}),\n",
              " Prediction(uid='A1E9K4UA0UZME9', iid='B000051ZOA', r_ui=5.0, est=4.109775910919142, details={'was_impossible': True, 'reason': 'User and/or item is unknown.'}),\n",
              " Prediction(uid='A144K06O8FSZUG', iid='B00001WRSJ', r_ui=5.0, est=4.109775910919142, details={'was_impossible': True, 'reason': 'User and/or item is unknown.'}),\n",
              " Prediction(uid='A304GUEPCPYM3Z', iid='B0000659A7', r_ui=5.0, est=4.676470588235294, details={'actual_k': 0, 'was_impossible': False}),\n",
              " Prediction(uid='A14AILU1OAYGBM', iid='B00006B81D', r_ui=5.0, est=4.109775910919142, details={'was_impossible': True, 'reason': 'User and/or item is unknown.'}),\n",
              " Prediction(uid='A9GZC3QBM8D4W', iid='B00004SABB', r_ui=3.0, est=4.109775910919142, details={'was_impossible': True, 'reason': 'User and/or item is unknown.'}),\n",
              " Prediction(uid='A1UXRMT7KTD0SG', iid='B000067RC4', r_ui=3.0, est=4.109775910919142, details={'was_impossible': True, 'reason': 'User and/or item is unknown.'}),\n",
              " Prediction(uid='A1BD6O16LZ4YDD', iid='B00006B83E', r_ui=5.0, est=4.109775910919142, details={'was_impossible': True, 'reason': 'User and/or item is unknown.'}),\n",
              " Prediction(uid='A2TDJPYCJ0NOZW', iid='B00004Z0BO', r_ui=1.0, est=4.109775910919142, details={'was_impossible': True, 'reason': 'User and/or item is unknown.'}),\n",
              " Prediction(uid='A2VJUMUCC9MW6B', iid='B00004TBLW', r_ui=5.0, est=4.109775910919142, details={'was_impossible': True, 'reason': 'User and/or item is unknown.'}),\n",
              " Prediction(uid='A9L34455SL55M', iid='B00007EDM8', r_ui=5.0, est=4.109775910919142, details={'was_impossible': True, 'reason': 'User and/or item is unknown.'}),\n",
              " Prediction(uid='A12HNH96JEMIXK', iid='B00006346B', r_ui=5.0, est=4.109775910919142, details={'was_impossible': True, 'reason': 'User and/or item is unknown.'}),\n",
              " Prediction(uid='A3QP5KDRJAR5L8', iid='B00006I5SQ', r_ui=5.0, est=4.109775910919142, details={'was_impossible': True, 'reason': 'User and/or item is unknown.'}),\n",
              " Prediction(uid='A30QBVE66419KQ', iid='B00001WRSJ', r_ui=5.0, est=4.109775910919142, details={'was_impossible': True, 'reason': 'User and/or item is unknown.'}),\n",
              " Prediction(uid='A31X3I9ZQ6NWQP', iid='B00000K2YR', r_ui=5.0, est=4.109775910919142, details={'was_impossible': True, 'reason': 'User and/or item is unknown.'}),\n",
              " Prediction(uid='AOSMMGUEPGEMT', iid='B00006IS4X', r_ui=4.0, est=4.109775910919142, details={'was_impossible': True, 'reason': 'User and/or item is unknown.'}),\n",
              " Prediction(uid='A15SF8FPL1RF63', iid='B00001ZWXA', r_ui=5.0, est=4.109775910919142, details={'was_impossible': True, 'reason': 'User and/or item is unknown.'}),\n",
              " Prediction(uid='A1CCGGOSIQVM17', iid='B00007E7C8', r_ui=5.0, est=4.109775910919142, details={'was_impossible': True, 'reason': 'User and/or item is unknown.'}),\n",
              " Prediction(uid='A21BL1QQDX3NM0', iid='B00005T3EM', r_ui=4.0, est=4.109775910919142, details={'was_impossible': True, 'reason': 'User and/or item is unknown.'}),\n",
              " Prediction(uid='A347LTN4RU2FL1', iid='B00004T8R2', r_ui=5.0, est=4.257575757575758, details={'actual_k': 0, 'was_impossible': False}),\n",
              " Prediction(uid='A1MQX4BNLCWBTL', iid='7214047977', r_ui=5.0, est=4.109775910919142, details={'was_impossible': True, 'reason': 'User and/or item is unknown.'}),\n",
              " Prediction(uid='A1R6Y54E6RIG5H', iid='B00004T1XK', r_ui=5.0, est=4.109775910919142, details={'was_impossible': True, 'reason': 'User and/or item is unknown.'}),\n",
              " Prediction(uid='A3KQOGA06OFYXO', iid='B00005T3N3', r_ui=4.0, est=4.109775910919142, details={'was_impossible': True, 'reason': 'User and/or item is unknown.'}),\n",
              " Prediction(uid='A3H5R5EDERAAH7', iid='B00007E7JU', r_ui=5.0, est=2.44385798648012, details={'actual_k': 1, 'was_impossible': False}),\n",
              " Prediction(uid='A2BJV1B4QCKF2D', iid='B00000K135', r_ui=4.0, est=4.109775910919142, details={'was_impossible': True, 'reason': 'User and/or item is unknown.'}),\n",
              " Prediction(uid='A3P382PW8WLVFQ', iid='B00004T8R2', r_ui=5.0, est=4.109775910919142, details={'was_impossible': True, 'reason': 'User and/or item is unknown.'}),\n",
              " Prediction(uid='A3JXIRB0FBTEYQ', iid='B00007KDVI', r_ui=5.0, est=4.109775910919142, details={'was_impossible': True, 'reason': 'User and/or item is unknown.'}),\n",
              " Prediction(uid='A2832XZ6T6L4L8', iid='B00000J4GE', r_ui=5.0, est=4.075757575757576, details={'actual_k': 0, 'was_impossible': False}),\n",
              " Prediction(uid='A1IC93HOQ2QM76', iid='B00006HYPD', r_ui=5.0, est=4.109775910919142, details={'was_impossible': True, 'reason': 'User and/or item is unknown.'}),\n",
              " Prediction(uid='A1E8RR6R6EEUPQ', iid='B00001P4XA', r_ui=3.0, est=4.109775910919142, details={'was_impossible': True, 'reason': 'User and/or item is unknown.'}),\n",
              " Prediction(uid='A10TKSOTU87L7M', iid='B00005T3N3', r_ui=5.0, est=4.109775910919142, details={'was_impossible': True, 'reason': 'User and/or item is unknown.'}),\n",
              " Prediction(uid='AGG9P78LWW1YE', iid='B000063TJY', r_ui=3.0, est=4.109775910919142, details={'was_impossible': True, 'reason': 'User and/or item is unknown.'}),\n",
              " Prediction(uid='A29Z4C525VZYSS', iid='B00007EDZG', r_ui=5.0, est=4.109775910919142, details={'was_impossible': True, 'reason': 'User and/or item is unknown.'}),\n",
              " Prediction(uid='AEUQI3BM3X9JW', iid='B000065BPB', r_ui=5.0, est=4.109775910919142, details={'was_impossible': True, 'reason': 'User and/or item is unknown.'}),\n",
              " Prediction(uid='A1LVR0KG4BR9IT', iid='B00006HXF4', r_ui=5.0, est=4.109775910919142, details={'was_impossible': True, 'reason': 'User and/or item is unknown.'}),\n",
              " Prediction(uid='A2CJ1SSKC7RRF1', iid='9625993428', r_ui=5.0, est=4.109775910919142, details={'was_impossible': True, 'reason': 'User and/or item is unknown.'}),\n",
              " Prediction(uid='AET0JGIXG51W9', iid='B00000JI4F', r_ui=1.0, est=4.109775910919142, details={'was_impossible': True, 'reason': 'User and/or item is unknown.'}),\n",
              " Prediction(uid='A36K92O444KWEZ', iid='B000065BPA', r_ui=4.0, est=4.109775910919142, details={'was_impossible': True, 'reason': 'User and/or item is unknown.'}),\n",
              " Prediction(uid='A2K704PFFMIUCK', iid='B00006I5JC', r_ui=5.0, est=4.109775910919142, details={'was_impossible': True, 'reason': 'User and/or item is unknown.'}),\n",
              " Prediction(uid='A3B9FWS53WZIT', iid='B00001WRSJ', r_ui=5.0, est=4.6237442922374425, details={'actual_k': 0, 'was_impossible': False}),\n",
              " Prediction(uid='A2ADZK4JXYFLVZ', iid='B00001P4ZH', r_ui=3.0, est=4.109775910919142, details={'was_impossible': True, 'reason': 'User and/or item is unknown.'}),\n",
              " Prediction(uid='AXVORKGHPNFN5', iid='B000067VB7', r_ui=5.0, est=4.0394736842105265, details={'actual_k': 0, 'was_impossible': False}),\n",
              " Prediction(uid='A9CGIQKBL6OVN', iid='B00001ZWXA', r_ui=1.0, est=4.109775910919142, details={'was_impossible': True, 'reason': 'User and/or item is unknown.'}),\n",
              " Prediction(uid='A1GHXYWQICWUM5', iid='B000068IKV', r_ui=5.0, est=4.109775910919142, details={'was_impossible': True, 'reason': 'User and/or item is unknown.'}),\n",
              " Prediction(uid='A1P5IN7EQJKH40', iid='B000067RT6', r_ui=5.0, est=4.109775910919142, details={'was_impossible': True, 'reason': 'User and/or item is unknown.'}),\n",
              " Prediction(uid='A1N72XSUAE65OY', iid='B00005LENO', r_ui=5.0, est=4.109775910919142, details={'was_impossible': True, 'reason': 'User and/or item is unknown.'}),\n",
              " Prediction(uid='A39YUL7C7HHSFE', iid='B00004VUGJ', r_ui=5.0, est=4.109775910919142, details={'was_impossible': True, 'reason': 'User and/or item is unknown.'}),\n",
              " Prediction(uid='A2Y6ATRPZS3XDB', iid='B00005LEN4', r_ui=5.0, est=4.109775910919142, details={'was_impossible': True, 'reason': 'User and/or item is unknown.'}),\n",
              " Prediction(uid='A2C6I0ROQX5OIK', iid='B00004VXNI', r_ui=4.0, est=5, details={'actual_k': 1, 'was_impossible': False}),\n",
              " Prediction(uid='AQQ0BXDVE2GUC', iid='B00004Z6XS', r_ui=4.0, est=4.109775910919142, details={'was_impossible': True, 'reason': 'User and/or item is unknown.'}),\n",
              " Prediction(uid='A3SM3U9B7PSW40', iid='B00004ZCJE', r_ui=1.0, est=4.109775910919142, details={'was_impossible': True, 'reason': 'User and/or item is unknown.'}),\n",
              " Prediction(uid='AG52G4W9G1VVB', iid='B00007E7C8', r_ui=5.0, est=4.109775910919142, details={'was_impossible': True, 'reason': 'User and/or item is unknown.'}),\n",
              " Prediction(uid='AJ0R8AX9FETYG', iid='1400501466', r_ui=2.0, est=4.109775910919142, details={'was_impossible': True, 'reason': 'User and/or item is unknown.'}),\n",
              " Prediction(uid='A5MO9XKDEM148', iid='B00004Z0C7', r_ui=4.0, est=4.109775910919142, details={'was_impossible': True, 'reason': 'User and/or item is unknown.'}),\n",
              " Prediction(uid='AK7SS6NJZIK9M', iid='B00006HMPK', r_ui=4.0, est=4.109775910919142, details={'was_impossible': True, 'reason': 'User and/or item is unknown.'}),\n",
              " Prediction(uid='A2FFVIUSK6IUW0', iid='B00006HYWR', r_ui=3.0, est=4.109775910919142, details={'was_impossible': True, 'reason': 'User and/or item is unknown.'}),\n",
              " Prediction(uid='AEEQRMJRE565G', iid='B00004SB92', r_ui=1.0, est=4.109775910919142, details={'was_impossible': True, 'reason': 'User and/or item is unknown.'}),\n",
              " Prediction(uid='A1EEPCJQ1GCV2I', iid='B00006B9CR', r_ui=5.0, est=4.109775910919142, details={'was_impossible': True, 'reason': 'User and/or item is unknown.'}),\n",
              " Prediction(uid='AX7UBFZZ40BLO', iid='B00004THDE', r_ui=1.0, est=4.109775910919142, details={'was_impossible': True, 'reason': 'User and/or item is unknown.'}),\n",
              " Prediction(uid='A17KYU38U9WRVW', iid='B00006B9WE', r_ui=3.0, est=2.5689655172413794, details={'actual_k': 0, 'was_impossible': False}),\n",
              " Prediction(uid='A1C6YSU1RMUBP4', iid='B00004SB92', r_ui=5.0, est=4.109775910919142, details={'was_impossible': True, 'reason': 'User and/or item is unknown.'}),\n",
              " Prediction(uid='A4TPG4S0WB96N', iid='B00004ZCJE', r_ui=1.0, est=2.55614201351988, details={'actual_k': 1, 'was_impossible': False}),\n",
              " Prediction(uid='A2TAA7YKD8J88T', iid='B000066E6Y', r_ui=1.0, est=4.109775910919142, details={'was_impossible': True, 'reason': 'User and/or item is unknown.'}),\n",
              " Prediction(uid='A62BWH6GWKZJO', iid='B00005AWBJ', r_ui=1.0, est=4.109775910919142, details={'was_impossible': True, 'reason': 'User and/or item is unknown.'}),\n",
              " Prediction(uid='A1YFDIM2IB5X1C', iid='B0000645C9', r_ui=3.0, est=4.109775910919142, details={'was_impossible': True, 'reason': 'User and/or item is unknown.'}),\n",
              " Prediction(uid='A360AVDDTDVA48', iid='B000067RT6', r_ui=5.0, est=4.109775910919142, details={'was_impossible': True, 'reason': 'User and/or item is unknown.'}),\n",
              " Prediction(uid='A3452UVASVAZHY', iid='B000063EJW', r_ui=5.0, est=4.109775910919142, details={'was_impossible': True, 'reason': 'User and/or item is unknown.'}),\n",
              " Prediction(uid='AGNQJVTF7S6M8', iid='B00007GQLU', r_ui=5.0, est=4.109775910919142, details={'was_impossible': True, 'reason': 'User and/or item is unknown.'}),\n",
              " Prediction(uid='A1XSZKBWAOZCDJ', iid='B00007EDZG', r_ui=5.0, est=4.109775910919142, details={'was_impossible': True, 'reason': 'User and/or item is unknown.'}),\n",
              " Prediction(uid='AC4ROPT6A9R5A', iid='B00004W3YX', r_ui=5.0, est=4.109775910919142, details={'was_impossible': True, 'reason': 'User and/or item is unknown.'}),\n",
              " Prediction(uid='A31WG0W5QMX2JJ', iid='B00003CWDH', r_ui=4.0, est=4.109775910919142, details={'was_impossible': True, 'reason': 'User and/or item is unknown.'}),\n",
              " Prediction(uid='A1XQIUIBLPW6E1', iid='B00007E7JU', r_ui=5.0, est=4.109775910919142, details={'was_impossible': True, 'reason': 'User and/or item is unknown.'}),\n",
              " Prediction(uid='AVBB5TWSS10IS', iid='B00001WRSJ', r_ui=5.0, est=4.109775910919142, details={'was_impossible': True, 'reason': 'User and/or item is unknown.'}),\n",
              " Prediction(uid='A19UD62DZZ677N', iid='B00005LENO', r_ui=5.0, est=4.109775910919142, details={'was_impossible': True, 'reason': 'User and/or item is unknown.'}),\n",
              " Prediction(uid='A3MV5FO6689O61', iid='B000067SOH', r_ui=5.0, est=4.109775910919142, details={'was_impossible': True, 'reason': 'User and/or item is unknown.'}),\n",
              " Prediction(uid='A1ZZBTWL4PJL87', iid='B00005ATMB', r_ui=5.0, est=4.109775910919142, details={'was_impossible': True, 'reason': 'User and/or item is unknown.'}),\n",
              " Prediction(uid='A2T18JHPEE7ZT', iid='B00006HOKR', r_ui=4.0, est=4.109775910919142, details={'was_impossible': True, 'reason': 'User and/or item is unknown.'}),\n",
              " Prediction(uid='AM19CF6DTQBJN', iid='B00007EDZG', r_ui=4.0, est=4.109775910919142, details={'was_impossible': True, 'reason': 'User and/or item is unknown.'}),\n",
              " Prediction(uid='A1MZRKCG76W7Q2', iid='B00006JPF8', r_ui=1.0, est=4.109775910919142, details={'was_impossible': True, 'reason': 'User and/or item is unknown.'}),\n",
              " Prediction(uid='A3M133WBE1CUXV', iid='B00000JBAT', r_ui=5.0, est=4.109775910919142, details={'was_impossible': True, 'reason': 'User and/or item is unknown.'}),\n",
              " Prediction(uid='AJD39DLA3D1S0', iid='B00005B4BW', r_ui=5.0, est=4.109775910919142, details={'was_impossible': True, 'reason': 'User and/or item is unknown.'}),\n",
              " Prediction(uid='A26869WFGMMZHM', iid='B00006HVLW', r_ui=4.0, est=4.109775910919142, details={'was_impossible': True, 'reason': 'User and/or item is unknown.'}),\n",
              " Prediction(uid='AW1AU2CDBE7AG', iid='B000067SMH', r_ui=5.0, est=4.208994708994709, details={'actual_k': 0, 'was_impossible': False}),\n",
              " Prediction(uid='A3W0A9DQY8XNK3', iid='B00006IR39', r_ui=5.0, est=4.109775910919142, details={'was_impossible': True, 'reason': 'User and/or item is unknown.'}),\n",
              " Prediction(uid='AKAFCGAWW8DLM', iid='B000066E6Y', r_ui=4.0, est=4.109775910919142, details={'was_impossible': True, 'reason': 'User and/or item is unknown.'}),\n",
              " Prediction(uid='A25NRNOTU2CZ0N', iid='B00007IFED', r_ui=5.0, est=4.109775910919142, details={'was_impossible': True, 'reason': 'User and/or item is unknown.'}),\n",
              " Prediction(uid='A3U760Q06JVW92', iid='B00004THDE', r_ui=5.0, est=4.109775910919142, details={'was_impossible': True, 'reason': 'User and/or item is unknown.'}),\n",
              " Prediction(uid='A2HAX8MNY62VNM', iid='B00004TDLD', r_ui=4.0, est=4.109775910919142, details={'was_impossible': True, 'reason': 'User and/or item is unknown.'}),\n",
              " Prediction(uid='A1ABYRB9I4E8UU', iid='B00004SABB', r_ui=5.0, est=4.109775910919142, details={'was_impossible': True, 'reason': 'User and/or item is unknown.'}),\n",
              " Prediction(uid='A2P6M3NMHOFA9N', iid='B00005I9RU', r_ui=5.0, est=4.109775910919142, details={'was_impossible': True, 'reason': 'User and/or item is unknown.'}),\n",
              " Prediction(uid='A2FF3EGNY28BHF', iid='B00006IS4X', r_ui=4.0, est=4.109775910919142, details={'was_impossible': True, 'reason': 'User and/or item is unknown.'}),\n",
              " Prediction(uid='A3THOMATM7Y94V', iid='B00000JCTO', r_ui=2.0, est=4.109775910919142, details={'was_impossible': True, 'reason': 'User and/or item is unknown.'}),\n",
              " Prediction(uid='A3Q4RN776W6HYQ', iid='B000053HH5', r_ui=5.0, est=5, details={'actual_k': 1, 'was_impossible': False}),\n",
              " Prediction(uid='A39MG6CIKY5XEI', iid='B00005Q5U5', r_ui=4.0, est=4.109775910919142, details={'was_impossible': True, 'reason': 'User and/or item is unknown.'}),\n",
              " Prediction(uid='AROAG742G5QQV', iid='B00005854B', r_ui=5.0, est=3.6296296296296298, details={'actual_k': 0, 'was_impossible': False}),\n",
              " Prediction(uid='A3AILH39OUWB8O', iid='B00006364I', r_ui=1.0, est=4.109775910919142, details={'was_impossible': True, 'reason': 'User and/or item is unknown.'}),\n",
              " Prediction(uid='A2LP0KQ9CE18AC', iid='B00005O70S', r_ui=1.0, est=4.109775910919142, details={'was_impossible': True, 'reason': 'User and/or item is unknown.'}),\n",
              " Prediction(uid='AHROSV6WJOEGY', iid='B00006HYP6', r_ui=3.0, est=3.861635220125786, details={'actual_k': 0, 'was_impossible': False}),\n",
              " Prediction(uid='ALOW777PNONAE', iid='B00006HMPN', r_ui=5.0, est=4.109775910919142, details={'was_impossible': True, 'reason': 'User and/or item is unknown.'}),\n",
              " Prediction(uid='A1CJJ0WYC1QMTT', iid='B00005BC0K', r_ui=2.0, est=4.109775910919142, details={'was_impossible': True, 'reason': 'User and/or item is unknown.'}),\n",
              " Prediction(uid='A2QGFVLJY1785L', iid='B00007KDVI', r_ui=5.0, est=4.109775910919142, details={'was_impossible': True, 'reason': 'User and/or item is unknown.'}),\n",
              " Prediction(uid='A2BDZ3BF0YCG1O', iid='B000058E2B', r_ui=5.0, est=4.128571428571429, details={'actual_k': 0, 'was_impossible': False}),\n",
              " Prediction(uid='A88FTM2A5BQKU', iid='B000068UY6', r_ui=5.0, est=3.8101492537313435, details={'actual_k': 1, 'was_impossible': False}),\n",
              " Prediction(uid='A1ORC1CY8INNKT', iid='B00006FXR9', r_ui=5.0, est=4.109775910919142, details={'was_impossible': True, 'reason': 'User and/or item is unknown.'}),\n",
              " Prediction(uid='A30UZ7NZ7XQUIZ', iid='B000067SGI', r_ui=5.0, est=4.109775910919142, details={'was_impossible': True, 'reason': 'User and/or item is unknown.'}),\n",
              " Prediction(uid='A2VLC7QIUJG1QB', iid='B000065BP9', r_ui=4.0, est=4.109775910919142, details={'was_impossible': True, 'reason': 'User and/or item is unknown.'}),\n",
              " Prediction(uid='A2HCCF779P7J1M', iid='B0000645RH', r_ui=1.0, est=4.109775910919142, details={'was_impossible': True, 'reason': 'User and/or item is unknown.'}),\n",
              " Prediction(uid='A16ZNJD6MHB7R7', iid='B00007E7JU', r_ui=5.0, est=4.109775910919142, details={'was_impossible': True, 'reason': 'User and/or item is unknown.'}),\n",
              " Prediction(uid='A3S6O6L9NI73V6', iid='B00006JILW', r_ui=5.0, est=4.109775910919142, details={'was_impossible': True, 'reason': 'User and/or item is unknown.'}),\n",
              " Prediction(uid='A2G2NKGW487VY5', iid='B000069106', r_ui=5.0, est=4.109775910919142, details={'was_impossible': True, 'reason': 'User and/or item is unknown.'}),\n",
              " Prediction(uid='A1UDJYFICROJ3X', iid='B00006HOKR', r_ui=3.0, est=4.154121863799283, details={'actual_k': 0, 'was_impossible': False}),\n",
              " Prediction(uid='A1AS87DZ81G1A9', iid='B00004VWM3', r_ui=1.0, est=4.109775910919142, details={'was_impossible': True, 'reason': 'User and/or item is unknown.'}),\n",
              " Prediction(uid='A11L3AWH521WFV', iid='B00005ML7Q', r_ui=5.0, est=3.9775051124744376, details={'actual_k': 0, 'was_impossible': False}),\n",
              " Prediction(uid='A1PNZV9C1YZVCP', iid='B0000659A7', r_ui=5.0, est=4.109775910919142, details={'was_impossible': True, 'reason': 'User and/or item is unknown.'}),\n",
              " Prediction(uid='A3NGQJ01UDYOAN', iid='B00006I5XC', r_ui=2.0, est=4.109775910919142, details={'was_impossible': True, 'reason': 'User and/or item is unknown.'}),\n",
              " Prediction(uid='A1O3DZU81QWRIF', iid='B00004SABB', r_ui=4.0, est=4.109775910919142, details={'was_impossible': True, 'reason': 'User and/or item is unknown.'}),\n",
              " Prediction(uid='A35CKFGZNM6AU9', iid='B00001W0DI', r_ui=5.0, est=4.109775910919142, details={'was_impossible': True, 'reason': 'User and/or item is unknown.'}),\n",
              " Prediction(uid='A1YXQG9YW1HKYW', iid='B000063TJY', r_ui=5.0, est=4.109775910919142, details={'was_impossible': True, 'reason': 'User and/or item is unknown.'}),\n",
              " Prediction(uid='A1OHT8TWBNX18Z', iid='B00007KDVI', r_ui=5.0, est=3.617121354656632, details={'actual_k': 0, 'was_impossible': False}),\n",
              " Prediction(uid='AE1D98RAQ1TSK', iid='B00007FGU7', r_ui=2.0, est=4.109775910919142, details={'was_impossible': True, 'reason': 'User and/or item is unknown.'}),\n",
              " Prediction(uid='A2AUJKRW4BX6NP', iid='B00006JQ6C', r_ui=5.0, est=4.109775910919142, details={'was_impossible': True, 'reason': 'User and/or item is unknown.'}),\n",
              " Prediction(uid='A18VM8TU7SU6VJ', iid='B00004WIMW', r_ui=3.0, est=4.109775910919142, details={'was_impossible': True, 'reason': 'User and/or item is unknown.'}),\n",
              " Prediction(uid='ALT8IGQU5EJA9', iid='B00005QBUU', r_ui=5.0, est=4.109775910919142, details={'was_impossible': True, 'reason': 'User and/or item is unknown.'}),\n",
              " Prediction(uid='A1PXW8MXYFXKCY', iid='B00007EDZG', r_ui=5.0, est=4.109775910919142, details={'was_impossible': True, 'reason': 'User and/or item is unknown.'}),\n",
              " Prediction(uid='A3ORK411MGLXNS', iid='B00005T3H5', r_ui=5.0, est=4.109775910919142, details={'was_impossible': True, 'reason': 'User and/or item is unknown.'}),\n",
              " Prediction(uid='AFICF7DKHTQ87', iid='B000069EUX', r_ui=4.0, est=3.9491525423728815, details={'actual_k': 0, 'was_impossible': False}),\n",
              " Prediction(uid='A3GAND42VUV0CZ', iid='B000065BP9', r_ui=1.0, est=4.109775910919142, details={'was_impossible': True, 'reason': 'User and/or item is unknown.'}),\n",
              " Prediction(uid='A9Q5F0649KMC1', iid='B00004THCZ', r_ui=4.0, est=4.109775910919142, details={'was_impossible': True, 'reason': 'User and/or item is unknown.'}),\n",
              " Prediction(uid='AQ528E5KSBRC', iid='B000050NPX', r_ui=4.0, est=4.109775910919142, details={'was_impossible': True, 'reason': 'User and/or item is unknown.'}),\n",
              " Prediction(uid='A23VYTWUXSMUUN', iid='B00007KDVI', r_ui=5.0, est=3.215643522144317, details={'actual_k': 1, 'was_impossible': False}),\n",
              " Prediction(uid='A3CA2VCKC6XRY6', iid='B00004VUGJ', r_ui=5.0, est=4.109775910919142, details={'was_impossible': True, 'reason': 'User and/or item is unknown.'}),\n",
              " Prediction(uid='A2ZW0BX4A3143Q', iid='B00005TQ1Y', r_ui=4.0, est=4.109775910919142, details={'was_impossible': True, 'reason': 'User and/or item is unknown.'}),\n",
              " Prediction(uid='A3MZEI4J54UBAT', iid='B00004ZCJE', r_ui=5.0, est=4.109775910919142, details={'was_impossible': True, 'reason': 'User and/or item is unknown.'}),\n",
              " Prediction(uid='A2P15GHGK7Z3V4', iid='B00007GQLS', r_ui=5.0, est=4.109775910919142, details={'was_impossible': True, 'reason': 'User and/or item is unknown.'}),\n",
              " Prediction(uid='A3EPH0HLPI98T3', iid='6301977173', r_ui=4.0, est=4.109775910919142, details={'was_impossible': True, 'reason': 'User and/or item is unknown.'}),\n",
              " Prediction(uid='A2UHL547O5YVY9', iid='B00004SABJ', r_ui=4.0, est=4.109775910919142, details={'was_impossible': True, 'reason': 'User and/or item is unknown.'}),\n",
              " Prediction(uid='AN7HOPJV57J7P', iid='B00005LE6Z', r_ui=5.0, est=4.109775910919142, details={'was_impossible': True, 'reason': 'User and/or item is unknown.'}),\n",
              " Prediction(uid='A2AAR8AVNJNIJ7', iid='0972683275', r_ui=3.0, est=4.109775910919142, details={'was_impossible': True, 'reason': 'User and/or item is unknown.'}),\n",
              " Prediction(uid='A1ED860DZ6VA8', iid='B000067RC4', r_ui=5.0, est=4.109775910919142, details={'was_impossible': True, 'reason': 'User and/or item is unknown.'}),\n",
              " Prediction(uid='ANHBOQ4PO8505', iid='B00004Z5D1', r_ui=2.0, est=4.437743636780555, details={'actual_k': 1, 'was_impossible': False}),\n",
              " Prediction(uid='A1KVGKZVBQLJQ', iid='B00006IS4X', r_ui=5.0, est=4.109775910919142, details={'was_impossible': True, 'reason': 'User and/or item is unknown.'}),\n",
              " Prediction(uid='AAJOV2S9O7OO', iid='B00003CWDG', r_ui=1.0, est=4.053571428571429, details={'actual_k': 0, 'was_impossible': False}),\n",
              " Prediction(uid='A6XVY7HUZL7CE', iid='B000067SRA', r_ui=4.0, est=4.109775910919142, details={'was_impossible': True, 'reason': 'User and/or item is unknown.'}),\n",
              " Prediction(uid='ADG1I43JFC7YX', iid='B00000K13L', r_ui=5.0, est=3.992030910408114, details={'actual_k': 1, 'was_impossible': False}),\n",
              " Prediction(uid='A2QP1PWPGJU2ST', iid='B00004Y2MM', r_ui=5.0, est=4.109775910919142, details={'was_impossible': True, 'reason': 'User and/or item is unknown.'}),\n",
              " Prediction(uid='A3GS26T97O1F0', iid='B00005N6KG', r_ui=5.0, est=4.109775910919142, details={'was_impossible': True, 'reason': 'User and/or item is unknown.'}),\n",
              " Prediction(uid='A2J0ZZPEN3ZEC5', iid='B00006HYPV', r_ui=5.0, est=4.109775910919142, details={'was_impossible': True, 'reason': 'User and/or item is unknown.'}),\n",
              " Prediction(uid='A2EKV8YEXUE7C9', iid='B00007EDZG', r_ui=1.0, est=4.109775910919142, details={'was_impossible': True, 'reason': 'User and/or item is unknown.'}),\n",
              " Prediction(uid='A3G6HPUHQEPMH8', iid='B000063Y7E', r_ui=3.0, est=4.109775910919142, details={'was_impossible': True, 'reason': 'User and/or item is unknown.'}),\n",
              " Prediction(uid='A15F0X7UOLWKT4', iid='B00005ATMB', r_ui=5.0, est=4.109775910919142, details={'was_impossible': True, 'reason': 'User and/or item is unknown.'}),\n",
              " Prediction(uid='A3A4RTN08AWU3B', iid='B00002EQCW', r_ui=5.0, est=4.109775910919142, details={'was_impossible': True, 'reason': 'User and/or item is unknown.'}),\n",
              " Prediction(uid='A322YCXSSVW64', iid='B00007EDM0', r_ui=5.0, est=4.109775910919142, details={'was_impossible': True, 'reason': 'User and/or item is unknown.'}),\n",
              " Prediction(uid='A1YNHVW3IGC334', iid='B00004TX71', r_ui=5.0, est=4.109775910919142, details={'was_impossible': True, 'reason': 'User and/or item is unknown.'}),\n",
              " Prediction(uid='ARZ7WXS4GHPCT', iid='B00004TBLW', r_ui=5.0, est=4.109775910919142, details={'was_impossible': True, 'reason': 'User and/or item is unknown.'}),\n",
              " Prediction(uid='A1UBJVWOVJSFUT', iid='B00005T3BD', r_ui=5.0, est=4.109775910919142, details={'was_impossible': True, 'reason': 'User and/or item is unknown.'}),\n",
              " Prediction(uid='A3JNYORULUEDWP', iid='B00007E7JU', r_ui=5.0, est=4.109775910919142, details={'was_impossible': True, 'reason': 'User and/or item is unknown.'}),\n",
              " Prediction(uid='A2YX4JQQPG8VX6', iid='B000059MSI', r_ui=4.0, est=4.109775910919142, details={'was_impossible': True, 'reason': 'User and/or item is unknown.'}),\n",
              " Prediction(uid='AH3HLQ8F08H8Y', iid='B00005LEN4', r_ui=5.0, est=4.109775910919142, details={'was_impossible': True, 'reason': 'User and/or item is unknown.'}),\n",
              " Prediction(uid='A1GQSKJAELNUI', iid='B00005LEOH', r_ui=5.0, est=4.109775910919142, details={'was_impossible': True, 'reason': 'User and/or item is unknown.'}),\n",
              " Prediction(uid='A3VTB7BIOKZ2Z2', iid='B00006JPA1', r_ui=3.0, est=4.109775910919142, details={'was_impossible': True, 'reason': 'User and/or item is unknown.'}),\n",
              " Prediction(uid='AHLXIRSA3BBE8', iid='B00005LEN4', r_ui=3.0, est=4.109775910919142, details={'was_impossible': True, 'reason': 'User and/or item is unknown.'}),\n",
              " Prediction(uid='A25RRFR8SHTNC7', iid='B000068ILF', r_ui=5.0, est=4.109775910919142, details={'was_impossible': True, 'reason': 'User and/or item is unknown.'}),\n",
              " Prediction(uid='A1VY4R7A8OLCHG', iid='B00004Z5PY', r_ui=5.0, est=4.205128205128205, details={'actual_k': 0, 'was_impossible': False}),\n",
              " Prediction(uid='A3A0A6JRJWZ2XC', iid='B00005KK2Q', r_ui=4.0, est=4.109775910919142, details={'was_impossible': True, 'reason': 'User and/or item is unknown.'}),\n",
              " Prediction(uid='A13ATR527JZGMF', iid='B00005A1K1', r_ui=5.0, est=4.109775910919142, details={'was_impossible': True, 'reason': 'User and/or item is unknown.'}),\n",
              " Prediction(uid='ACE7QS2U8NCSZ', iid='B00005T3N3', r_ui=4.0, est=4.109775910919142, details={'was_impossible': True, 'reason': 'User and/or item is unknown.'}),\n",
              " Prediction(uid='AKHHB1TO6THHF', iid='B00006JILC', r_ui=3.0, est=4.109775910919142, details={'was_impossible': True, 'reason': 'User and/or item is unknown.'}),\n",
              " Prediction(uid='A2OID9FFH2FDO', iid='B00006IRR8', r_ui=2.0, est=4.109775910919142, details={'was_impossible': True, 'reason': 'User and/or item is unknown.'}),\n",
              " Prediction(uid='A21HTKIMPR7KC5', iid='B00006RVPW', r_ui=4.0, est=4.109775910919142, details={'was_impossible': True, 'reason': 'User and/or item is unknown.'}),\n",
              " Prediction(uid='A31Y2Z736H74F5', iid='B00005QFYE', r_ui=5.0, est=4.109775910919142, details={'was_impossible': True, 'reason': 'User and/or item is unknown.'}),\n",
              " Prediction(uid='ADIET4VC2EZAU', iid='B00005A9AV', r_ui=5.0, est=4.109775910919142, details={'was_impossible': True, 'reason': 'User and/or item is unknown.'}),\n",
              " Prediction(uid='A1DDNUNC9JNZEV', iid='B00000J1SC', r_ui=2.0, est=4.109775910919142, details={'was_impossible': True, 'reason': 'User and/or item is unknown.'}),\n",
              " Prediction(uid='ASP5ZEENZOF86', iid='B00006HOKR', r_ui=5.0, est=4.109775910919142, details={'was_impossible': True, 'reason': 'User and/or item is unknown.'}),\n",
              " Prediction(uid='A1HKHX9E58OSLX', iid='1400501466', r_ui=4.0, est=4.109775910919142, details={'was_impossible': True, 'reason': 'User and/or item is unknown.'}),\n",
              " Prediction(uid='A34C1M1QG36XEB', iid='B000063Y7E', r_ui=3.0, est=4.109775910919142, details={'was_impossible': True, 'reason': 'User and/or item is unknown.'}),\n",
              " Prediction(uid='A29ZILJF9A9YL', iid='B000069EUW', r_ui=5.0, est=4.109775910919142, details={'was_impossible': True, 'reason': 'User and/or item is unknown.'}),\n",
              " Prediction(uid='A3AFEHHMG1H4C5', iid='B00006FDRB', r_ui=1.0, est=4.109775910919142, details={'was_impossible': True, 'reason': 'User and/or item is unknown.'}),\n",
              " Prediction(uid='AFVBJSIOTO4AW', iid='B00005N6KG', r_ui=5.0, est=4.109775910919142, details={'was_impossible': True, 'reason': 'User and/or item is unknown.'}),\n",
              " Prediction(uid='A2S5NY3GHJXY4Y', iid='B00007KDVI', r_ui=1.0, est=4.109775910919142, details={'was_impossible': True, 'reason': 'User and/or item is unknown.'}),\n",
              " Prediction(uid='A24TUYYLH6YSNG', iid='B00002JXFH', r_ui=5.0, est=4.261904761904762, details={'actual_k': 0, 'was_impossible': False}),\n",
              " Prediction(uid='A1YJLX9DOXV5LX', iid='B00006B7DA', r_ui=2.0, est=4.109775910919142, details={'was_impossible': True, 'reason': 'User and/or item is unknown.'}),\n",
              " Prediction(uid='A11JOB1A9LHBUH', iid='B00006IW1X', r_ui=1.0, est=4.109775910919142, details={'was_impossible': True, 'reason': 'User and/or item is unknown.'}),\n",
              " Prediction(uid='A2B3THVVUV2FFE', iid='B000067RC1', r_ui=5.0, est=4.109775910919142, details={'was_impossible': True, 'reason': 'User and/or item is unknown.'}),\n",
              " Prediction(uid='A2WJB8ERIHCILH', iid='B00006B7DA', r_ui=1.0, est=4.109775910919142, details={'was_impossible': True, 'reason': 'User and/or item is unknown.'}),\n",
              " Prediction(uid='A29BPE3L96U5J6', iid='B000069E1H', r_ui=5.0, est=4.109775910919142, details={'was_impossible': True, 'reason': 'User and/or item is unknown.'}),\n",
              " Prediction(uid='AYHFMKONHUTW9', iid='B000067RT6', r_ui=5.0, est=4.109775910919142, details={'was_impossible': True, 'reason': 'User and/or item is unknown.'}),\n",
              " Prediction(uid='ASCM3206SVTO0', iid='B00005YXZE', r_ui=4.0, est=2.0365853658536586, details={'actual_k': 0, 'was_impossible': False}),\n",
              " Prediction(uid='A1MGM6JBCAE8BS', iid='B000063TJY', r_ui=5.0, est=4.109775910919142, details={'was_impossible': True, 'reason': 'User and/or item is unknown.'}),\n",
              " Prediction(uid='AXFY2PR8KGUTX', iid='B00004Z5CQ', r_ui=1.0, est=4.109775910919142, details={'was_impossible': True, 'reason': 'User and/or item is unknown.'}),\n",
              " Prediction(uid='AN1EG21Q0IYPI', iid='B00005BC0K', r_ui=5.0, est=3.51131221719457, details={'actual_k': 0, 'was_impossible': False}),\n",
              " Prediction(uid='A1T5SAL5A1FDKD', iid='B000065BPB', r_ui=5.0, est=4.109775910919142, details={'was_impossible': True, 'reason': 'User and/or item is unknown.'}),\n",
              " Prediction(uid='AS2LTZR5AYSFB', iid='B000067RMT', r_ui=4.0, est=4.109775910919142, details={'was_impossible': True, 'reason': 'User and/or item is unknown.'}),\n",
              " Prediction(uid='A29EM6MMV7BYDG', iid='B00004T8R2', r_ui=5.0, est=4.109775910919142, details={'was_impossible': True, 'reason': 'User and/or item is unknown.'}),\n",
              " Prediction(uid='A1KK597HKHX2ZR', iid='B00004T8R2', r_ui=5.0, est=4.109775910919142, details={'was_impossible': True, 'reason': 'User and/or item is unknown.'}),\n",
              " Prediction(uid='ARUK9RRF7Z30G', iid='1400532655', r_ui=5.0, est=4.109775910919142, details={'was_impossible': True, 'reason': 'User and/or item is unknown.'}),\n",
              " Prediction(uid='A2AVRMCUZF7NMS', iid='B00007E7NH', r_ui=1.0, est=4.109775910919142, details={'was_impossible': True, 'reason': 'User and/or item is unknown.'}),\n",
              " Prediction(uid='A2TM5J6GNH8QRU', iid='B00004TWM6', r_ui=1.0, est=4.109775910919142, details={'was_impossible': True, 'reason': 'User and/or item is unknown.'}),\n",
              " Prediction(uid='A1AVZBSTE0Z93M', iid='B00006HYPV', r_ui=5.0, est=4.109775910919142, details={'was_impossible': True, 'reason': 'User and/or item is unknown.'}),\n",
              " Prediction(uid='A3VK6RSND77QLU', iid='B00005Y3V6', r_ui=4.0, est=4.109775910919142, details={'was_impossible': True, 'reason': 'User and/or item is unknown.'}),\n",
              " Prediction(uid='A1XLVDTF1L9ZJB', iid='B00004SYNX', r_ui=5.0, est=4.109775910919142, details={'was_impossible': True, 'reason': 'User and/or item is unknown.'}),\n",
              " Prediction(uid='A1UM5XV238AGPT', iid='B00004VUGJ', r_ui=2.0, est=4.109775910919142, details={'was_impossible': True, 'reason': 'User and/or item is unknown.'}),\n",
              " Prediction(uid='AMXTIJ3ZY0AJE', iid='B00004Z5PY', r_ui=5.0, est=4.109775910919142, details={'was_impossible': True, 'reason': 'User and/or item is unknown.'}),\n",
              " Prediction(uid='A3TPI4XLSECJDJ', iid='B00001WRSJ', r_ui=5.0, est=4.109775910919142, details={'was_impossible': True, 'reason': 'User and/or item is unknown.'}),\n",
              " Prediction(uid='ATK7XMDCOYBMZ', iid='B00005K47X', r_ui=4.0, est=4.109775910919142, details={'was_impossible': True, 'reason': 'User and/or item is unknown.'}),\n",
              " Prediction(uid='A33DQLNA1QU9NZ', iid='B000038AB2', r_ui=5.0, est=4.109775910919142, details={'was_impossible': True, 'reason': 'User and/or item is unknown.'}),\n",
              " Prediction(uid='A3HLIHZEGYJBNO', iid='B000038ABH', r_ui=5.0, est=4.2727272727272725, details={'actual_k': 0, 'was_impossible': False}),\n",
              " Prediction(uid='A1IHHQMS9SDDI9', iid='B00007E7C8', r_ui=1.0, est=4.109775910919142, details={'was_impossible': True, 'reason': 'User and/or item is unknown.'}),\n",
              " Prediction(uid='A14OG85Y77RQVY', iid='B00000J3UJ', r_ui=4.0, est=4.109775910919142, details={'was_impossible': True, 'reason': 'User and/or item is unknown.'}),\n",
              " Prediction(uid='A1SIZXW8BI5MJF', iid='B00004TWM6', r_ui=4.0, est=4.109775910919142, details={'was_impossible': True, 'reason': 'User and/or item is unknown.'}),\n",
              " Prediction(uid='AH5FLKVQAG7F6', iid='B00004WCIC', r_ui=5.0, est=4.882468329999649, details={'actual_k': 1, 'was_impossible': False}),\n",
              " Prediction(uid='A1XP2KZIBQ1GXO', iid='B00007FGUF', r_ui=5.0, est=4.109775910919142, details={'was_impossible': True, 'reason': 'User and/or item is unknown.'}),\n",
              " Prediction(uid='A265S2Z6U63RBU', iid='B00007GQLU', r_ui=5.0, est=4.109775910919142, details={'was_impossible': True, 'reason': 'User and/or item is unknown.'}),\n",
              " Prediction(uid='A2BCG6T3B8DZ55', iid='B000067RC4', r_ui=5.0, est=4.109775910919142, details={'was_impossible': True, 'reason': 'User and/or item is unknown.'}),\n",
              " Prediction(uid='A1L8ZE89QG4XMY', iid='B000067S60', r_ui=5.0, est=4.109775910919142, details={'was_impossible': True, 'reason': 'User and/or item is unknown.'}),\n",
              " Prediction(uid='A22IP4WXYV4Q6T', iid='B00007KDVI', r_ui=5.0, est=4.109775910919142, details={'was_impossible': True, 'reason': 'User and/or item is unknown.'}),\n",
              " Prediction(uid='A3RF3VU0UGUFRE', iid='B000058BCQ', r_ui=5.0, est=4.109775910919142, details={'was_impossible': True, 'reason': 'User and/or item is unknown.'}),\n",
              " Prediction(uid='A99Z3PY2MZH68', iid='B000067REG', r_ui=4.0, est=4.109775910919142, details={'was_impossible': True, 'reason': 'User and/or item is unknown.'}),\n",
              " Prediction(uid='A2UREP3Z9EU6V5', iid='B00004RC2E', r_ui=4.0, est=4.089285714285714, details={'actual_k': 0, 'was_impossible': False}),\n",
              " Prediction(uid='A2KFK3WT8VAJC5', iid='B00004SPUN', r_ui=5.0, est=4.109775910919142, details={'was_impossible': True, 'reason': 'User and/or item is unknown.'}),\n",
              " Prediction(uid='A2XUZ46ZOS7ZGQ', iid='B00004Z5VS', r_ui=4.0, est=4.109775910919142, details={'was_impossible': True, 'reason': 'User and/or item is unknown.'}),\n",
              " Prediction(uid='A2V40DTEZLBNKD', iid='B00005ATMB', r_ui=4.0, est=4.109775910919142, details={'was_impossible': True, 'reason': 'User and/or item is unknown.'}),\n",
              " Prediction(uid='AT0ERPV966CL5', iid='B00004Z5M1', r_ui=5.0, est=4.109775910919142, details={'was_impossible': True, 'reason': 'User and/or item is unknown.'}),\n",
              " Prediction(uid='A1RHOSTV6W0H9W', iid='B00005T3EM', r_ui=4.0, est=4.109775910919142, details={'was_impossible': True, 'reason': 'User and/or item is unknown.'}),\n",
              " Prediction(uid='A2TDZZ1LQLE684', iid='B00007E7JU', r_ui=5.0, est=4.109775910919142, details={'was_impossible': True, 'reason': 'User and/or item is unknown.'}),\n",
              " Prediction(uid='AWW9SN0XEVTY1', iid='B00007E7JU', r_ui=5.0, est=4.770575969380405, details={'actual_k': 1, 'was_impossible': False}),\n",
              " Prediction(uid='A6M463Y96NL4G', iid='B00004TWLY', r_ui=5.0, est=4.109775910919142, details={'was_impossible': True, 'reason': 'User and/or item is unknown.'}),\n",
              " Prediction(uid='A1ERWR5A8OVLDH', iid='B00004TEN2', r_ui=5.0, est=3.9152542372881354, details={'actual_k': 0, 'was_impossible': False}),\n",
              " Prediction(uid='A1OGCHIKLXIDYA', iid='B00000JMUG', r_ui=5.0, est=4.109775910919142, details={'was_impossible': True, 'reason': 'User and/or item is unknown.'}),\n",
              " Prediction(uid='ATZ49VS956571', iid='B00006I5TD', r_ui=1.0, est=4.109775910919142, details={'was_impossible': True, 'reason': 'User and/or item is unknown.'}),\n",
              " Prediction(uid='AHI3PNARWL0ND', iid='B00004ZCJE', r_ui=4.0, est=4.109775910919142, details={'was_impossible': True, 'reason': 'User and/or item is unknown.'}),\n",
              " Prediction(uid='AVX8Y5K5T1Z1F', iid='B00007GQLU', r_ui=5.0, est=4.109775910919142, details={'was_impossible': True, 'reason': 'User and/or item is unknown.'}),\n",
              " Prediction(uid='A2QRHD8EQN27Z7', iid='B00005N6KG', r_ui=3.0, est=4.109775910919142, details={'was_impossible': True, 'reason': 'User and/or item is unknown.'}),\n",
              " Prediction(uid='A3A7PJ0MI5S0AK', iid='B00004RC2D', r_ui=1.0, est=4.109775910919142, details={'was_impossible': True, 'reason': 'User and/or item is unknown.'}),\n",
              " Prediction(uid='A17BT73RVRQYSP', iid='B00006HYPV', r_ui=4.0, est=3.2828947368421053, details={'actual_k': 0, 'was_impossible': False}),\n",
              " Prediction(uid='AYTF7QO7D74HN', iid='B00007E7JU', r_ui=4.0, est=4.558111380145278, details={'actual_k': 0, 'was_impossible': False}),\n",
              " Prediction(uid='A2M2ZOU0R6DSCB', iid='B0000668YX', r_ui=5.0, est=4.109775910919142, details={'was_impossible': True, 'reason': 'User and/or item is unknown.'}),\n",
              " Prediction(uid='A3JPSTEHC54K3', iid='B00002EQCS', r_ui=4.0, est=4.109775910919142, details={'was_impossible': True, 'reason': 'User and/or item is unknown.'}),\n",
              " Prediction(uid='A2O5BF3B78O9EL', iid='B000067VBM', r_ui=5.0, est=4.109775910919142, details={'was_impossible': True, 'reason': 'User and/or item is unknown.'}),\n",
              " Prediction(uid='A1QYD7SMWPPXRE', iid='B00005AWCL', r_ui=5.0, est=4.109775910919142, details={'was_impossible': True, 'reason': 'User and/or item is unknown.'}),\n",
              " Prediction(uid='AYV1DBL7KEQ4C', iid='B00007E7C8', r_ui=5.0, est=4.109775910919142, details={'was_impossible': True, 'reason': 'User and/or item is unknown.'}),\n",
              " Prediction(uid='AI0KP6358UVDB', iid='B00007E7C8', r_ui=3.0, est=4.109775910919142, details={'was_impossible': True, 'reason': 'User and/or item is unknown.'}),\n",
              " Prediction(uid='A3MU2AKMWDIN5K', iid='B00000K2YR', r_ui=5.0, est=4.109775910919142, details={'was_impossible': True, 'reason': 'User and/or item is unknown.'}),\n",
              " Prediction(uid='A2666VDTK318E9', iid='B00006BBAB', r_ui=5.0, est=4.109775910919142, details={'was_impossible': True, 'reason': 'User and/or item is unknown.'}),\n",
              " Prediction(uid='A3NWKBA9ZXWH5W', iid='B00007E7JU', r_ui=5.0, est=4.109775910919142, details={'was_impossible': True, 'reason': 'User and/or item is unknown.'}),\n",
              " Prediction(uid='A19SH5QB9P80IY', iid='B0000665P5', r_ui=4.0, est=4.109775910919142, details={'was_impossible': True, 'reason': 'User and/or item is unknown.'}),\n",
              " Prediction(uid='A2U0IQSCR4HFH0', iid='B00004VXNF', r_ui=4.0, est=4.109775910919142, details={'was_impossible': True, 'reason': 'User and/or item is unknown.'}),\n",
              " Prediction(uid='A32540UR0E5E62', iid='B00006I53X', r_ui=5.0, est=4.109775910919142, details={'was_impossible': True, 'reason': 'User and/or item is unknown.'}),\n",
              " Prediction(uid='A3FJ6H1E0372KC', iid='B00004Z5QU', r_ui=4.0, est=4.592592592592593, details={'actual_k': 0, 'was_impossible': False}),\n",
              " Prediction(uid='A2ITAWK1D0G9I8', iid='B00007EDZG', r_ui=5.0, est=4.109775910919142, details={'was_impossible': True, 'reason': 'User and/or item is unknown.'}),\n",
              " Prediction(uid='A27DUGYWK35K8A', iid='B00005B8HO', r_ui=4.0, est=4.109775910919142, details={'was_impossible': True, 'reason': 'User and/or item is unknown.'}),\n",
              " Prediction(uid='A23E4G3211ERX7', iid='B00005KB24', r_ui=4.0, est=4.109775910919142, details={'was_impossible': True, 'reason': 'User and/or item is unknown.'}),\n",
              " Prediction(uid='AL3VVT7G1DN97', iid='B000065BPB', r_ui=5.0, est=4.109775910919142, details={'was_impossible': True, 'reason': 'User and/or item is unknown.'}),\n",
              " Prediction(uid='A3C5GS8F82KQ7E', iid='B0000645RH', r_ui=1.0, est=4.109775910919142, details={'was_impossible': True, 'reason': 'User and/or item is unknown.'}),\n",
              " Prediction(uid='A3II7NZKZ9RTW0', iid='B00006LV79', r_ui=4.0, est=4.109775910919142, details={'was_impossible': True, 'reason': 'User and/or item is unknown.'}),\n",
              " Prediction(uid='AAVUIGSWFU4GT', iid='B00001P4ZH', r_ui=5.0, est=4.109775910919142, details={'was_impossible': True, 'reason': 'User and/or item is unknown.'}),\n",
              " Prediction(uid='A3UVIRU7KF9N1N', iid='B00005U23R', r_ui=1.0, est=4.109775910919142, details={'was_impossible': True, 'reason': 'User and/or item is unknown.'}),\n",
              " Prediction(uid='A3EMTS047L2RKG', iid='B00006HSML', r_ui=5.0, est=4.109775910919142, details={'was_impossible': True, 'reason': 'User and/or item is unknown.'}),\n",
              " Prediction(uid='A26D071NFIAGX8', iid='B00004VX39', r_ui=5.0, est=4.109775910919142, details={'was_impossible': True, 'reason': 'User and/or item is unknown.'}),\n",
              " Prediction(uid='A2HMXEDWSY265S', iid='B00004RDL5', r_ui=4.0, est=4.109775910919142, details={'was_impossible': True, 'reason': 'User and/or item is unknown.'}),\n",
              " Prediction(uid='A2LA7ZXKY6N3W', iid='B000050AUJ', r_ui=5.0, est=4.109775910919142, details={'was_impossible': True, 'reason': 'User and/or item is unknown.'}),\n",
              " Prediction(uid='A1HOYB4L4H5AT6', iid='B00004SGD3', r_ui=5.0, est=4.109775910919142, details={'was_impossible': True, 'reason': 'User and/or item is unknown.'}),\n",
              " Prediction(uid='A2L7HKSC01X1G7', iid='B0000632H7', r_ui=5.0, est=4.109775910919142, details={'was_impossible': True, 'reason': 'User and/or item is unknown.'}),\n",
              " Prediction(uid='ABXU9L991VSCT', iid='B00005NIMJ', r_ui=3.0, est=4.109775910919142, details={'was_impossible': True, 'reason': 'User and/or item is unknown.'}),\n",
              " Prediction(uid='A2O9H7IGKEHLC2', iid='B0000510T7', r_ui=5.0, est=4.109775910919142, details={'was_impossible': True, 'reason': 'User and/or item is unknown.'}),\n",
              " Prediction(uid='A38P1I39V461YR', iid='B00006I5SQ', r_ui=5.0, est=4.109775910919142, details={'was_impossible': True, 'reason': 'User and/or item is unknown.'}),\n",
              " Prediction(uid='A126WAQ77GGYWM', iid='B00005ARK3', r_ui=5.0, est=4.109775910919142, details={'was_impossible': True, 'reason': 'User and/or item is unknown.'}),\n",
              " Prediction(uid='A3NS0LSK7Q28NX', iid='B00006J05Y', r_ui=4.0, est=4.109775910919142, details={'was_impossible': True, 'reason': 'User and/or item is unknown.'}),\n",
              " Prediction(uid='AM4PXTEE7VUJ9', iid='B00006JQ06', r_ui=3.0, est=4.109775910919142, details={'was_impossible': True, 'reason': 'User and/or item is unknown.'}),\n",
              " Prediction(uid='A2V3QFKQ7DYRL4', iid='B00005ML7Q', r_ui=5.0, est=4.109775910919142, details={'was_impossible': True, 'reason': 'User and/or item is unknown.'}),\n",
              " Prediction(uid='ACS5LC4K2XIZV', iid='B000067RC4', r_ui=5.0, est=4.138655462184874, details={'actual_k': 0, 'was_impossible': False}),\n",
              " Prediction(uid='A292WNP67PLFVR', iid='B00005K47X', r_ui=5.0, est=4.109775910919142, details={'was_impossible': True, 'reason': 'User and/or item is unknown.'}),\n",
              " Prediction(uid='AKQMV0NQXZB6J', iid='B000065BP9', r_ui=3.0, est=4.109775910919142, details={'was_impossible': True, 'reason': 'User and/or item is unknown.'}),\n",
              " Prediction(uid='A5BKHU13LZOKH', iid='B00005U21H', r_ui=5.0, est=4.109775910919142, details={'was_impossible': True, 'reason': 'User and/or item is unknown.'}),\n",
              " Prediction(uid='AY0G8PUMINVG1', iid='B000067SOH', r_ui=1.0, est=4.109775910919142, details={'was_impossible': True, 'reason': 'User and/or item is unknown.'}),\n",
              " Prediction(uid='A2P5V7FE5771TF', iid='B000068P8W', r_ui=5.0, est=4.109775910919142, details={'was_impossible': True, 'reason': 'User and/or item is unknown.'}),\n",
              " Prediction(uid='A1GNMOZGBQZ3IQ', iid='B00004TWM6', r_ui=4.0, est=4.109775910919142, details={'was_impossible': True, 'reason': 'User and/or item is unknown.'}),\n",
              " Prediction(uid='A1B86RMBQXP4M4', iid='B00005N6KG', r_ui=5.0, est=4.109775910919142, details={'was_impossible': True, 'reason': 'User and/or item is unknown.'}),\n",
              " Prediction(uid='A2DVY05O3NFB0C', iid='B00006KIYS', r_ui=5.0, est=4.109775910919142, details={'was_impossible': True, 'reason': 'User and/or item is unknown.'}),\n",
              " Prediction(uid='A16N4XL861Q0P3', iid='7214047977', r_ui=5.0, est=4.109775910919142, details={'was_impossible': True, 'reason': 'User and/or item is unknown.'}),\n",
              " Prediction(uid='A3AE1BO38Q1W3K', iid='B00004WCGF', r_ui=5.0, est=4.109775910919142, details={'was_impossible': True, 'reason': 'User and/or item is unknown.'}),\n",
              " Prediction(uid='A290V3243DX186', iid='B00004SQET', r_ui=5.0, est=4.109775910919142, details={'was_impossible': True, 'reason': 'User and/or item is unknown.'}),\n",
              " Prediction(uid='A2FQG4QEXQTOIN', iid='6301977173', r_ui=3.0, est=4.109775910919142, details={'was_impossible': True, 'reason': 'User and/or item is unknown.'}),\n",
              " Prediction(uid='A2SUY9NUHJ9XLL', iid='B00005NIMJ', r_ui=4.0, est=4.109775910919142, details={'was_impossible': True, 'reason': 'User and/or item is unknown.'}),\n",
              " Prediction(uid='A38LIZGAMVQDIZ', iid='B000068UY6', r_ui=4.0, est=4.109775910919142, details={'was_impossible': True, 'reason': 'User and/or item is unknown.'}),\n",
              " Prediction(uid='ATCWZBJUA79JJ', iid='B000067O5G', r_ui=4.0, est=4.109775910919142, details={'was_impossible': True, 'reason': 'User and/or item is unknown.'}),\n",
              " Prediction(uid='ATKBLA1K7BYE8', iid='B00004TBLW', r_ui=5.0, est=4.109775910919142, details={'was_impossible': True, 'reason': 'User and/or item is unknown.'}),\n",
              " Prediction(uid='A3UPLGD1NUEPOY', iid='B00001P505', r_ui=3.0, est=4.109775910919142, details={'was_impossible': True, 'reason': 'User and/or item is unknown.'}),\n",
              " Prediction(uid='AHLWJ5F76AOB1', iid='B00007EDM8', r_ui=5.0, est=4.109775910919142, details={'was_impossible': True, 'reason': 'User and/or item is unknown.'}),\n",
              " Prediction(uid='A3G2D14A6G8T64', iid='B00006JKXN', r_ui=4.0, est=4.109775910919142, details={'was_impossible': True, 'reason': 'User and/or item is unknown.'}),\n",
              " Prediction(uid='A1UVAPJWJUEDZQ', iid='B00006JQ06', r_ui=5.0, est=4.109775910919142, details={'was_impossible': True, 'reason': 'User and/or item is unknown.'}),\n",
              " Prediction(uid='AA9LBAM5VNDOR', iid='6301977173', r_ui=4.0, est=4.109775910919142, details={'was_impossible': True, 'reason': 'User and/or item is unknown.'}),\n",
              " Prediction(uid='A3BLNZSOMMXMCW', iid='B000067RT6', r_ui=4.0, est=4.109775910919142, details={'was_impossible': True, 'reason': 'User and/or item is unknown.'}),\n",
              " Prediction(uid='A3Q95HLHAUC34M', iid='0972683275', r_ui=5.0, est=4.109775910919142, details={'was_impossible': True, 'reason': 'User and/or item is unknown.'}),\n",
              " Prediction(uid='A31G8KZ37SL7BN', iid='B00005V8R8', r_ui=5.0, est=4.109775910919142, details={'was_impossible': True, 'reason': 'User and/or item is unknown.'}),\n",
              " Prediction(uid='A3HKQYP7DVY3AC', iid='B000065BP9', r_ui=4.0, est=4.109775910919142, details={'was_impossible': True, 'reason': 'User and/or item is unknown.'}),\n",
              " Prediction(uid='A1F3JFEXBKUQEJ', iid='B000067SOL', r_ui=5.0, est=4.109775910919142, details={'was_impossible': True, 'reason': 'User and/or item is unknown.'}),\n",
              " Prediction(uid='AZRTUTX7GSQ0A', iid='B000069K98', r_ui=5.0, est=4.109775910919142, details={'was_impossible': True, 'reason': 'User and/or item is unknown.'}),\n",
              " Prediction(uid='A331MCOLE9G96D', iid='B00007E7K0', r_ui=5.0, est=4.109775910919142, details={'was_impossible': True, 'reason': 'User and/or item is unknown.'}),\n",
              " Prediction(uid='A17898AOMDIIXK', iid='B00005QFZF', r_ui=2.0, est=4.109775910919142, details={'was_impossible': True, 'reason': 'User and/or item is unknown.'}),\n",
              " Prediction(uid='A2FGM2RAKVI8HD', iid='B000068O3S', r_ui=1.0, est=4.109775910919142, details={'was_impossible': True, 'reason': 'User and/or item is unknown.'}),\n",
              " Prediction(uid='A39XT0U706WSWB', iid='B000068P8W', r_ui=5.0, est=4.109775910919142, details={'was_impossible': True, 'reason': 'User and/or item is unknown.'}),\n",
              " Prediction(uid='ALQNOSMQR8AFR', iid='9966694544', r_ui=4.0, est=4.109775910919142, details={'was_impossible': True, 'reason': 'User and/or item is unknown.'}),\n",
              " Prediction(uid='A1BYGS3P9PMQG9', iid='B00005T3BD', r_ui=5.0, est=4.109775910919142, details={'was_impossible': True, 'reason': 'User and/or item is unknown.'}),\n",
              " Prediction(uid='A1GQQINMRE9P7C', iid='B00005N5X2', r_ui=2.0, est=4.109775910919142, details={'was_impossible': True, 'reason': 'User and/or item is unknown.'}),\n",
              " Prediction(uid='A19VU1AX1T0Y7N', iid='B000053HC5', r_ui=5.0, est=4.109775910919142, details={'was_impossible': True, 'reason': 'User and/or item is unknown.'}),\n",
              " Prediction(uid='A22Y02XV16Z3L9', iid='B00004Z5D1', r_ui=5.0, est=4.109775910919142, details={'was_impossible': True, 'reason': 'User and/or item is unknown.'}),\n",
              " Prediction(uid='ATW6PVNQO28WV', iid='B00007FGU7', r_ui=5.0, est=4.109775910919142, details={'was_impossible': True, 'reason': 'User and/or item is unknown.'}),\n",
              " Prediction(uid='A1ECQ8XMTNGKHK', iid='B00006JQ06', r_ui=2.0, est=4.109775910919142, details={'was_impossible': True, 'reason': 'User and/or item is unknown.'}),\n",
              " Prediction(uid='A1JJE3N3PMKF6A', iid='B00007KDVI', r_ui=1.0, est=4.109775910919142, details={'was_impossible': True, 'reason': 'User and/or item is unknown.'}),\n",
              " Prediction(uid='A248X2RITSD511', iid='B00006LHO7', r_ui=4.0, est=4.109775910919142, details={'was_impossible': True, 'reason': 'User and/or item is unknown.'}),\n",
              " Prediction(uid='A1UDT54AG9VF2', iid='B000056SSM', r_ui=1.0, est=4.109775910919142, details={'was_impossible': True, 'reason': 'User and/or item is unknown.'}),\n",
              " Prediction(uid='A201AOX8BD2K4A', iid='B00005219O', r_ui=1.0, est=4.109775910919142, details={'was_impossible': True, 'reason': 'User and/or item is unknown.'}),\n",
              " Prediction(uid='AVUAK0N5NI9X2', iid='B00005I9RU', r_ui=1.0, est=3.852713178294574, details={'actual_k': 0, 'was_impossible': False}),\n",
              " Prediction(uid='A24OXZ8YRKN5I2', iid='B00004WHFK', r_ui=1.0, est=4.109775910919142, details={'was_impossible': True, 'reason': 'User and/or item is unknown.'}),\n",
              " Prediction(uid='AB8EPLDET9F74', iid='B00000J3NF', r_ui=5.0, est=4.109775910919142, details={'was_impossible': True, 'reason': 'User and/or item is unknown.'}),\n",
              " Prediction(uid='A29GNVACCEUIKH', iid='B00007E7JU', r_ui=4.0, est=4.109775910919142, details={'was_impossible': True, 'reason': 'User and/or item is unknown.'}),\n",
              " Prediction(uid='A2PJX86FE5ZM87', iid='B000068P8W', r_ui=2.0, est=4.109775910919142, details={'was_impossible': True, 'reason': 'User and/or item is unknown.'}),\n",
              " Prediction(uid='A3NKCHJB5N2M5W', iid='B000067RC4', r_ui=5.0, est=4.109775910919142, details={'was_impossible': True, 'reason': 'User and/or item is unknown.'}),\n",
              " Prediction(uid='A2W4X464V5KALG', iid='B00006B7HB', r_ui=5.0, est=4.354330708661418, details={'actual_k': 0, 'was_impossible': False}),\n",
              " Prediction(uid='AHE3G4W9DI52L', iid='B00007EDM8', r_ui=5.0, est=4.109775910919142, details={'was_impossible': True, 'reason': 'User and/or item is unknown.'}),\n",
              " Prediction(uid='AAMUNRK134Y5P', iid='B00006HVLW', r_ui=4.0, est=4.109775910919142, details={'was_impossible': True, 'reason': 'User and/or item is unknown.'}),\n",
              " Prediction(uid='AI6VBMUP8VIN0', iid='9983891212', r_ui=5.0, est=4.109775910919142, details={'was_impossible': True, 'reason': 'User and/or item is unknown.'}),\n",
              " Prediction(uid='A3ARW2A5ZMUPFW', iid='B00005T3BD', r_ui=5.0, est=4.109775910919142, details={'was_impossible': True, 'reason': 'User and/or item is unknown.'}),\n",
              " Prediction(uid='ADYX3ZANK6VIN', iid='140053271X', r_ui=5.0, est=4.109775910919142, details={'was_impossible': True, 'reason': 'User and/or item is unknown.'}),\n",
              " Prediction(uid='A295PSWRRCYWEY', iid='B000050LUE', r_ui=5.0, est=4.666666666666667, details={'actual_k': 0, 'was_impossible': False}),\n",
              " Prediction(uid='A3SE7Z3Q610WC', iid='B00005AB9R', r_ui=4.0, est=4.109775910919142, details={'was_impossible': True, 'reason': 'User and/or item is unknown.'}),\n",
              " Prediction(uid='ADCV16K6RZZ96', iid='B00004YZQ8', r_ui=5.0, est=4.109775910919142, details={'was_impossible': True, 'reason': 'User and/or item is unknown.'}),\n",
              " Prediction(uid='A1YZSS3N2MV9B5', iid='B00005MOZG', r_ui=4.0, est=2.9692307692307693, details={'actual_k': 0, 'was_impossible': False}),\n",
              " Prediction(uid='A3EKQMTKIRXCF', iid='B000067RT6', r_ui=4.0, est=4.109775910919142, details={'was_impossible': True, 'reason': 'User and/or item is unknown.'}),\n",
              " Prediction(uid='AH9DX7LNEYAC0', iid='B000066TPN', r_ui=5.0, est=4.109775910919142, details={'was_impossible': True, 'reason': 'User and/or item is unknown.'}),\n",
              " Prediction(uid='A1FL25HRA50NZZ', iid='B00004ZCJE', r_ui=5.0, est=4.109775910919142, details={'was_impossible': True, 'reason': 'User and/or item is unknown.'}),\n",
              " Prediction(uid='A1QN19A24T50A7', iid='B00005T3BD', r_ui=4.0, est=4.109775910919142, details={'was_impossible': True, 'reason': 'User and/or item is unknown.'}),\n",
              " Prediction(uid='AKHYKWTADKZTY', iid='B00000IGBF', r_ui=2.0, est=4.109775910919142, details={'was_impossible': True, 'reason': 'User and/or item is unknown.'}),\n",
              " Prediction(uid='AURMWKKEZ2YK1', iid='B00004ZCJE', r_ui=5.0, est=4.109775910919142, details={'was_impossible': True, 'reason': 'User and/or item is unknown.'}),\n",
              " Prediction(uid='A3V2AAA4QYAW0K', iid='B00006OLCT', r_ui=3.0, est=4.109775910919142, details={'was_impossible': True, 'reason': 'User and/or item is unknown.'}),\n",
              " Prediction(uid='ANQI7I3ZHFQQW', iid='B000069106', r_ui=2.0, est=4.109775910919142, details={'was_impossible': True, 'reason': 'User and/or item is unknown.'}),\n",
              " Prediction(uid='A3788A0415KBT2', iid='B00006I53S', r_ui=5.0, est=4.109775910919142, details={'was_impossible': True, 'reason': 'User and/or item is unknown.'}),\n",
              " Prediction(uid='A1HA2JWUK2O0MS', iid='B000062R4P', r_ui=5.0, est=4.109775910919142, details={'was_impossible': True, 'reason': 'User and/or item is unknown.'}),\n",
              " Prediction(uid='A3VS5S1X5YOGMY', iid='B00007KDVI', r_ui=3.0, est=4.109775910919142, details={'was_impossible': True, 'reason': 'User and/or item is unknown.'}),\n",
              " Prediction(uid='A2Z5KYEBWK1KZW', iid='B00006I5J7', r_ui=5.0, est=4.109775910919142, details={'was_impossible': True, 'reason': 'User and/or item is unknown.'}),\n",
              " Prediction(uid='AQNPDXFJL32X1', iid='B00007E7JU', r_ui=3.0, est=4.109775910919142, details={'was_impossible': True, 'reason': 'User and/or item is unknown.'}),\n",
              " Prediction(uid='A2M4NZZKSQ4WFM', iid='B00006I5SQ', r_ui=3.0, est=4.109775910919142, details={'was_impossible': True, 'reason': 'User and/or item is unknown.'}),\n",
              " Prediction(uid='A19MXCWAGB9AA4', iid='B00005Q5U5', r_ui=5.0, est=4.662650602409639, details={'actual_k': 0, 'was_impossible': False}),\n",
              " Prediction(uid='AKGG8CWVRK3XN', iid='B00005N6KG', r_ui=1.0, est=4.109775910919142, details={'was_impossible': True, 'reason': 'User and/or item is unknown.'}),\n",
              " Prediction(uid='A2WXFDHG38XN3O', iid='B00004Y7TC', r_ui=4.0, est=4.109775910919142, details={'was_impossible': True, 'reason': 'User and/or item is unknown.'}),\n",
              " Prediction(uid='A124AKDXC26XT9', iid='B00000J1SC', r_ui=5.0, est=4.109775910919142, details={'was_impossible': True, 'reason': 'User and/or item is unknown.'}),\n",
              " Prediction(uid='A2EWLM4Q0FYQGB', iid='B00007E7JU', r_ui=5.0, est=4.558111380145278, details={'actual_k': 0, 'was_impossible': False}),\n",
              " Prediction(uid='A6CQ6W46IHYEE', iid='B00006HSM2', r_ui=1.0, est=4.109775910919142, details={'was_impossible': True, 'reason': 'User and/or item is unknown.'}),\n",
              " Prediction(uid='A2IMCPUEQSEKFS', iid='B000067O5G', r_ui=4.0, est=4.109775910919142, details={'was_impossible': True, 'reason': 'User and/or item is unknown.'}),\n",
              " Prediction(uid='AT690CAG0GESZ', iid='B00001P4ZH', r_ui=4.0, est=4.109775910919142, details={'was_impossible': True, 'reason': 'User and/or item is unknown.'}),\n",
              " Prediction(uid='A2PK53A6FNTHGH', iid='B000067RC1', r_ui=5.0, est=2.3445692883895126, details={'actual_k': 1, 'was_impossible': False}),\n",
              " Prediction(uid='AUKHILSOJCHIV', iid='B00001WRSJ', r_ui=5.0, est=4.109775910919142, details={'was_impossible': True, 'reason': 'User and/or item is unknown.'}),\n",
              " Prediction(uid='A2YYRPFKEYWI15', iid='B00005T380', r_ui=5.0, est=4.109775910919142, details={'was_impossible': True, 'reason': 'User and/or item is unknown.'}),\n",
              " Prediction(uid='A2SSX3YZSFH6QG', iid='B00007E7C8', r_ui=4.0, est=4.109775910919142, details={'was_impossible': True, 'reason': 'User and/or item is unknown.'}),\n",
              " Prediction(uid='A7JSD1S8PSINN', iid='B00000J1F3', r_ui=3.0, est=4.109775910919142, details={'was_impossible': True, 'reason': 'User and/or item is unknown.'}),\n",
              " Prediction(uid='A1M7T5WHAVT72V', iid='B00005T3XH', r_ui=5.0, est=4.109775910919142, details={'was_impossible': True, 'reason': 'User and/or item is unknown.'}),\n",
              " Prediction(uid='A3BQL6PI36L0B8', iid='B00007EDZG', r_ui=5.0, est=4.109775910919142, details={'was_impossible': True, 'reason': 'User and/or item is unknown.'}),\n",
              " Prediction(uid='A12F6005KZKKFJ', iid='1400501466', r_ui=5.0, est=4.109775910919142, details={'was_impossible': True, 'reason': 'User and/or item is unknown.'}),\n",
              " Prediction(uid='AZGLF7856XMP7', iid='B00001P4ZH', r_ui=4.0, est=4.109775910919142, details={'was_impossible': True, 'reason': 'User and/or item is unknown.'}),\n",
              " Prediction(uid='A2JPEXR3O07PUW', iid='B00004THDE', r_ui=5.0, est=4.109775910919142, details={'was_impossible': True, 'reason': 'User and/or item is unknown.'}),\n",
              " Prediction(uid='A1NU5AWRPSVNZ6', iid='B00007E89K', r_ui=4.0, est=4.109775910919142, details={'was_impossible': True, 'reason': 'User and/or item is unknown.'}),\n",
              " Prediction(uid='A2SRT7ROU87IDE', iid='B00004Z5D1', r_ui=4.0, est=4.109775910919142, details={'was_impossible': True, 'reason': 'User and/or item is unknown.'}),\n",
              " Prediction(uid='AI4GFBV68A9HA', iid='B000021YU8', r_ui=5.0, est=4.109775910919142, details={'was_impossible': True, 'reason': 'User and/or item is unknown.'}),\n",
              " Prediction(uid='A1IYMLIO8W24WM', iid='B00004THCZ', r_ui=5.0, est=4.109775910919142, details={'was_impossible': True, 'reason': 'User and/or item is unknown.'}),\n",
              " Prediction(uid='A1NIISTG672DQ1', iid='B00004TDLD', r_ui=5.0, est=4.109775910919142, details={'was_impossible': True, 'reason': 'User and/or item is unknown.'}),\n",
              " Prediction(uid='A3BL49G16VN4DY', iid='B00007DWEA', r_ui=5.0, est=4.109775910919142, details={'was_impossible': True, 'reason': 'User and/or item is unknown.'}),\n",
              " Prediction(uid='A21XPIE51GURZY', iid='B00003CWDG', r_ui=5.0, est=4.109775910919142, details={'was_impossible': True, 'reason': 'User and/or item is unknown.'}),\n",
              " Prediction(uid='AB2MI0XNCFGIJ', iid='B00006RVPW', r_ui=5.0, est=4.109775910919142, details={'was_impossible': True, 'reason': 'User and/or item is unknown.'}),\n",
              " Prediction(uid='A2HKA805K4NAA', iid='B000023VUL', r_ui=1.0, est=3.4081632653061225, details={'actual_k': 0, 'was_impossible': False}),\n",
              " Prediction(uid='A1FD4JXNWVBDIO', iid='B00006B7SK', r_ui=4.0, est=4.109775910919142, details={'was_impossible': True, 'reason': 'User and/or item is unknown.'}),\n",
              " Prediction(uid='A2740FRFOTALZU', iid='B00004ZCJE', r_ui=5.0, est=4.109775910919142, details={'was_impossible': True, 'reason': 'User and/or item is unknown.'}),\n",
              " Prediction(uid='A3VL8YXEIBTP5G', iid='B00001ZWXA', r_ui=5.0, est=4.109775910919142, details={'was_impossible': True, 'reason': 'User and/or item is unknown.'}),\n",
              " Prediction(uid='A39CWA8YER59E5', iid='B00007E7JU', r_ui=5.0, est=4.109775910919142, details={'was_impossible': True, 'reason': 'User and/or item is unknown.'}),\n",
              " Prediction(uid='A1GMFHOCYI4C8V', iid='B00005TQ08', r_ui=5.0, est=4.109775910919142, details={'was_impossible': True, 'reason': 'User and/or item is unknown.'}),\n",
              " Prediction(uid='ALJG1Q36E7QCO', iid='B00004X10B', r_ui=5.0, est=4.109775910919142, details={'was_impossible': True, 'reason': 'User and/or item is unknown.'}),\n",
              " Prediction(uid='A3HSJ1MXU5YX8X', iid='B00007E7JU', r_ui=5.0, est=4.109775910919142, details={'was_impossible': True, 'reason': 'User and/or item is unknown.'}),\n",
              " Prediction(uid='A1BLC77FC039QH', iid='B00004THCZ', r_ui=5.0, est=4.109775910919142, details={'was_impossible': True, 'reason': 'User and/or item is unknown.'}),\n",
              " Prediction(uid='A11C8WQ2IR3UUV', iid='B00007E7K9', r_ui=5.0, est=4.109775910919142, details={'was_impossible': True, 'reason': 'User and/or item is unknown.'}),\n",
              " Prediction(uid='A1HOGB3S8QMC3H', iid='B00005T3N3', r_ui=1.0, est=4.109775910919142, details={'was_impossible': True, 'reason': 'User and/or item is unknown.'}),\n",
              " Prediction(uid='A1DGAYHCDXE7FU', iid='B000065UDU', r_ui=5.0, est=4.109775910919142, details={'was_impossible': True, 'reason': 'User and/or item is unknown.'}),\n",
              " Prediction(uid='A3U0K3CCJJBCYK', iid='B00005ARK3', r_ui=5.0, est=4.109775910919142, details={'was_impossible': True, 'reason': 'User and/or item is unknown.'}),\n",
              " Prediction(uid='A3N89JRE34GM25', iid='B00007IFED', r_ui=5.0, est=4.109775910919142, details={'was_impossible': True, 'reason': 'User and/or item is unknown.'}),\n",
              " Prediction(uid='A2IAUP8R10FFII', iid='B00006JN3G', r_ui=5.0, est=4.109775910919142, details={'was_impossible': True, 'reason': 'User and/or item is unknown.'}),\n",
              " Prediction(uid='A2E65XAT6HYJ9Q', iid='B00007B4DM', r_ui=4.0, est=4.666666666666667, details={'actual_k': 0, 'was_impossible': False}),\n",
              " ...]"
            ]
          },
          "metadata": {
            "tags": []
          },
          "execution_count": 63
        }
      ]
    },
    {
      "cell_type": "code",
      "metadata": {
        "colab": {
          "base_uri": "https://localhost:8080/"
        },
        "id": "ngWFjKp5x5jT",
        "outputId": "686e7357-55fa-433d-fb4c-526ecf12bdb0"
      },
      "source": [
        "# get RMSE\n",
        "print(\"Item-based Model : Test Set\")\n",
        "accuracy.rmse(test_pred, verbose=True)"
      ],
      "execution_count": 64,
      "outputs": [
        {
          "output_type": "stream",
          "text": [
            "Item-based Model : Test Set\n",
            "RMSE: 1.3075\n"
          ],
          "name": "stdout"
        },
        {
          "output_type": "execute_result",
          "data": {
            "text/plain": [
              "1.307547658402279"
            ]
          },
          "metadata": {
            "tags": []
          },
          "execution_count": 64
        }
      ]
    },
    {
      "cell_type": "markdown",
      "metadata": {
        "id": "yhtRXDGBx5jU"
      },
      "source": [
        "# Model-based collaborative filtering system\n",
        "\n",
        "These methods are based on machine learning and data mining techniques. The goal is to train models to be able to make predictions. For example, we could use existing user-item interactions to train a model to predict the top-5 items that a user might like the most. One advantage of these methods is that they are able to recommend a larger number of items to a larger number of users, compared to other methods like memory based approach. They have large coverage, even when working with large sparse matrices."
      ]
    },
    {
      "cell_type": "code",
      "metadata": {
        "colab": {
          "base_uri": "https://localhost:8080/",
          "height": 255
        },
        "id": "9jsOscufx5jU",
        "outputId": "28c43a27-38e0-49e6-d982-cbd26ba4d3cb"
      },
      "source": [
        "new_df1=new_df.head(10000)\n",
        "ratings_matrix = new_df1.pivot_table(values='Rating', index='UserId', columns='ProductId', fill_value=0)\n",
        "ratings_matrix.head()"
      ],
      "execution_count": 65,
      "outputs": [
        {
          "output_type": "execute_result",
          "data": {
            "text/html": [
              "<div>\n",
              "<style scoped>\n",
              "    .dataframe tbody tr th:only-of-type {\n",
              "        vertical-align: middle;\n",
              "    }\n",
              "\n",
              "    .dataframe tbody tr th {\n",
              "        vertical-align: top;\n",
              "    }\n",
              "\n",
              "    .dataframe thead th {\n",
              "        text-align: right;\n",
              "    }\n",
              "</style>\n",
              "<table border=\"1\" class=\"dataframe\">\n",
              "  <thead>\n",
              "    <tr style=\"text-align: right;\">\n",
              "      <th>ProductId</th>\n",
              "      <th>0972683275</th>\n",
              "      <th>1400501466</th>\n",
              "      <th>1400501520</th>\n",
              "      <th>1400501776</th>\n",
              "      <th>1400532620</th>\n",
              "      <th>1400532655</th>\n",
              "      <th>140053271X</th>\n",
              "      <th>1400532736</th>\n",
              "      <th>1400599997</th>\n",
              "      <th>1400698987</th>\n",
              "      <th>3744295508</th>\n",
              "      <th>6301977173</th>\n",
              "      <th>7214047977</th>\n",
              "      <th>8862935293</th>\n",
              "      <th>9573212919</th>\n",
              "      <th>9575871979</th>\n",
              "      <th>9625993428</th>\n",
              "      <th>9888002198</th>\n",
              "      <th>9966694544</th>\n",
              "      <th>9983891212</th>\n",
              "      <th>9984984354</th>\n",
              "      <th>9985511476</th>\n",
              "      <th>B000001OM4</th>\n",
              "      <th>B000001OM5</th>\n",
              "      <th>B000001OMI</th>\n",
              "      <th>B000001ON6</th>\n",
              "      <th>B00000DM9W</th>\n",
              "      <th>B00000IGBF</th>\n",
              "      <th>B00000J05A</th>\n",
              "      <th>B00000J061</th>\n",
              "      <th>B00000J08Q</th>\n",
              "      <th>B00000J0D2</th>\n",
              "      <th>B00000J0D5</th>\n",
              "      <th>B00000J0D8</th>\n",
              "      <th>B00000J1EJ</th>\n",
              "      <th>B00000J1EP</th>\n",
              "      <th>B00000J1EQ</th>\n",
              "      <th>B00000J1F3</th>\n",
              "      <th>B00000J1GA</th>\n",
              "      <th>B00000J1QK</th>\n",
              "      <th>B00000J1QR</th>\n",
              "      <th>B00000J1SC</th>\n",
              "      <th>B00000J1TX</th>\n",
              "      <th>B00000J1U8</th>\n",
              "      <th>B00000J1UQ</th>\n",
              "      <th>B00000J1V3</th>\n",
              "      <th>B00000J1V5</th>\n",
              "      <th>B00000J3NF</th>\n",
              "      <th>B00000J3Q7</th>\n",
              "      <th>B00000J3UJ</th>\n",
              "      <th>B00000J434</th>\n",
              "      <th>B00000J4EY</th>\n",
              "      <th>B00000J4FS</th>\n",
              "      <th>B00000J4GE</th>\n",
              "      <th>B00000J6WY</th>\n",
              "      <th>B00000JBAT</th>\n",
              "      <th>B00000JBHP</th>\n",
              "      <th>B00000JBPB</th>\n",
              "      <th>B00000JCT8</th>\n",
              "      <th>B00000JCTO</th>\n",
              "      <th>B00000JD34</th>\n",
              "      <th>B00000JDF5</th>\n",
              "      <th>B00000JDF6</th>\n",
              "      <th>B00000JDHV</th>\n",
              "      <th>B00000JFE3</th>\n",
              "      <th>B00000JFIF</th>\n",
              "      <th>B00000JFMK</th>\n",
              "      <th>B00000JHWX</th>\n",
              "      <th>B00000JI4F</th>\n",
              "      <th>B00000JII6</th>\n",
              "      <th>B00000JMUG</th>\n",
              "      <th>B00000JPPI</th>\n",
              "      <th>B00000JSGF</th>\n",
              "      <th>B00000JYLO</th>\n",
              "      <th>B00000JYWQ</th>\n",
              "      <th>B00000K135</th>\n",
              "    </tr>\n",
              "    <tr>\n",
              "      <th>UserId</th>\n",
              "      <th></th>\n",
              "      <th></th>\n",
              "      <th></th>\n",
              "      <th></th>\n",
              "      <th></th>\n",
              "      <th></th>\n",
              "      <th></th>\n",
              "      <th></th>\n",
              "      <th></th>\n",
              "      <th></th>\n",
              "      <th></th>\n",
              "      <th></th>\n",
              "      <th></th>\n",
              "      <th></th>\n",
              "      <th></th>\n",
              "      <th></th>\n",
              "      <th></th>\n",
              "      <th></th>\n",
              "      <th></th>\n",
              "      <th></th>\n",
              "      <th></th>\n",
              "      <th></th>\n",
              "      <th></th>\n",
              "      <th></th>\n",
              "      <th></th>\n",
              "      <th></th>\n",
              "      <th></th>\n",
              "      <th></th>\n",
              "      <th></th>\n",
              "      <th></th>\n",
              "      <th></th>\n",
              "      <th></th>\n",
              "      <th></th>\n",
              "      <th></th>\n",
              "      <th></th>\n",
              "      <th></th>\n",
              "      <th></th>\n",
              "      <th></th>\n",
              "      <th></th>\n",
              "      <th></th>\n",
              "      <th></th>\n",
              "      <th></th>\n",
              "      <th></th>\n",
              "      <th></th>\n",
              "      <th></th>\n",
              "      <th></th>\n",
              "      <th></th>\n",
              "      <th></th>\n",
              "      <th></th>\n",
              "      <th></th>\n",
              "      <th></th>\n",
              "      <th></th>\n",
              "      <th></th>\n",
              "      <th></th>\n",
              "      <th></th>\n",
              "      <th></th>\n",
              "      <th></th>\n",
              "      <th></th>\n",
              "      <th></th>\n",
              "      <th></th>\n",
              "      <th></th>\n",
              "      <th></th>\n",
              "      <th></th>\n",
              "      <th></th>\n",
              "      <th></th>\n",
              "      <th></th>\n",
              "      <th></th>\n",
              "      <th></th>\n",
              "      <th></th>\n",
              "      <th></th>\n",
              "      <th></th>\n",
              "      <th></th>\n",
              "      <th></th>\n",
              "      <th></th>\n",
              "      <th></th>\n",
              "      <th></th>\n",
              "    </tr>\n",
              "  </thead>\n",
              "  <tbody>\n",
              "    <tr>\n",
              "      <th>A01852072Z7B68UHLI5UG</th>\n",
              "      <td>0</td>\n",
              "      <td>0</td>\n",
              "      <td>0</td>\n",
              "      <td>0</td>\n",
              "      <td>0</td>\n",
              "      <td>0</td>\n",
              "      <td>0</td>\n",
              "      <td>0</td>\n",
              "      <td>0</td>\n",
              "      <td>0</td>\n",
              "      <td>0</td>\n",
              "      <td>0</td>\n",
              "      <td>0</td>\n",
              "      <td>0</td>\n",
              "      <td>0</td>\n",
              "      <td>0</td>\n",
              "      <td>0</td>\n",
              "      <td>0</td>\n",
              "      <td>0</td>\n",
              "      <td>0</td>\n",
              "      <td>0</td>\n",
              "      <td>0</td>\n",
              "      <td>0</td>\n",
              "      <td>0</td>\n",
              "      <td>0</td>\n",
              "      <td>0</td>\n",
              "      <td>0</td>\n",
              "      <td>0</td>\n",
              "      <td>0</td>\n",
              "      <td>0</td>\n",
              "      <td>0</td>\n",
              "      <td>0</td>\n",
              "      <td>0</td>\n",
              "      <td>0</td>\n",
              "      <td>0</td>\n",
              "      <td>0</td>\n",
              "      <td>0</td>\n",
              "      <td>0</td>\n",
              "      <td>0</td>\n",
              "      <td>0</td>\n",
              "      <td>0</td>\n",
              "      <td>0</td>\n",
              "      <td>0</td>\n",
              "      <td>0</td>\n",
              "      <td>0</td>\n",
              "      <td>0</td>\n",
              "      <td>4</td>\n",
              "      <td>0</td>\n",
              "      <td>0</td>\n",
              "      <td>0</td>\n",
              "      <td>0</td>\n",
              "      <td>0</td>\n",
              "      <td>0</td>\n",
              "      <td>0</td>\n",
              "      <td>0</td>\n",
              "      <td>0</td>\n",
              "      <td>0</td>\n",
              "      <td>0</td>\n",
              "      <td>0</td>\n",
              "      <td>0</td>\n",
              "      <td>0</td>\n",
              "      <td>0</td>\n",
              "      <td>0</td>\n",
              "      <td>0</td>\n",
              "      <td>0</td>\n",
              "      <td>0</td>\n",
              "      <td>0</td>\n",
              "      <td>0</td>\n",
              "      <td>0</td>\n",
              "      <td>0</td>\n",
              "      <td>0</td>\n",
              "      <td>0</td>\n",
              "      <td>0</td>\n",
              "      <td>0</td>\n",
              "      <td>0</td>\n",
              "      <td>0</td>\n",
              "    </tr>\n",
              "    <tr>\n",
              "      <th>A0266076X6KPZ6CCHGVS</th>\n",
              "      <td>0</td>\n",
              "      <td>0</td>\n",
              "      <td>0</td>\n",
              "      <td>0</td>\n",
              "      <td>0</td>\n",
              "      <td>0</td>\n",
              "      <td>0</td>\n",
              "      <td>0</td>\n",
              "      <td>0</td>\n",
              "      <td>0</td>\n",
              "      <td>0</td>\n",
              "      <td>0</td>\n",
              "      <td>0</td>\n",
              "      <td>0</td>\n",
              "      <td>0</td>\n",
              "      <td>0</td>\n",
              "      <td>0</td>\n",
              "      <td>0</td>\n",
              "      <td>0</td>\n",
              "      <td>0</td>\n",
              "      <td>0</td>\n",
              "      <td>0</td>\n",
              "      <td>0</td>\n",
              "      <td>0</td>\n",
              "      <td>0</td>\n",
              "      <td>0</td>\n",
              "      <td>0</td>\n",
              "      <td>0</td>\n",
              "      <td>0</td>\n",
              "      <td>0</td>\n",
              "      <td>0</td>\n",
              "      <td>0</td>\n",
              "      <td>0</td>\n",
              "      <td>0</td>\n",
              "      <td>0</td>\n",
              "      <td>0</td>\n",
              "      <td>0</td>\n",
              "      <td>0</td>\n",
              "      <td>0</td>\n",
              "      <td>0</td>\n",
              "      <td>5</td>\n",
              "      <td>0</td>\n",
              "      <td>0</td>\n",
              "      <td>0</td>\n",
              "      <td>0</td>\n",
              "      <td>0</td>\n",
              "      <td>0</td>\n",
              "      <td>0</td>\n",
              "      <td>0</td>\n",
              "      <td>0</td>\n",
              "      <td>0</td>\n",
              "      <td>0</td>\n",
              "      <td>0</td>\n",
              "      <td>0</td>\n",
              "      <td>0</td>\n",
              "      <td>0</td>\n",
              "      <td>0</td>\n",
              "      <td>0</td>\n",
              "      <td>0</td>\n",
              "      <td>0</td>\n",
              "      <td>0</td>\n",
              "      <td>0</td>\n",
              "      <td>0</td>\n",
              "      <td>0</td>\n",
              "      <td>0</td>\n",
              "      <td>0</td>\n",
              "      <td>0</td>\n",
              "      <td>0</td>\n",
              "      <td>0</td>\n",
              "      <td>0</td>\n",
              "      <td>0</td>\n",
              "      <td>0</td>\n",
              "      <td>0</td>\n",
              "      <td>0</td>\n",
              "      <td>0</td>\n",
              "      <td>0</td>\n",
              "    </tr>\n",
              "    <tr>\n",
              "      <th>A0293130VTX2ZXA70JQS</th>\n",
              "      <td>5</td>\n",
              "      <td>0</td>\n",
              "      <td>0</td>\n",
              "      <td>0</td>\n",
              "      <td>0</td>\n",
              "      <td>0</td>\n",
              "      <td>0</td>\n",
              "      <td>0</td>\n",
              "      <td>0</td>\n",
              "      <td>0</td>\n",
              "      <td>0</td>\n",
              "      <td>0</td>\n",
              "      <td>0</td>\n",
              "      <td>0</td>\n",
              "      <td>0</td>\n",
              "      <td>0</td>\n",
              "      <td>0</td>\n",
              "      <td>0</td>\n",
              "      <td>0</td>\n",
              "      <td>0</td>\n",
              "      <td>0</td>\n",
              "      <td>0</td>\n",
              "      <td>0</td>\n",
              "      <td>0</td>\n",
              "      <td>0</td>\n",
              "      <td>0</td>\n",
              "      <td>0</td>\n",
              "      <td>0</td>\n",
              "      <td>0</td>\n",
              "      <td>0</td>\n",
              "      <td>0</td>\n",
              "      <td>0</td>\n",
              "      <td>0</td>\n",
              "      <td>0</td>\n",
              "      <td>0</td>\n",
              "      <td>0</td>\n",
              "      <td>0</td>\n",
              "      <td>0</td>\n",
              "      <td>0</td>\n",
              "      <td>0</td>\n",
              "      <td>0</td>\n",
              "      <td>0</td>\n",
              "      <td>0</td>\n",
              "      <td>0</td>\n",
              "      <td>0</td>\n",
              "      <td>0</td>\n",
              "      <td>0</td>\n",
              "      <td>0</td>\n",
              "      <td>0</td>\n",
              "      <td>0</td>\n",
              "      <td>0</td>\n",
              "      <td>0</td>\n",
              "      <td>0</td>\n",
              "      <td>0</td>\n",
              "      <td>0</td>\n",
              "      <td>0</td>\n",
              "      <td>0</td>\n",
              "      <td>0</td>\n",
              "      <td>0</td>\n",
              "      <td>0</td>\n",
              "      <td>0</td>\n",
              "      <td>0</td>\n",
              "      <td>0</td>\n",
              "      <td>0</td>\n",
              "      <td>0</td>\n",
              "      <td>0</td>\n",
              "      <td>0</td>\n",
              "      <td>0</td>\n",
              "      <td>0</td>\n",
              "      <td>0</td>\n",
              "      <td>0</td>\n",
              "      <td>0</td>\n",
              "      <td>0</td>\n",
              "      <td>0</td>\n",
              "      <td>0</td>\n",
              "      <td>0</td>\n",
              "    </tr>\n",
              "    <tr>\n",
              "      <th>A030530627MK66BD8V4LN</th>\n",
              "      <td>4</td>\n",
              "      <td>0</td>\n",
              "      <td>0</td>\n",
              "      <td>0</td>\n",
              "      <td>0</td>\n",
              "      <td>0</td>\n",
              "      <td>0</td>\n",
              "      <td>0</td>\n",
              "      <td>0</td>\n",
              "      <td>0</td>\n",
              "      <td>0</td>\n",
              "      <td>0</td>\n",
              "      <td>0</td>\n",
              "      <td>0</td>\n",
              "      <td>0</td>\n",
              "      <td>0</td>\n",
              "      <td>0</td>\n",
              "      <td>0</td>\n",
              "      <td>0</td>\n",
              "      <td>0</td>\n",
              "      <td>0</td>\n",
              "      <td>0</td>\n",
              "      <td>0</td>\n",
              "      <td>0</td>\n",
              "      <td>0</td>\n",
              "      <td>0</td>\n",
              "      <td>0</td>\n",
              "      <td>0</td>\n",
              "      <td>0</td>\n",
              "      <td>0</td>\n",
              "      <td>0</td>\n",
              "      <td>0</td>\n",
              "      <td>0</td>\n",
              "      <td>0</td>\n",
              "      <td>0</td>\n",
              "      <td>0</td>\n",
              "      <td>0</td>\n",
              "      <td>0</td>\n",
              "      <td>0</td>\n",
              "      <td>0</td>\n",
              "      <td>0</td>\n",
              "      <td>0</td>\n",
              "      <td>0</td>\n",
              "      <td>0</td>\n",
              "      <td>0</td>\n",
              "      <td>0</td>\n",
              "      <td>0</td>\n",
              "      <td>0</td>\n",
              "      <td>0</td>\n",
              "      <td>0</td>\n",
              "      <td>0</td>\n",
              "      <td>0</td>\n",
              "      <td>0</td>\n",
              "      <td>0</td>\n",
              "      <td>0</td>\n",
              "      <td>0</td>\n",
              "      <td>0</td>\n",
              "      <td>0</td>\n",
              "      <td>0</td>\n",
              "      <td>0</td>\n",
              "      <td>0</td>\n",
              "      <td>0</td>\n",
              "      <td>0</td>\n",
              "      <td>0</td>\n",
              "      <td>0</td>\n",
              "      <td>0</td>\n",
              "      <td>0</td>\n",
              "      <td>0</td>\n",
              "      <td>0</td>\n",
              "      <td>0</td>\n",
              "      <td>0</td>\n",
              "      <td>0</td>\n",
              "      <td>0</td>\n",
              "      <td>0</td>\n",
              "      <td>0</td>\n",
              "      <td>0</td>\n",
              "    </tr>\n",
              "    <tr>\n",
              "      <th>A0571176384K8RBNKGF8O</th>\n",
              "      <td>0</td>\n",
              "      <td>0</td>\n",
              "      <td>0</td>\n",
              "      <td>0</td>\n",
              "      <td>0</td>\n",
              "      <td>0</td>\n",
              "      <td>0</td>\n",
              "      <td>0</td>\n",
              "      <td>0</td>\n",
              "      <td>0</td>\n",
              "      <td>0</td>\n",
              "      <td>0</td>\n",
              "      <td>0</td>\n",
              "      <td>0</td>\n",
              "      <td>0</td>\n",
              "      <td>0</td>\n",
              "      <td>0</td>\n",
              "      <td>0</td>\n",
              "      <td>0</td>\n",
              "      <td>0</td>\n",
              "      <td>0</td>\n",
              "      <td>0</td>\n",
              "      <td>0</td>\n",
              "      <td>0</td>\n",
              "      <td>0</td>\n",
              "      <td>0</td>\n",
              "      <td>0</td>\n",
              "      <td>0</td>\n",
              "      <td>0</td>\n",
              "      <td>0</td>\n",
              "      <td>0</td>\n",
              "      <td>0</td>\n",
              "      <td>0</td>\n",
              "      <td>0</td>\n",
              "      <td>0</td>\n",
              "      <td>0</td>\n",
              "      <td>0</td>\n",
              "      <td>0</td>\n",
              "      <td>0</td>\n",
              "      <td>0</td>\n",
              "      <td>0</td>\n",
              "      <td>0</td>\n",
              "      <td>0</td>\n",
              "      <td>0</td>\n",
              "      <td>0</td>\n",
              "      <td>0</td>\n",
              "      <td>0</td>\n",
              "      <td>0</td>\n",
              "      <td>0</td>\n",
              "      <td>0</td>\n",
              "      <td>0</td>\n",
              "      <td>0</td>\n",
              "      <td>0</td>\n",
              "      <td>0</td>\n",
              "      <td>0</td>\n",
              "      <td>0</td>\n",
              "      <td>0</td>\n",
              "      <td>0</td>\n",
              "      <td>0</td>\n",
              "      <td>0</td>\n",
              "      <td>5</td>\n",
              "      <td>0</td>\n",
              "      <td>0</td>\n",
              "      <td>0</td>\n",
              "      <td>0</td>\n",
              "      <td>0</td>\n",
              "      <td>0</td>\n",
              "      <td>0</td>\n",
              "      <td>0</td>\n",
              "      <td>0</td>\n",
              "      <td>0</td>\n",
              "      <td>0</td>\n",
              "      <td>0</td>\n",
              "      <td>0</td>\n",
              "      <td>0</td>\n",
              "      <td>0</td>\n",
              "    </tr>\n",
              "  </tbody>\n",
              "</table>\n",
              "</div>"
            ],
            "text/plain": [
              "ProductId              0972683275  1400501466  ...  B00000JYWQ  B00000K135\n",
              "UserId                                         ...                        \n",
              "A01852072Z7B68UHLI5UG           0           0  ...           0           0\n",
              "A0266076X6KPZ6CCHGVS            0           0  ...           0           0\n",
              "A0293130VTX2ZXA70JQS            5           0  ...           0           0\n",
              "A030530627MK66BD8V4LN           4           0  ...           0           0\n",
              "A0571176384K8RBNKGF8O           0           0  ...           0           0\n",
              "\n",
              "[5 rows x 76 columns]"
            ]
          },
          "metadata": {
            "tags": []
          },
          "execution_count": 65
        }
      ]
    },
    {
      "cell_type": "markdown",
      "metadata": {
        "id": "QwAfjocSx5jU"
      },
      "source": [
        "As expected, the utility matrix obtaned above is sparce, I have filled up the unknown values wth 0.\n",
        "\n"
      ]
    },
    {
      "cell_type": "code",
      "metadata": {
        "colab": {
          "base_uri": "https://localhost:8080/"
        },
        "id": "iuxkSxdrx5jV",
        "outputId": "c685b9d2-539b-4670-c848-f93a9ff0f6e6"
      },
      "source": [
        "ratings_matrix.shape"
      ],
      "execution_count": 66,
      "outputs": [
        {
          "output_type": "execute_result",
          "data": {
            "text/plain": [
              "(9832, 76)"
            ]
          },
          "metadata": {
            "tags": []
          },
          "execution_count": 66
        }
      ]
    },
    {
      "cell_type": "markdown",
      "metadata": {
        "id": "IcRvHJvJx5jV"
      },
      "source": [
        "Transposing the matrix"
      ]
    },
    {
      "cell_type": "code",
      "metadata": {
        "colab": {
          "base_uri": "https://localhost:8080/",
          "height": 284
        },
        "id": "BjrhoZLlx5jV",
        "outputId": "24b77e11-c705-4791-8bc8-6fcb16589823"
      },
      "source": [
        "X = ratings_matrix.T # .T - is a transpose function\n",
        "X.head()"
      ],
      "execution_count": 69,
      "outputs": [
        {
          "output_type": "execute_result",
          "data": {
            "text/html": [
              "<div>\n",
              "<style scoped>\n",
              "    .dataframe tbody tr th:only-of-type {\n",
              "        vertical-align: middle;\n",
              "    }\n",
              "\n",
              "    .dataframe tbody tr th {\n",
              "        vertical-align: top;\n",
              "    }\n",
              "\n",
              "    .dataframe thead th {\n",
              "        text-align: right;\n",
              "    }\n",
              "</style>\n",
              "<table border=\"1\" class=\"dataframe\">\n",
              "  <thead>\n",
              "    <tr style=\"text-align: right;\">\n",
              "      <th>UserId</th>\n",
              "      <th>A01852072Z7B68UHLI5UG</th>\n",
              "      <th>A0266076X6KPZ6CCHGVS</th>\n",
              "      <th>A0293130VTX2ZXA70JQS</th>\n",
              "      <th>A030530627MK66BD8V4LN</th>\n",
              "      <th>A0571176384K8RBNKGF8O</th>\n",
              "      <th>A0590501PZ7HOWJKBGQ4</th>\n",
              "      <th>A0641581307AKT5MAOU0Q</th>\n",
              "      <th>A076219533YHEV2LJO988</th>\n",
              "      <th>A0821988FXKFYX53V4QG</th>\n",
              "      <th>A099626739FNCRNHIKBCG</th>\n",
              "      <th>A1003EYWAQFOUG</th>\n",
              "      <th>A100LLXMXDZHJZ</th>\n",
              "      <th>A10121433FMMZNY18RWZ8</th>\n",
              "      <th>A1013OEQCVS6AR</th>\n",
              "      <th>A1013Q8NLCY56R</th>\n",
              "      <th>A101DJDPGK0Q46</th>\n",
              "      <th>A101IWCCIWQWC9</th>\n",
              "      <th>A10285OSAM1MZK</th>\n",
              "      <th>A102IUFPXVDRB6</th>\n",
              "      <th>A102L0RVI4LHH3</th>\n",
              "      <th>A102RLOGIBBDMW</th>\n",
              "      <th>A102ZABPUPNYCT</th>\n",
              "      <th>A1038957GWRBP375RU5T</th>\n",
              "      <th>A103XY7DJYZHFN</th>\n",
              "      <th>A104VHQ06KFLDT</th>\n",
              "      <th>A1058D8UFZL711</th>\n",
              "      <th>A105AZN9C8UAOJ</th>\n",
              "      <th>A105TOJ6LTVMBG</th>\n",
              "      <th>A106YUCY4SVX1D</th>\n",
              "      <th>A1077JEY0CE3BB</th>\n",
              "      <th>A1079KKA0AXSL3</th>\n",
              "      <th>A107I2HYD2JZ5G</th>\n",
              "      <th>A1089S59XSJT2T</th>\n",
              "      <th>A108LYH0NZ9919</th>\n",
              "      <th>A108UXJTIV8XXY</th>\n",
              "      <th>A10956KAP9F1CO</th>\n",
              "      <th>A109ZR833WIFQS</th>\n",
              "      <th>A10BH1JDT6SNGA</th>\n",
              "      <th>A10BOETDPAFJ4C</th>\n",
              "      <th>A10CRW7XRJBJ2G</th>\n",
              "      <th>...</th>\n",
              "      <th>AZKKZ58QBXZUA</th>\n",
              "      <th>AZKOO6TVQBDAF</th>\n",
              "      <th>AZL95QPWJDM3Y</th>\n",
              "      <th>AZM8PD2KBVXN5</th>\n",
              "      <th>AZMCJ61JS6L3X</th>\n",
              "      <th>AZMY6E8B52L2T</th>\n",
              "      <th>AZN6Z0QRMZYX8</th>\n",
              "      <th>AZNMO6T8G0ZEU</th>\n",
              "      <th>AZNVF1G1GJRR4</th>\n",
              "      <th>AZO3DZAJ8S0D9</th>\n",
              "      <th>AZODG8OG0CETL</th>\n",
              "      <th>AZOFJX627J181</th>\n",
              "      <th>AZOPTWUSS6UM0</th>\n",
              "      <th>AZOTUFIYPVNDT</th>\n",
              "      <th>AZPPZOYTNLEN0</th>\n",
              "      <th>AZPT44204EODM</th>\n",
              "      <th>AZPT6K5K0IVCT</th>\n",
              "      <th>AZPYIAOEAV3OZ</th>\n",
              "      <th>AZQ2YSCWSKWX6</th>\n",
              "      <th>AZQ9DYG38GVBR</th>\n",
              "      <th>AZQJQBJ75DHMS</th>\n",
              "      <th>AZQOWHUHXMIMS</th>\n",
              "      <th>AZQQVI9RHJYH6</th>\n",
              "      <th>AZQTJ6HUS5L2Q</th>\n",
              "      <th>AZRPGTU8A7KD5</th>\n",
              "      <th>AZS8W54PXQ01W</th>\n",
              "      <th>AZSUNAT0BRQDU</th>\n",
              "      <th>AZTC7YC8PKG39</th>\n",
              "      <th>AZTC8ZV20NO1D</th>\n",
              "      <th>AZV9WA9MNT0FB</th>\n",
              "      <th>AZWOPBY75SGAM</th>\n",
              "      <th>AZX0ZDVAFMN78</th>\n",
              "      <th>AZX5LAN9JEAFF</th>\n",
              "      <th>AZX7I110AF0W2</th>\n",
              "      <th>AZXKUK895VGSM</th>\n",
              "      <th>AZXP46IB63PU8</th>\n",
              "      <th>AZYTSU42BZ7TP</th>\n",
              "      <th>AZZGJ2KMWB7R</th>\n",
              "      <th>AZZMV5VT9W7Y8</th>\n",
              "      <th>AZZST8OYL5P4Q</th>\n",
              "    </tr>\n",
              "    <tr>\n",
              "      <th>ProductId</th>\n",
              "      <th></th>\n",
              "      <th></th>\n",
              "      <th></th>\n",
              "      <th></th>\n",
              "      <th></th>\n",
              "      <th></th>\n",
              "      <th></th>\n",
              "      <th></th>\n",
              "      <th></th>\n",
              "      <th></th>\n",
              "      <th></th>\n",
              "      <th></th>\n",
              "      <th></th>\n",
              "      <th></th>\n",
              "      <th></th>\n",
              "      <th></th>\n",
              "      <th></th>\n",
              "      <th></th>\n",
              "      <th></th>\n",
              "      <th></th>\n",
              "      <th></th>\n",
              "      <th></th>\n",
              "      <th></th>\n",
              "      <th></th>\n",
              "      <th></th>\n",
              "      <th></th>\n",
              "      <th></th>\n",
              "      <th></th>\n",
              "      <th></th>\n",
              "      <th></th>\n",
              "      <th></th>\n",
              "      <th></th>\n",
              "      <th></th>\n",
              "      <th></th>\n",
              "      <th></th>\n",
              "      <th></th>\n",
              "      <th></th>\n",
              "      <th></th>\n",
              "      <th></th>\n",
              "      <th></th>\n",
              "      <th></th>\n",
              "      <th></th>\n",
              "      <th></th>\n",
              "      <th></th>\n",
              "      <th></th>\n",
              "      <th></th>\n",
              "      <th></th>\n",
              "      <th></th>\n",
              "      <th></th>\n",
              "      <th></th>\n",
              "      <th></th>\n",
              "      <th></th>\n",
              "      <th></th>\n",
              "      <th></th>\n",
              "      <th></th>\n",
              "      <th></th>\n",
              "      <th></th>\n",
              "      <th></th>\n",
              "      <th></th>\n",
              "      <th></th>\n",
              "      <th></th>\n",
              "      <th></th>\n",
              "      <th></th>\n",
              "      <th></th>\n",
              "      <th></th>\n",
              "      <th></th>\n",
              "      <th></th>\n",
              "      <th></th>\n",
              "      <th></th>\n",
              "      <th></th>\n",
              "      <th></th>\n",
              "      <th></th>\n",
              "      <th></th>\n",
              "      <th></th>\n",
              "      <th></th>\n",
              "      <th></th>\n",
              "      <th></th>\n",
              "      <th></th>\n",
              "      <th></th>\n",
              "      <th></th>\n",
              "      <th></th>\n",
              "    </tr>\n",
              "  </thead>\n",
              "  <tbody>\n",
              "    <tr>\n",
              "      <th>0972683275</th>\n",
              "      <td>0</td>\n",
              "      <td>0</td>\n",
              "      <td>5</td>\n",
              "      <td>4</td>\n",
              "      <td>0</td>\n",
              "      <td>0</td>\n",
              "      <td>0</td>\n",
              "      <td>0</td>\n",
              "      <td>0</td>\n",
              "      <td>0</td>\n",
              "      <td>0</td>\n",
              "      <td>0</td>\n",
              "      <td>0</td>\n",
              "      <td>0</td>\n",
              "      <td>0</td>\n",
              "      <td>0</td>\n",
              "      <td>0</td>\n",
              "      <td>0</td>\n",
              "      <td>0</td>\n",
              "      <td>0</td>\n",
              "      <td>0</td>\n",
              "      <td>0</td>\n",
              "      <td>5</td>\n",
              "      <td>0</td>\n",
              "      <td>0</td>\n",
              "      <td>0</td>\n",
              "      <td>0</td>\n",
              "      <td>0</td>\n",
              "      <td>5</td>\n",
              "      <td>0</td>\n",
              "      <td>4</td>\n",
              "      <td>0</td>\n",
              "      <td>0</td>\n",
              "      <td>0</td>\n",
              "      <td>5</td>\n",
              "      <td>0</td>\n",
              "      <td>0</td>\n",
              "      <td>0</td>\n",
              "      <td>0</td>\n",
              "      <td>0</td>\n",
              "      <td>...</td>\n",
              "      <td>0</td>\n",
              "      <td>0</td>\n",
              "      <td>0</td>\n",
              "      <td>5</td>\n",
              "      <td>0</td>\n",
              "      <td>0</td>\n",
              "      <td>0</td>\n",
              "      <td>0</td>\n",
              "      <td>0</td>\n",
              "      <td>5</td>\n",
              "      <td>0</td>\n",
              "      <td>0</td>\n",
              "      <td>0</td>\n",
              "      <td>0</td>\n",
              "      <td>0</td>\n",
              "      <td>5</td>\n",
              "      <td>0</td>\n",
              "      <td>0</td>\n",
              "      <td>0</td>\n",
              "      <td>0</td>\n",
              "      <td>0</td>\n",
              "      <td>0</td>\n",
              "      <td>0</td>\n",
              "      <td>0</td>\n",
              "      <td>0</td>\n",
              "      <td>0</td>\n",
              "      <td>0</td>\n",
              "      <td>5</td>\n",
              "      <td>0</td>\n",
              "      <td>0</td>\n",
              "      <td>0</td>\n",
              "      <td>0</td>\n",
              "      <td>0</td>\n",
              "      <td>0</td>\n",
              "      <td>0</td>\n",
              "      <td>0</td>\n",
              "      <td>0</td>\n",
              "      <td>0</td>\n",
              "      <td>0</td>\n",
              "      <td>0</td>\n",
              "    </tr>\n",
              "    <tr>\n",
              "      <th>1400501466</th>\n",
              "      <td>0</td>\n",
              "      <td>0</td>\n",
              "      <td>0</td>\n",
              "      <td>0</td>\n",
              "      <td>0</td>\n",
              "      <td>0</td>\n",
              "      <td>0</td>\n",
              "      <td>0</td>\n",
              "      <td>0</td>\n",
              "      <td>0</td>\n",
              "      <td>0</td>\n",
              "      <td>0</td>\n",
              "      <td>0</td>\n",
              "      <td>0</td>\n",
              "      <td>0</td>\n",
              "      <td>0</td>\n",
              "      <td>0</td>\n",
              "      <td>0</td>\n",
              "      <td>0</td>\n",
              "      <td>0</td>\n",
              "      <td>0</td>\n",
              "      <td>0</td>\n",
              "      <td>0</td>\n",
              "      <td>0</td>\n",
              "      <td>0</td>\n",
              "      <td>0</td>\n",
              "      <td>0</td>\n",
              "      <td>0</td>\n",
              "      <td>0</td>\n",
              "      <td>0</td>\n",
              "      <td>0</td>\n",
              "      <td>5</td>\n",
              "      <td>5</td>\n",
              "      <td>0</td>\n",
              "      <td>0</td>\n",
              "      <td>0</td>\n",
              "      <td>0</td>\n",
              "      <td>0</td>\n",
              "      <td>0</td>\n",
              "      <td>0</td>\n",
              "      <td>...</td>\n",
              "      <td>0</td>\n",
              "      <td>0</td>\n",
              "      <td>0</td>\n",
              "      <td>0</td>\n",
              "      <td>0</td>\n",
              "      <td>0</td>\n",
              "      <td>0</td>\n",
              "      <td>0</td>\n",
              "      <td>0</td>\n",
              "      <td>0</td>\n",
              "      <td>0</td>\n",
              "      <td>0</td>\n",
              "      <td>0</td>\n",
              "      <td>0</td>\n",
              "      <td>0</td>\n",
              "      <td>0</td>\n",
              "      <td>0</td>\n",
              "      <td>0</td>\n",
              "      <td>0</td>\n",
              "      <td>0</td>\n",
              "      <td>0</td>\n",
              "      <td>0</td>\n",
              "      <td>3</td>\n",
              "      <td>0</td>\n",
              "      <td>0</td>\n",
              "      <td>0</td>\n",
              "      <td>0</td>\n",
              "      <td>0</td>\n",
              "      <td>0</td>\n",
              "      <td>0</td>\n",
              "      <td>0</td>\n",
              "      <td>0</td>\n",
              "      <td>0</td>\n",
              "      <td>0</td>\n",
              "      <td>0</td>\n",
              "      <td>0</td>\n",
              "      <td>0</td>\n",
              "      <td>0</td>\n",
              "      <td>0</td>\n",
              "      <td>0</td>\n",
              "    </tr>\n",
              "    <tr>\n",
              "      <th>1400501520</th>\n",
              "      <td>0</td>\n",
              "      <td>0</td>\n",
              "      <td>0</td>\n",
              "      <td>0</td>\n",
              "      <td>0</td>\n",
              "      <td>0</td>\n",
              "      <td>0</td>\n",
              "      <td>0</td>\n",
              "      <td>0</td>\n",
              "      <td>3</td>\n",
              "      <td>0</td>\n",
              "      <td>0</td>\n",
              "      <td>0</td>\n",
              "      <td>0</td>\n",
              "      <td>0</td>\n",
              "      <td>0</td>\n",
              "      <td>0</td>\n",
              "      <td>0</td>\n",
              "      <td>0</td>\n",
              "      <td>0</td>\n",
              "      <td>0</td>\n",
              "      <td>0</td>\n",
              "      <td>0</td>\n",
              "      <td>0</td>\n",
              "      <td>0</td>\n",
              "      <td>0</td>\n",
              "      <td>0</td>\n",
              "      <td>0</td>\n",
              "      <td>0</td>\n",
              "      <td>0</td>\n",
              "      <td>0</td>\n",
              "      <td>0</td>\n",
              "      <td>0</td>\n",
              "      <td>0</td>\n",
              "      <td>0</td>\n",
              "      <td>0</td>\n",
              "      <td>0</td>\n",
              "      <td>0</td>\n",
              "      <td>0</td>\n",
              "      <td>0</td>\n",
              "      <td>...</td>\n",
              "      <td>0</td>\n",
              "      <td>0</td>\n",
              "      <td>0</td>\n",
              "      <td>0</td>\n",
              "      <td>0</td>\n",
              "      <td>0</td>\n",
              "      <td>0</td>\n",
              "      <td>0</td>\n",
              "      <td>0</td>\n",
              "      <td>0</td>\n",
              "      <td>0</td>\n",
              "      <td>0</td>\n",
              "      <td>0</td>\n",
              "      <td>0</td>\n",
              "      <td>0</td>\n",
              "      <td>0</td>\n",
              "      <td>0</td>\n",
              "      <td>0</td>\n",
              "      <td>0</td>\n",
              "      <td>0</td>\n",
              "      <td>0</td>\n",
              "      <td>0</td>\n",
              "      <td>0</td>\n",
              "      <td>0</td>\n",
              "      <td>0</td>\n",
              "      <td>0</td>\n",
              "      <td>0</td>\n",
              "      <td>0</td>\n",
              "      <td>0</td>\n",
              "      <td>0</td>\n",
              "      <td>0</td>\n",
              "      <td>0</td>\n",
              "      <td>0</td>\n",
              "      <td>0</td>\n",
              "      <td>0</td>\n",
              "      <td>0</td>\n",
              "      <td>0</td>\n",
              "      <td>0</td>\n",
              "      <td>0</td>\n",
              "      <td>0</td>\n",
              "    </tr>\n",
              "    <tr>\n",
              "      <th>1400501776</th>\n",
              "      <td>0</td>\n",
              "      <td>0</td>\n",
              "      <td>0</td>\n",
              "      <td>0</td>\n",
              "      <td>0</td>\n",
              "      <td>0</td>\n",
              "      <td>0</td>\n",
              "      <td>0</td>\n",
              "      <td>0</td>\n",
              "      <td>0</td>\n",
              "      <td>0</td>\n",
              "      <td>0</td>\n",
              "      <td>0</td>\n",
              "      <td>0</td>\n",
              "      <td>0</td>\n",
              "      <td>0</td>\n",
              "      <td>0</td>\n",
              "      <td>0</td>\n",
              "      <td>0</td>\n",
              "      <td>0</td>\n",
              "      <td>0</td>\n",
              "      <td>0</td>\n",
              "      <td>0</td>\n",
              "      <td>0</td>\n",
              "      <td>0</td>\n",
              "      <td>0</td>\n",
              "      <td>0</td>\n",
              "      <td>0</td>\n",
              "      <td>0</td>\n",
              "      <td>0</td>\n",
              "      <td>0</td>\n",
              "      <td>0</td>\n",
              "      <td>0</td>\n",
              "      <td>0</td>\n",
              "      <td>0</td>\n",
              "      <td>0</td>\n",
              "      <td>0</td>\n",
              "      <td>0</td>\n",
              "      <td>0</td>\n",
              "      <td>0</td>\n",
              "      <td>...</td>\n",
              "      <td>0</td>\n",
              "      <td>0</td>\n",
              "      <td>0</td>\n",
              "      <td>0</td>\n",
              "      <td>0</td>\n",
              "      <td>0</td>\n",
              "      <td>0</td>\n",
              "      <td>0</td>\n",
              "      <td>0</td>\n",
              "      <td>0</td>\n",
              "      <td>0</td>\n",
              "      <td>0</td>\n",
              "      <td>0</td>\n",
              "      <td>0</td>\n",
              "      <td>0</td>\n",
              "      <td>0</td>\n",
              "      <td>0</td>\n",
              "      <td>0</td>\n",
              "      <td>0</td>\n",
              "      <td>0</td>\n",
              "      <td>0</td>\n",
              "      <td>4</td>\n",
              "      <td>0</td>\n",
              "      <td>0</td>\n",
              "      <td>0</td>\n",
              "      <td>0</td>\n",
              "      <td>0</td>\n",
              "      <td>0</td>\n",
              "      <td>0</td>\n",
              "      <td>0</td>\n",
              "      <td>0</td>\n",
              "      <td>0</td>\n",
              "      <td>0</td>\n",
              "      <td>0</td>\n",
              "      <td>0</td>\n",
              "      <td>0</td>\n",
              "      <td>0</td>\n",
              "      <td>0</td>\n",
              "      <td>1</td>\n",
              "      <td>0</td>\n",
              "    </tr>\n",
              "    <tr>\n",
              "      <th>1400532620</th>\n",
              "      <td>0</td>\n",
              "      <td>0</td>\n",
              "      <td>0</td>\n",
              "      <td>0</td>\n",
              "      <td>0</td>\n",
              "      <td>0</td>\n",
              "      <td>0</td>\n",
              "      <td>0</td>\n",
              "      <td>0</td>\n",
              "      <td>0</td>\n",
              "      <td>0</td>\n",
              "      <td>0</td>\n",
              "      <td>0</td>\n",
              "      <td>0</td>\n",
              "      <td>0</td>\n",
              "      <td>5</td>\n",
              "      <td>0</td>\n",
              "      <td>0</td>\n",
              "      <td>0</td>\n",
              "      <td>0</td>\n",
              "      <td>0</td>\n",
              "      <td>0</td>\n",
              "      <td>0</td>\n",
              "      <td>0</td>\n",
              "      <td>0</td>\n",
              "      <td>0</td>\n",
              "      <td>0</td>\n",
              "      <td>0</td>\n",
              "      <td>0</td>\n",
              "      <td>0</td>\n",
              "      <td>0</td>\n",
              "      <td>0</td>\n",
              "      <td>0</td>\n",
              "      <td>0</td>\n",
              "      <td>0</td>\n",
              "      <td>0</td>\n",
              "      <td>0</td>\n",
              "      <td>0</td>\n",
              "      <td>5</td>\n",
              "      <td>0</td>\n",
              "      <td>...</td>\n",
              "      <td>0</td>\n",
              "      <td>0</td>\n",
              "      <td>0</td>\n",
              "      <td>0</td>\n",
              "      <td>0</td>\n",
              "      <td>0</td>\n",
              "      <td>0</td>\n",
              "      <td>0</td>\n",
              "      <td>0</td>\n",
              "      <td>0</td>\n",
              "      <td>0</td>\n",
              "      <td>0</td>\n",
              "      <td>0</td>\n",
              "      <td>0</td>\n",
              "      <td>0</td>\n",
              "      <td>0</td>\n",
              "      <td>0</td>\n",
              "      <td>0</td>\n",
              "      <td>0</td>\n",
              "      <td>0</td>\n",
              "      <td>0</td>\n",
              "      <td>0</td>\n",
              "      <td>0</td>\n",
              "      <td>0</td>\n",
              "      <td>0</td>\n",
              "      <td>0</td>\n",
              "      <td>0</td>\n",
              "      <td>0</td>\n",
              "      <td>0</td>\n",
              "      <td>0</td>\n",
              "      <td>0</td>\n",
              "      <td>0</td>\n",
              "      <td>0</td>\n",
              "      <td>0</td>\n",
              "      <td>0</td>\n",
              "      <td>0</td>\n",
              "      <td>0</td>\n",
              "      <td>0</td>\n",
              "      <td>0</td>\n",
              "      <td>0</td>\n",
              "    </tr>\n",
              "  </tbody>\n",
              "</table>\n",
              "<p>5 rows × 9832 columns</p>\n",
              "</div>"
            ],
            "text/plain": [
              "UserId      A01852072Z7B68UHLI5UG  ...  AZZST8OYL5P4Q\n",
              "ProductId                          ...               \n",
              "0972683275                      0  ...              0\n",
              "1400501466                      0  ...              0\n",
              "1400501520                      0  ...              0\n",
              "1400501776                      0  ...              0\n",
              "1400532620                      0  ...              0\n",
              "\n",
              "[5 rows x 9832 columns]"
            ]
          },
          "metadata": {
            "tags": []
          },
          "execution_count": 69
        }
      ]
    },
    {
      "cell_type": "code",
      "metadata": {
        "_cell_guid": "79c7e3d0-c299-4dcb-8224-4455121ee9b0",
        "_uuid": "d629ff2d2480ee46fbb7e2d37f6b5fab8052498a",
        "colab": {
          "base_uri": "https://localhost:8080/"
        },
        "id": "WYWyMxhWx5jV",
        "outputId": "da4ea4d1-ccfa-4206-fbe5-7728dfd02b4b"
      },
      "source": [
        "X.shape"
      ],
      "execution_count": 70,
      "outputs": [
        {
          "output_type": "execute_result",
          "data": {
            "text/plain": [
              "(76, 9832)"
            ]
          },
          "metadata": {
            "tags": []
          },
          "execution_count": 70
        }
      ]
    },
    {
      "cell_type": "markdown",
      "metadata": {
        "id": "M-dmb_-sx5jW"
      },
      "source": [
        "Unique products in subset of data\n"
      ]
    },
    {
      "cell_type": "code",
      "metadata": {
        "id": "Xb7uBdzWx5jW"
      },
      "source": [
        "X1 = X"
      ],
      "execution_count": 71,
      "outputs": []
    },
    {
      "cell_type": "code",
      "metadata": {
        "colab": {
          "base_uri": "https://localhost:8080/"
        },
        "id": "IJeHfHpPx5jW",
        "outputId": "78c9bac1-67e8-457a-dcdf-2b77428c49de"
      },
      "source": [
        "#Decomposing the Matrix\n",
        "from sklearn.decomposition import TruncatedSVD\n",
        "\n",
        "SVD = TruncatedSVD(n_components=10)\n",
        "decomposed_matrix = SVD.fit_transform(X)\n",
        "decomposed_matrix.shape"
      ],
      "execution_count": 72,
      "outputs": [
        {
          "output_type": "execute_result",
          "data": {
            "text/plain": [
              "(76, 10)"
            ]
          },
          "metadata": {
            "tags": []
          },
          "execution_count": 72
        }
      ]
    },
    {
      "cell_type": "code",
      "metadata": {
        "colab": {
          "base_uri": "https://localhost:8080/"
        },
        "id": "LerFHy46x5jX",
        "outputId": "cb6f08c4-8051-4417-9644-1347f96d0c7d"
      },
      "source": [
        "#Correlation Matrix\n",
        "\n",
        "correlation_matrix = np.corrcoef(decomposed_matrix)\n",
        "correlation_matrix.shape"
      ],
      "execution_count": 73,
      "outputs": [
        {
          "output_type": "execute_result",
          "data": {
            "text/plain": [
              "(76, 76)"
            ]
          },
          "metadata": {
            "tags": []
          },
          "execution_count": 73
        }
      ]
    },
    {
      "cell_type": "code",
      "metadata": {
        "colab": {
          "base_uri": "https://localhost:8080/",
          "height": 35
        },
        "id": "6UPzcvbbx5ja",
        "outputId": "766ea6fd-1d41-44dc-a25b-d0a97a4aa58e"
      },
      "source": [
        "X.index[75]"
      ],
      "execution_count": 74,
      "outputs": [
        {
          "output_type": "execute_result",
          "data": {
            "application/vnd.google.colaboratory.intrinsic+json": {
              "type": "string"
            },
            "text/plain": [
              "'B00000K135'"
            ]
          },
          "metadata": {
            "tags": []
          },
          "execution_count": 74
        }
      ]
    },
    {
      "cell_type": "markdown",
      "metadata": {
        "id": "fyFhpAQYx5jb"
      },
      "source": [
        "Index # of product ID purchased by customer\n",
        "\n"
      ]
    },
    {
      "cell_type": "code",
      "metadata": {
        "colab": {
          "base_uri": "https://localhost:8080/"
        },
        "id": "nk98-3tvx5jb",
        "outputId": "80ea433f-fa14-474a-85d4-3da63ad40a3e"
      },
      "source": [
        "i = \"B00000K135\"\n",
        "\n",
        "product_names = list(X.index)\n",
        "product_ID = product_names.index(i)\n",
        "product_ID"
      ],
      "execution_count": 76,
      "outputs": [
        {
          "output_type": "execute_result",
          "data": {
            "text/plain": [
              "75"
            ]
          },
          "metadata": {
            "tags": []
          },
          "execution_count": 76
        }
      ]
    },
    {
      "cell_type": "markdown",
      "metadata": {
        "id": "GRhRBaGFx5jb"
      },
      "source": [
        "Correlation for all items with the item purchased by this customer based on items rated by other customers people who bought the same product"
      ]
    },
    {
      "cell_type": "code",
      "metadata": {
        "colab": {
          "base_uri": "https://localhost:8080/"
        },
        "id": "UV9A5QgLx5jb",
        "outputId": "f5553018-fad6-4dd2-f8bf-f78ba81f4fde"
      },
      "source": [
        "correlation_product_ID = correlation_matrix[product_ID]\n",
        "correlation_product_ID.shape"
      ],
      "execution_count": 77,
      "outputs": [
        {
          "output_type": "execute_result",
          "data": {
            "text/plain": [
              "(76,)"
            ]
          },
          "metadata": {
            "tags": []
          },
          "execution_count": 77
        }
      ]
    },
    {
      "cell_type": "markdown",
      "metadata": {
        "id": "QBKLcHkXx5jc"
      },
      "source": [
        "Recommending top 5 highly correlated products in sequence\n",
        "\n"
      ]
    },
    {
      "cell_type": "code",
      "metadata": {
        "colab": {
          "base_uri": "https://localhost:8080/"
        },
        "id": "tV5ZBF8wx5jc",
        "outputId": "96b6fada-e555-4178-e323-0d2f49bf4a01"
      },
      "source": [
        "Recommend = list(X.index[correlation_product_ID > 0.65])\n",
        "\n",
        "# Removes the item already bought by the customer\n",
        "Recommend.remove(i) \n",
        "\n",
        "Recommend[0:4]"
      ],
      "execution_count": 83,
      "outputs": [
        {
          "output_type": "execute_result",
          "data": {
            "text/plain": [
              "['1400501520', 'B00000J1U8', 'B00000J3Q7']"
            ]
          },
          "metadata": {
            "tags": []
          },
          "execution_count": 83
        }
      ]
    },
    {
      "cell_type": "markdown",
      "metadata": {
        "id": "ib-5iW4lx5jc"
      },
      "source": [
        "Here are the top 10 products to be displayed by the recommendation system to the above customer based on the purchase history of other customers in the website.\n"
      ]
    }
  ]
}